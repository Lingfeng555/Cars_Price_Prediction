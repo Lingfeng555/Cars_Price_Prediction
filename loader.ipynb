{
 "cells": [
  {
   "cell_type": "code",
   "execution_count": 2,
   "metadata": {},
   "outputs": [],
   "source": [
    "import re\n",
    "import os\n",
    "import json\n",
    "import pandas as pd"
   ]
  },
  {
   "cell_type": "code",
   "execution_count": 4,
   "metadata": {},
   "outputs": [
    {
     "name": "stderr",
     "output_type": "stream",
     "text": [
      "C:\\Users\\lingf\\AppData\\Local\\Temp\\ipykernel_5372\\1507112822.py:12: DtypeWarning: Columns (40,41,44,45,46,47) have mixed types. Specify dtype option on import or set low_memory=False.\n",
      "  df = pd.read_csv(file_path)\n",
      "C:\\Users\\lingf\\AppData\\Local\\Temp\\ipykernel_5372\\1507112822.py:12: DtypeWarning: Columns (40,41,44,45,46,47) have mixed types. Specify dtype option on import or set low_memory=False.\n",
      "  df = pd.read_csv(file_path)\n",
      "C:\\Users\\lingf\\AppData\\Local\\Temp\\ipykernel_5372\\1507112822.py:12: DtypeWarning: Columns (40,41,44,45,46,47) have mixed types. Specify dtype option on import or set low_memory=False.\n",
      "  df = pd.read_csv(file_path)\n",
      "C:\\Users\\lingf\\AppData\\Local\\Temp\\ipykernel_5372\\1507112822.py:12: DtypeWarning: Columns (40,41,44,45,46,47) have mixed types. Specify dtype option on import or set low_memory=False.\n",
      "  df = pd.read_csv(file_path)\n",
      "C:\\Users\\lingf\\AppData\\Local\\Temp\\ipykernel_5372\\1507112822.py:12: DtypeWarning: Columns (40,41,44,45,46,47) have mixed types. Specify dtype option on import or set low_memory=False.\n",
      "  df = pd.read_csv(file_path)\n",
      "C:\\Users\\lingf\\AppData\\Local\\Temp\\ipykernel_5372\\1507112822.py:12: DtypeWarning: Columns (40,41,44,45,46,47) have mixed types. Specify dtype option on import or set low_memory=False.\n",
      "  df = pd.read_csv(file_path)\n",
      "C:\\Users\\lingf\\AppData\\Local\\Temp\\ipykernel_5372\\1507112822.py:12: DtypeWarning: Columns (40,41,44,45,46,47) have mixed types. Specify dtype option on import or set low_memory=False.\n",
      "  df = pd.read_csv(file_path)\n"
     ]
    }
   ],
   "source": [
    "\n",
    "def merge_csv_files_from_folder(folder_path):\n",
    "    # Lista para almacenar los DataFrames\n",
    "    df_list = []\n",
    "\n",
    "    # Recorrer todos los archivos en la carpeta\n",
    "    for filename in os.listdir(folder_path):\n",
    "        if filename.endswith('.csv'):\n",
    "            # Obtener la ruta completa del archivo\n",
    "            file_path = os.path.join(folder_path, filename)\n",
    "            \n",
    "            # Leer el archivo CSV y agregarlo a la lista de DataFrames\n",
    "            df = pd.read_csv(file_path)\n",
    "            df_list.append(df)\n",
    "\n",
    "    # Concatenar todos los DataFrames en uno solo\n",
    "    if df_list:\n",
    "        merged_df = pd.concat(df_list, ignore_index=True)\n",
    "        return merged_df\n",
    "    else:\n",
    "        print(\"No se encontraron archivos CSV en la carpeta.\")\n",
    "        return pd.DataFrame()  \n",
    "\n",
    "data = merge_csv_files_from_folder(\"data_processed/csv/\")"
   ]
  },
  {
   "cell_type": "code",
   "execution_count": 5,
   "metadata": {},
   "outputs": [],
   "source": [
    "for colum in [40,41,44,45,46,47]:\n",
    "    data.iloc[:, colum] = data.iloc[:, colum].map({\"True\": True, \"False\": False})"
   ]
  },
  {
   "cell_type": "code",
   "execution_count": 9,
   "metadata": {},
   "outputs": [],
   "source": [
    "def find_dirty_columns(prefix): return [col for col in data.columns if prefix in col]"
   ]
  },
  {
   "cell_type": "markdown",
   "metadata": {},
   "source": [
    "# Clean Dirty Columns\n",
    "    Lets Clean some dirty data"
   ]
  },
  {
   "cell_type": "markdown",
   "metadata": {},
   "source": [
    "## Clean Confort\n"
   ]
  },
  {
   "cell_type": "code",
   "execution_count": 11,
   "metadata": {},
   "outputs": [
    {
     "name": "stdout",
     "output_type": "stream",
     "text": [
      "Confort_Aire\n",
      "Confort_Apertura\n",
      "Confort_Aviso\n",
      "Confort_Banda\n",
      "Confort_Calefacción\n",
      "Confort_Cierre\n",
      "Confort_Compartimentos\n",
      "Confort_Control\n",
      "Confort_Dirección\n",
      "Confort_Dos\n",
      "Confort_Elevalunas\n",
      "Confort_Faros\n",
      "Confort_Indicador\n",
      "Confort_Inmovilizador\n",
      "Confort_Inmovilizador\n",
      "\n",
      "Confort_Intermitentes\n",
      "Confort_Lavafaros\n",
      "Confort_Lavafaros\n",
      "\n",
      "Confort_Limpiaparabrisas\n",
      "Confort_Llave\n",
      "Confort_Luces\n",
      "Confort_Luz\n",
      "Confort_Memoria\n",
      "Confort_Protección\n",
      "Confort_Regulación\n",
      "Confort_Sistema\n",
      "Confort_Tapa\n",
      "Confort_Tarjeta\n",
      "Confort_Techo\n",
      "Confort_Testigo\n",
      "Confort_Una\n",
      "Confort_Volante\n"
     ]
    }
   ],
   "source": [
    "confort_columns = find_dirty_columns(\"Confort\")\n",
    "for x in confort_columns: print(x)"
   ]
  },
  {
   "cell_type": "markdown",
   "metadata": {},
   "source": [
    "## Clean Acabado Interior"
   ]
  }
 ],
 "metadata": {
  "kernelspec": {
   "display_name": "Python 3",
   "language": "python",
   "name": "python3"
  },
  "language_info": {
   "codemirror_mode": {
    "name": "ipython",
    "version": 3
   },
   "file_extension": ".py",
   "mimetype": "text/x-python",
   "name": "python",
   "nbconvert_exporter": "python",
   "pygments_lexer": "ipython3",
   "version": "3.12.6"
  }
 },
 "nbformat": 4,
 "nbformat_minor": 2
}
