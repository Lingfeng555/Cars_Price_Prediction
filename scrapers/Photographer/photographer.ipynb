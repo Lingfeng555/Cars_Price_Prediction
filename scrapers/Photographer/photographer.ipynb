{
 "cells": [
  {
   "cell_type": "code",
   "execution_count": 18,
   "metadata": {},
   "outputs": [],
   "source": [
    "import json\n",
    "import os \n",
    "import pandas as pd\n"
   ]
  },
  {
   "cell_type": "code",
   "execution_count": 2,
   "metadata": {},
   "outputs": [
    {
     "name": "stdout",
     "output_type": "stream",
     "text": [
      "196917\n"
     ]
    }
   ],
   "source": [
    "carpeta = '../../dataRAW/'\n",
    "\n",
    "lista_combinada = []\n",
    "\n",
    "for archivo in os.listdir(carpeta):\n",
    "    if archivo.endswith('.json'):\n",
    "        ruta_archivo = os.path.join(carpeta, archivo)  \n",
    "        with open(ruta_archivo, 'r') as f:\n",
    "            datos = json.load(f)\n",
    "            if isinstance(datos, list): \n",
    "                lista_combinada.extend(datos) \n",
    "\n",
    "print(len(lista_combinada))"
   ]
  },
  {
   "cell_type": "code",
   "execution_count": 3,
   "metadata": {},
   "outputs": [],
   "source": [
    "ids = []\n",
    "ids_vistos = set()\n",
    "\n",
    "for x in lista_combinada:\n",
    "    _id = x[\"id\"]\n",
    "    if _id not in ids_vistos:\n",
    "        ids.append(_id)  # Añadir a la lista manteniendo el orden\n",
    "        ids_vistos.add(_id)  # Añadir al conjunto para evitar duplicados"
   ]
  },
  {
   "cell_type": "code",
   "execution_count": 4,
   "metadata": {},
   "outputs": [],
   "source": [
    "def remove_duplicates(ids, list):\n",
    "    ret = []\n",
    "    i = 0\n",
    "    for id in ids:\n",
    "        while list[i][\"id\"] != id:\n",
    "            i = i+1\n",
    "        ret.append(list[i])\n",
    "    return ret\n",
    "\n",
    "data = remove_duplicates(ids, lista_combinada)\n",
    "data = [x for x in data if isinstance(x, dict)]\n"
   ]
  },
  {
   "cell_type": "code",
   "execution_count": 5,
   "metadata": {},
   "outputs": [
    {
     "name": "stdout",
     "output_type": "stream",
     "text": [
      "172111\n"
     ]
    }
   ],
   "source": [
    "print(len(data))"
   ]
  },
  {
   "cell_type": "code",
   "execution_count": 47,
   "metadata": {},
   "outputs": [],
   "source": [
    "'''\n",
    "bodyType None = Undetermined (can be anyone)\n",
    "bodyType 1 = Berlina\n",
    "bodyType 2 = Coupe\n",
    "bodyType 3 = Cabrio\n",
    "bodyType 4 = Familiar\n",
    "bodyType 5 = Monovolumen\n",
    "bodyType 6 = SUV\n",
    "bodyType 7 = Pick Up\n",
    "bodyType 8 = Furgoneta\n",
    "'''\n",
    "def assign_body_type(car):\n",
    "    try:\n",
    "\n",
    "        if not isinstance(car, dict): return None\n",
    "\n",
    "        if isinstance(car[\"bodyTypeId\"], str): return car[\"bodyTypeId\"]\n",
    "\n",
    "        typeID = car[\"bodyTypeId\"]\n",
    "        match typeID:\n",
    "            case None: return None\n",
    "            case 1: return \"Berlina\"\n",
    "            case 2: return \"Coupe\"\n",
    "            case 3: return \"Cabrio\"\n",
    "            case 4: return \"Familiar\" \n",
    "            case 5: return \"Monovolumen\"\n",
    "            case 6: return \"SUV\"\n",
    "            case 7: return \"Pick Up\"\n",
    "            case 8: return \"Furgoneta\"\n",
    "        return None\n",
    "    \n",
    "    except KeyError:\n",
    "        return None\n",
    "\n",
    "def extraer_marca(texto):\n",
    "    palabras = texto.split()  # Dividir el string por espacios\n",
    "    return palabras[0]\n",
    "\n",
    "def get_images(car):\n",
    "    if not isinstance(car, dict): return None\n",
    "    try:\n",
    "        ret = []\n",
    "        for resource in car[\"resources\"]:\n",
    "            if resource['type'] == 'IMAGE' : ret.append(resource['url'])\n",
    "        return ret\n",
    "    except KeyError as e:\n",
    "        print(\"uwu la clave no existe\")\n",
    "        return None"
   ]
  },
  {
   "cell_type": "code",
   "execution_count": 48,
   "metadata": {},
   "outputs": [],
   "source": [
    "ids = [x[\"id\"] for x in data]\n",
    "models = [assign_body_type(x) for x in data]\n",
    "brand = [extraer_marca(x[\"title\"]) for x in data]\n",
    "images = [get_images(x) for x in data]"
   ]
  },
  {
   "cell_type": "code",
   "execution_count": 49,
   "metadata": {},
   "outputs": [],
   "source": [
    "dataframe = pd.DataFrame({\"id\": ids, \"model\": models, \"brand\": brand, \"images\": images})"
   ]
  },
  {
   "cell_type": "code",
   "execution_count": 50,
   "metadata": {},
   "outputs": [
    {
     "data": {
      "text/html": [
       "<div>\n",
       "<style scoped>\n",
       "    .dataframe tbody tr th:only-of-type {\n",
       "        vertical-align: middle;\n",
       "    }\n",
       "\n",
       "    .dataframe tbody tr th {\n",
       "        vertical-align: top;\n",
       "    }\n",
       "\n",
       "    .dataframe thead th {\n",
       "        text-align: right;\n",
       "    }\n",
       "</style>\n",
       "<table border=\"1\" class=\"dataframe\">\n",
       "  <thead>\n",
       "    <tr style=\"text-align: right;\">\n",
       "      <th></th>\n",
       "      <th>id</th>\n",
       "      <th>model</th>\n",
       "      <th>brand</th>\n",
       "      <th>images</th>\n",
       "    </tr>\n",
       "  </thead>\n",
       "  <tbody>\n",
       "    <tr>\n",
       "      <th>0</th>\n",
       "      <td>58841374</td>\n",
       "      <td>Furgoneta</td>\n",
       "      <td>DACIA</td>\n",
       "      <td>[https://a.ccdn.es/cnet/2024/10/01/58841374/19...</td>\n",
       "    </tr>\n",
       "    <tr>\n",
       "      <th>1</th>\n",
       "      <td>58638307</td>\n",
       "      <td>SUV</td>\n",
       "      <td>MITSUBISHI</td>\n",
       "      <td>[https://a.ccdn.es/cnet/2024/09/04/58638307/19...</td>\n",
       "    </tr>\n",
       "    <tr>\n",
       "      <th>2</th>\n",
       "      <td>58798715</td>\n",
       "      <td>None</td>\n",
       "      <td>MERCEDES-BENZ</td>\n",
       "      <td>[https://a.ccdn.es/cnet/2024/09/25/58798715/19...</td>\n",
       "    </tr>\n",
       "    <tr>\n",
       "      <th>3</th>\n",
       "      <td>58887285</td>\n",
       "      <td>None</td>\n",
       "      <td>RENAULT</td>\n",
       "      <td>[https://a.ccdn.es/cnet/2024/10/06/58887285/19...</td>\n",
       "    </tr>\n",
       "    <tr>\n",
       "      <th>4</th>\n",
       "      <td>58765577</td>\n",
       "      <td>Furgoneta</td>\n",
       "      <td>RENAULT</td>\n",
       "      <td>[https://a.ccdn.es/cnet/2024/09/20/58765577/19...</td>\n",
       "    </tr>\n",
       "    <tr>\n",
       "      <th>...</th>\n",
       "      <td>...</td>\n",
       "      <td>...</td>\n",
       "      <td>...</td>\n",
       "      <td>...</td>\n",
       "    </tr>\n",
       "    <tr>\n",
       "      <th>172106</th>\n",
       "      <td>58788502</td>\n",
       "      <td>Berlina</td>\n",
       "      <td>FORD</td>\n",
       "      <td>[https://a.ccdn.es/cnet/vehicles/16407331/2b65...</td>\n",
       "    </tr>\n",
       "    <tr>\n",
       "      <th>172107</th>\n",
       "      <td>58600883</td>\n",
       "      <td>Berlina</td>\n",
       "      <td>FORD</td>\n",
       "      <td>[https://a.ccdn.es/cnet/vehicles/16259881/e479...</td>\n",
       "    </tr>\n",
       "    <tr>\n",
       "      <th>172108</th>\n",
       "      <td>58780688</td>\n",
       "      <td>Berlina</td>\n",
       "      <td>VOLKSWAGEN</td>\n",
       "      <td>[https://a.ccdn.es/cnet/vehicles/16400998/5ebb...</td>\n",
       "    </tr>\n",
       "    <tr>\n",
       "      <th>172109</th>\n",
       "      <td>58708761</td>\n",
       "      <td>Berlina</td>\n",
       "      <td>RENAULT</td>\n",
       "      <td>[https://a.ccdn.es/cnet/2024/09/13/58708761/19...</td>\n",
       "    </tr>\n",
       "    <tr>\n",
       "      <th>172110</th>\n",
       "      <td>58636238</td>\n",
       "      <td>Berlina</td>\n",
       "      <td>MINI</td>\n",
       "      <td>[https://a.ccdn.es/cnet/vehicles/14099336/983d...</td>\n",
       "    </tr>\n",
       "  </tbody>\n",
       "</table>\n",
       "<p>172111 rows × 4 columns</p>\n",
       "</div>"
      ],
      "text/plain": [
       "              id      model          brand  \\\n",
       "0       58841374  Furgoneta          DACIA   \n",
       "1       58638307        SUV     MITSUBISHI   \n",
       "2       58798715       None  MERCEDES-BENZ   \n",
       "3       58887285       None        RENAULT   \n",
       "4       58765577  Furgoneta        RENAULT   \n",
       "...          ...        ...            ...   \n",
       "172106  58788502    Berlina           FORD   \n",
       "172107  58600883    Berlina           FORD   \n",
       "172108  58780688    Berlina     VOLKSWAGEN   \n",
       "172109  58708761    Berlina        RENAULT   \n",
       "172110  58636238    Berlina           MINI   \n",
       "\n",
       "                                                   images  \n",
       "0       [https://a.ccdn.es/cnet/2024/10/01/58841374/19...  \n",
       "1       [https://a.ccdn.es/cnet/2024/09/04/58638307/19...  \n",
       "2       [https://a.ccdn.es/cnet/2024/09/25/58798715/19...  \n",
       "3       [https://a.ccdn.es/cnet/2024/10/06/58887285/19...  \n",
       "4       [https://a.ccdn.es/cnet/2024/09/20/58765577/19...  \n",
       "...                                                   ...  \n",
       "172106  [https://a.ccdn.es/cnet/vehicles/16407331/2b65...  \n",
       "172107  [https://a.ccdn.es/cnet/vehicles/16259881/e479...  \n",
       "172108  [https://a.ccdn.es/cnet/vehicles/16400998/5ebb...  \n",
       "172109  [https://a.ccdn.es/cnet/2024/09/13/58708761/19...  \n",
       "172110  [https://a.ccdn.es/cnet/vehicles/14099336/983d...  \n",
       "\n",
       "[172111 rows x 4 columns]"
      ]
     },
     "execution_count": 50,
     "metadata": {},
     "output_type": "execute_result"
    }
   ],
   "source": [
    "dataframe"
   ]
  },
  {
   "cell_type": "code",
   "execution_count": 54,
   "metadata": {},
   "outputs": [
    {
     "name": "stdout",
     "output_type": "stream",
     "text": [
      "172111\n",
      "152602\n"
     ]
    }
   ],
   "source": [
    "print(len(dataframe))\n",
    "dataframe.dropna(inplace=True)\n",
    "print(len(dataframe))"
   ]
  },
  {
   "cell_type": "code",
   "execution_count": 55,
   "metadata": {},
   "outputs": [],
   "source": [
    "max_file_size = 100 * 1024 * 1024\n",
    "\n",
    "def split_dataframe_to_csv(df, max_file_size, output_folder ,base_filename):\n",
    "    file_index = 1\n",
    "    chunk_size = len(df) // 7 \n",
    "    while chunk_size > 0:\n",
    "        start_row = 0\n",
    "        while start_row < len(df):\n",
    "            end_row = start_row + chunk_size\n",
    "            chunk = df.iloc[start_row:end_row]\n",
    "            filename = f\"{output_folder}/{base_filename}_part{file_index}.csv\"\n",
    "            chunk.to_csv(filename, index=False)\n",
    "            if os.path.getsize(filename) > max_file_size:\n",
    "                chunk_size //= 2\n",
    "                os.remove(filename)\n",
    "            else:\n",
    "                start_row = end_row\n",
    "                file_index += 1\n",
    "\n",
    "        if start_row >= len(df):\n",
    "            break\n",
    "\n",
    "split_dataframe_to_csv(dataframe, max_file_size, \"photos_urls/\", \"photos\")"
   ]
  }
 ],
 "metadata": {
  "kernelspec": {
   "display_name": "Python 3",
   "language": "python",
   "name": "python3"
  },
  "language_info": {
   "codemirror_mode": {
    "name": "ipython",
    "version": 3
   },
   "file_extension": ".py",
   "mimetype": "text/x-python",
   "name": "python",
   "nbconvert_exporter": "python",
   "pygments_lexer": "ipython3",
   "version": "3.12.6"
  }
 },
 "nbformat": 4,
 "nbformat_minor": 2
}
