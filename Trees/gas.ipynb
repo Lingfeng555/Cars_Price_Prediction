{
 "cells": [
  {
   "cell_type": "markdown",
   "metadata": {},
   "source": [
    "# Gas CART\n",
    "\n",
    "## Import and load"
   ]
  },
  {
   "cell_type": "code",
   "execution_count": 1,
   "metadata": {},
   "outputs": [
    {
     "name": "stderr",
     "output_type": "stream",
     "text": [
      "/home/liingfeng/Desktop/cuml/lib/python3.12/site-packages/tqdm/auto.py:21: TqdmWarning: IProgress not found. Please update jupyter and ipywidgets. See https://ipywidgets.readthedocs.io/en/stable/user_install.html\n",
      "  from .autonotebook import tqdm as notebook_tqdm\n",
      "2024-12-21 20:38:29.724284: E external/local_xla/xla/stream_executor/cuda/cuda_fft.cc:477] Unable to register cuFFT factory: Attempting to register factory for plugin cuFFT when one has already been registered\n",
      "WARNING: All log messages before absl::InitializeLog() is called are written to STDERR\n",
      "E0000 00:00:1734809909.759406  214854 cuda_dnn.cc:8310] Unable to register cuDNN factory: Attempting to register factory for plugin cuDNN when one has already been registered\n",
      "E0000 00:00:1734809909.769284  214854 cuda_blas.cc:1418] Unable to register cuBLAS factory: Attempting to register factory for plugin cuBLAS when one has already been registered\n",
      "2024-12-21 20:38:29.848815: I tensorflow/core/platform/cpu_feature_guard.cc:210] This TensorFlow binary is optimized to use available CPU instructions in performance-critical operations.\n",
      "To enable the following instructions: AVX2 FMA, in other operations, rebuild TensorFlow with the appropriate compiler flags.\n"
     ]
    }
   ],
   "source": [
    "import sys\n",
    "sys.path.insert(1, '../') \n",
    "from utils.loader import Loader\n",
    "from utils.data_processor import Data_processor\n",
    "from utils.cluster_generator import ClusterGenerator\n",
    "\n",
    "import pandas as pd\n",
    "from sklearn import tree\n",
    "import os\n",
    "import seaborn as sns\n",
    "import matplotlib.pyplot as plt\n",
    "from sklearn.model_selection import train_test_split\n",
    "from sklearn.preprocessing import LabelEncoder, StandardScaler, OneHotEncoder\n",
    "from sklearn.tree import DecisionTreeClassifier, plot_tree\n",
    "from sklearn.metrics import accuracy_score, classification_report, confusion_matrix\n",
    "from sklearn.preprocessing import LabelEncoder, StandardScaler\n",
    "from sklearn.tree import DecisionTreeClassifier, plot_tree\n",
    "from sklearn.decomposition import PCA,TruncatedSVD\n",
    "from sklearn.linear_model import LinearRegression\n",
    "from sklearn.impute import SimpleImputer\n",
    "from sklearn.metrics import mean_absolute_error\n",
    "from sklearn.tree import DecisionTreeRegressor\n",
    "from sklearn.feature_selection import chi2\n",
    "import matplotlib.pyplot as plt\n",
    "from mpl_toolkits.mplot3d import Axes3D\n",
    "from utils.evaluator import Evaluator\n",
    "import prince\n",
    "import numpy as np\n",
    "from sklearn.svm import SVC, SVR\n",
    "import pandas as pd\n",
    "from imblearn.over_sampling import SMOTE\n",
    "from sklearn.naive_bayes import GaussianNB\n",
    "from sklearn.model_selection import train_test_split\n",
    "from sklearn.tree import DecisionTreeClassifier\n",
    "from sklearn.ensemble import RandomForestClassifier, RandomForestRegressor\n",
    "from sklearn.metrics import classification_report, confusion_matrix\n",
    "from tensorflow.keras.models import Sequential\n",
    "from tensorflow.keras.layers import Dense\n"
   ]
  },
  {
   "cell_type": "markdown",
   "metadata": {},
   "source": [
    "### Load GAS type cars"
   ]
  },
  {
   "cell_type": "code",
   "execution_count": 2,
   "metadata": {},
   "outputs": [
    {
     "name": "stderr",
     "output_type": "stream",
     "text": [
      "/home/liingfeng/Desktop/repos/Cars_Price_Prediction/Trees/../utils/loader.py:153: DtypeWarning: Columns (120) have mixed types. Specify dtype option on import or set low_memory=False.\n",
      "  df = pd.read_csv(file_path,\n",
      "/home/liingfeng/Desktop/repos/Cars_Price_Prediction/Trees/../utils/loader.py:153: DtypeWarning: Columns (120) have mixed types. Specify dtype option on import or set low_memory=False.\n",
      "  df = pd.read_csv(file_path,\n",
      "/home/liingfeng/Desktop/repos/Cars_Price_Prediction/Trees/../utils/loader.py:165: FutureWarning: A value is trying to be set on a copy of a DataFrame or Series through chained assignment using an inplace method.\n",
      "The behavior will change in pandas 3.0. This inplace method will never work because the intermediate object on which we are setting values always behaves as a copy.\n",
      "\n",
      "For example, when doing 'df[col].method(value, inplace=True)', try using 'df.method({col: value}, inplace=True)' or df[col] = df[col].method(value) instead, to perform the operation inplace on the original object.\n",
      "\n",
      "\n",
      "  merged_df[\"km\"].fillna(0, inplace=True)\n"
     ]
    }
   ],
   "source": [
    "data = Loader.load_by_fueltype(\"Gas\")\n",
    "label_encoder = LabelEncoder()"
   ]
  },
  {
   "cell_type": "code",
   "execution_count": 3,
   "metadata": {},
   "outputs": [
    {
     "data": {
      "text/plain": [
       "price_categ\n",
       "Middle low range     509\n",
       "Budget               480\n",
       "Low end              250\n",
       "Middle range          31\n",
       "Middle high range     16\n",
       "Very low end           3\n",
       "High end               1\n",
       "Luxury                 0\n",
       "Premiun                0\n",
       "Name: count, dtype: int64"
      ]
     },
     "execution_count": 3,
     "metadata": {},
     "output_type": "execute_result"
    }
   ],
   "source": [
    "data[\"price_categ\"].value_counts()"
   ]
  },
  {
   "cell_type": "code",
   "execution_count": 4,
   "metadata": {},
   "outputs": [
    {
     "name": "stderr",
     "output_type": "stream",
     "text": [
      "/tmp/ipykernel_214854/787252135.py:1: FutureWarning: The behavior of Series.replace (and DataFrame.replace) with CategoricalDtype is deprecated. In a future version, replace will only be used for cases that preserve the categories. To change the categories, use ser.cat.rename_categories instead.\n",
      "  data['price_categ'] = data['price_categ'].replace({ # Combinar clases similares\n"
     ]
    },
    {
     "data": {
      "text/plain": [
       "price_categ\n",
       "Middle low range    509\n",
       "Budget              480\n",
       "Low end             250\n",
       "Middle range         31\n",
       "Alto                 17\n",
       "Name: count, dtype: int64"
      ]
     },
     "execution_count": 4,
     "metadata": {},
     "output_type": "execute_result"
    }
   ],
   "source": [
    "data['price_categ'] = data['price_categ'].replace({ # Combinar clases similares\n",
    "    'Luxury': 'Alto',\n",
    "    'Premiun': 'Alto',\n",
    "    'High end': 'Alto',\n",
    "    'Middle high range': 'Alto',\n",
    "})\n",
    "\n",
    "data = data[data['price_categ'] != 'Very low end'] # Eliminar la clase 'Very low end'\n",
    "data['price_categ'] = data['price_categ'].str.strip()\n",
    "\n",
    "# Revisa la nueva distribución\n",
    "data['price_categ'].value_counts()"
   ]
  },
  {
   "cell_type": "code",
   "execution_count": 5,
   "metadata": {},
   "outputs": [
    {
     "data": {
      "text/plain": [
       "price_categ\n",
       "3    509\n",
       "2    480\n",
       "1    250\n",
       "4     31\n",
       "8     17\n",
       "Name: count, dtype: int64"
      ]
     },
     "execution_count": 5,
     "metadata": {},
     "output_type": "execute_result"
    }
   ],
   "source": [
    "# Ajustar y transformar la columna price_categ\n",
    "data['price_categ'] = data[\"price_categ\"].apply(Loader.encode_price_categ).to_numpy()\n",
    "data['price_categ'].value_counts()"
   ]
  },
  {
   "cell_type": "markdown",
   "metadata": {},
   "source": [
    "#### We can see the data is hightly unbalance and needs treatment before reating the tree model \n",
    "\n",
    "Aproach 1\n",
    "\n",
    "**SMOTE**\n",
    "\n",
    "This method addresses data imbalance by generating synthetic samples for the minority class.\n",
    "\n",
    "\n",
    "\n"
   ]
  },
  {
   "cell_type": "code",
   "execution_count": 6,
   "metadata": {},
   "outputs": [
    {
     "data": {
      "image/png": "[encoded data removed]",
      "text/plain": [
       "<Figure size 800x600 with 1 Axes>"
      ]
     },
     "metadata": {},
     "output_type": "display_data"
    }
   ],
   "source": [
    "precios_gas = data[\"price\"]\n",
    "plt.figure(figsize=(8, 6))\n",
    "plt.boxplot(precios_gas, notch=True, vert=True, patch_artist=True, showmeans=True)\n",
    "plt.title('Boxplot de Precios')\n",
    "plt.ylabel('Precio')\n",
    "plt.grid(True)\n",
    "plt.show()"
   ]
  },
  {
   "cell_type": "markdown",
   "metadata": {},
   "source": [
    "The outliers were checked manually throught the data source, and we could confirmed that they are not outliers"
   ]
  },
  {
   "cell_type": "code",
   "execution_count": 7,
   "metadata": {},
   "outputs": [
    {
     "name": "stdout",
     "output_type": "stream",
     "text": [
      "28625.0\n"
     ]
    },
    {
     "data": {
      "text/html": [
       "<div>\n",
       "<style scoped>\n",
       "    .dataframe tbody tr th:only-of-type {\n",
       "        vertical-align: middle;\n",
       "    }\n",
       "\n",
       "    .dataframe tbody tr th {\n",
       "        vertical-align: top;\n",
       "    }\n",
       "\n",
       "    .dataframe thead th {\n",
       "        text-align: right;\n",
       "    }\n",
       "</style>\n",
       "<table border=\"1\" class=\"dataframe\">\n",
       "  <thead>\n",
       "    <tr style=\"text-align: right;\">\n",
       "      <th></th>\n",
       "      <th>price</th>\n",
       "      <th>brand</th>\n",
       "    </tr>\n",
       "    <tr>\n",
       "      <th>idx</th>\n",
       "      <th></th>\n",
       "      <th></th>\n",
       "    </tr>\n",
       "  </thead>\n",
       "  <tbody>\n",
       "    <tr>\n",
       "      <th>48483</th>\n",
       "      <td>36441</td>\n",
       "      <td>DFSK</td>\n",
       "    </tr>\n",
       "    <tr>\n",
       "      <th>24917</th>\n",
       "      <td>33900</td>\n",
       "      <td>EVO</td>\n",
       "    </tr>\n",
       "    <tr>\n",
       "      <th>43137</th>\n",
       "      <td>33900</td>\n",
       "      <td>EVO</td>\n",
       "    </tr>\n",
       "    <tr>\n",
       "      <th>43076</th>\n",
       "      <td>33900</td>\n",
       "      <td>EVO</td>\n",
       "    </tr>\n",
       "    <tr>\n",
       "      <th>40872</th>\n",
       "      <td>33900</td>\n",
       "      <td>EVO</td>\n",
       "    </tr>\n",
       "    <tr>\n",
       "      <th>85825</th>\n",
       "      <td>33900</td>\n",
       "      <td>EVO</td>\n",
       "    </tr>\n",
       "    <tr>\n",
       "      <th>91054</th>\n",
       "      <td>33900</td>\n",
       "      <td>EVO</td>\n",
       "    </tr>\n",
       "    <tr>\n",
       "      <th>37736</th>\n",
       "      <td>33900</td>\n",
       "      <td>EVO</td>\n",
       "    </tr>\n",
       "    <tr>\n",
       "      <th>34644</th>\n",
       "      <td>33899</td>\n",
       "      <td>PIAGGIO</td>\n",
       "    </tr>\n",
       "    <tr>\n",
       "      <th>22383</th>\n",
       "      <td>33200</td>\n",
       "      <td>DFSK</td>\n",
       "    </tr>\n",
       "    <tr>\n",
       "      <th>43139</th>\n",
       "      <td>32990</td>\n",
       "      <td>IVECO</td>\n",
       "    </tr>\n",
       "    <tr>\n",
       "      <th>16170</th>\n",
       "      <td>32900</td>\n",
       "      <td>DR AUTOMOBILES</td>\n",
       "    </tr>\n",
       "    <tr>\n",
       "      <th>40452</th>\n",
       "      <td>32500</td>\n",
       "      <td>DR AUTOMOBILES</td>\n",
       "    </tr>\n",
       "    <tr>\n",
       "      <th>37973</th>\n",
       "      <td>31800</td>\n",
       "      <td>PIAGGIO</td>\n",
       "    </tr>\n",
       "    <tr>\n",
       "      <th>147310</th>\n",
       "      <td>31500</td>\n",
       "      <td>AUDI</td>\n",
       "    </tr>\n",
       "    <tr>\n",
       "      <th>119485</th>\n",
       "      <td>30560</td>\n",
       "      <td>DACIA</td>\n",
       "    </tr>\n",
       "    <tr>\n",
       "      <th>40508</th>\n",
       "      <td>30499</td>\n",
       "      <td>IVECO</td>\n",
       "    </tr>\n",
       "    <tr>\n",
       "      <th>34847</th>\n",
       "      <td>29900</td>\n",
       "      <td>DR AUTOMOBILES</td>\n",
       "    </tr>\n",
       "    <tr>\n",
       "      <th>37511</th>\n",
       "      <td>29900</td>\n",
       "      <td>DR AUTOMOBILES</td>\n",
       "    </tr>\n",
       "    <tr>\n",
       "      <th>93608</th>\n",
       "      <td>29900</td>\n",
       "      <td>AUDI</td>\n",
       "    </tr>\n",
       "    <tr>\n",
       "      <th>68584</th>\n",
       "      <td>29900</td>\n",
       "      <td>DR AUTOMOBILES</td>\n",
       "    </tr>\n",
       "    <tr>\n",
       "      <th>66373</th>\n",
       "      <td>29900</td>\n",
       "      <td>DR AUTOMOBILES</td>\n",
       "    </tr>\n",
       "    <tr>\n",
       "      <th>43470</th>\n",
       "      <td>29900</td>\n",
       "      <td>PIAGGIO</td>\n",
       "    </tr>\n",
       "    <tr>\n",
       "      <th>25358</th>\n",
       "      <td>29600</td>\n",
       "      <td>IVECO</td>\n",
       "    </tr>\n",
       "    <tr>\n",
       "      <th>769</th>\n",
       "      <td>29200</td>\n",
       "      <td>SKODA</td>\n",
       "    </tr>\n",
       "    <tr>\n",
       "      <th>84022</th>\n",
       "      <td>28900</td>\n",
       "      <td>AUDI</td>\n",
       "    </tr>\n",
       "    <tr>\n",
       "      <th>19534</th>\n",
       "      <td>28650</td>\n",
       "      <td>IVECO</td>\n",
       "    </tr>\n",
       "  </tbody>\n",
       "</table>\n",
       "</div>"
      ],
      "text/plain": [
       "        price           brand\n",
       "idx                          \n",
       "48483   36441            DFSK\n",
       "24917   33900             EVO\n",
       "43137   33900             EVO\n",
       "43076   33900             EVO\n",
       "40872   33900             EVO\n",
       "85825   33900             EVO\n",
       "91054   33900             EVO\n",
       "37736   33900             EVO\n",
       "34644   33899         PIAGGIO\n",
       "22383   33200            DFSK\n",
       "43139   32990           IVECO\n",
       "16170   32900  DR AUTOMOBILES\n",
       "40452   32500  DR AUTOMOBILES\n",
       "37973   31800         PIAGGIO\n",
       "147310  31500            AUDI\n",
       "119485  30560           DACIA\n",
       "40508   30499           IVECO\n",
       "34847   29900  DR AUTOMOBILES\n",
       "37511   29900  DR AUTOMOBILES\n",
       "93608   29900            AUDI\n",
       "68584   29900  DR AUTOMOBILES\n",
       "66373   29900  DR AUTOMOBILES\n",
       "43470   29900         PIAGGIO\n",
       "25358   29600           IVECO\n",
       "769     29200           SKODA\n",
       "84022   28900            AUDI\n",
       "19534   28650           IVECO"
      ]
     },
     "execution_count": 7,
     "metadata": {},
     "output_type": "execute_result"
    }
   ],
   "source": [
    "Q1 = data['price'].quantile(0.25)\n",
    "Q2 = data['price'].quantile(0.5)  # Esta es la mediana\n",
    "Q3 = data['price'].quantile(0.75)\n",
    "IQR = Q3 - Q1\n",
    "\n",
    "upper_whisker = (Q3 + 1.5 * IQR)\n",
    "print(upper_whisker)\n",
    "\n",
    "data[data[\"price\"]>upper_whisker][[\"price\", \"brand\"]].sort_values(by='price', ascending=False)"
   ]
  },
  {
   "cell_type": "markdown",
   "metadata": {},
   "source": [
    "### Gas , Numerical variables selection"
   ]
  },
  {
   "cell_type": "code",
   "execution_count": 8,
   "metadata": {},
   "outputs": [],
   "source": [
    "def fill_gas_numerical_columns(numerical_columns: pd.DataFrame) -> pd.DataFrame:\n",
    "    #fill the elemental columns that has a minor amount of missing data with the mode\n",
    "    numerical_columns = Data_processor.fill_na_with_mode(numerical_columns, \"dimensions.length\")\n",
    "    numerical_columns = Data_processor.fill_na_with_mode(numerical_columns, \"dimensions.height\")\n",
    "\n",
    "    #fill the missing data witch regression, the parameters were based on the relation matrix \n",
    "    numerical_columns = Data_processor.impute_with_linear_regression(data=numerical_columns, x_columns=[\"dimensions.length\", \"dimensions.height\"], y_column=\"dimensions.width\")\n",
    "    numerical_columns = Data_processor.impute_with_linear_regression(data=numerical_columns, x_columns=[\"dimensions.length\", \"dimensions.height\", \"dimensions.width\"], y_column=\"trunkCapacityInLiters\")\n",
    "    numerical_columns = Data_processor.impute_with_linear_regression(data=numerical_columns, x_columns=[\"power_cv\", \"power_kw\"], y_column=\"maxSpeed\")\n",
    "    numerical_columns = Data_processor.impute_with_linear_regression(data=numerical_columns, x_columns=[\"power_cv\", \"power_kw\", \"maxSpeed\"], y_column=\"acceleration\")\n",
    "    numerical_columns = Data_processor.impute_with_linear_regression(data=numerical_columns, x_columns=[\"power_cv\", \"power_kw\", \"maxSpeed\"], y_column=\"acceleration\")\n",
    "    numerical_columns = Data_processor.impute_with_linear_regression(data=numerical_columns, x_columns=[\"Llantas_Diametro_cm\", \"power_kw\"], y_column=\"max_torque_nm\")\n",
    "\n",
    "    numerical_columns.dropna(axis=1, inplace=True)\n",
    "    return numerical_columns\n",
    "\n",
    "def get_gas_numerical_columns (data: pd.DataFrame) -> pd.DataFrame:\n",
    "    numerical_columns = data.select_dtypes(include=['number'])\n",
    "    numerical_columns.drop(columns=[ \"car_id\"], inplace=True)\n",
    "\n",
    "    #if all the values of the numerical columns is 0, we remove the column\n",
    "    cols_to_drop = numerical_columns.columns[(numerical_columns == 0).all()]\n",
    "    numerical_columns = numerical_columns.drop(cols_to_drop, axis=1)\n",
    "\n",
    "    #Remove the column with all NAs\n",
    "    max_nans = 6586\n",
    "    thresh = numerical_columns.shape[0] - max_nans\n",
    "\n",
    "    numerical_columns.dropna(axis=1, thresh=thresh+1, inplace=True)\n",
    "    return fill_gas_numerical_columns(numerical_columns)\n",
    "\n",
    "def get_gas_categorical_columns(df: pd.DataFrame) -> pd.DataFrame:\n",
    "    ret = df.select_dtypes(include=['category'])\n",
    "    ret = ret.drop(columns=[\"environmentalLabel\"]) #All of the cars of this dataframes are electrical which implies 0 emission\n",
    "    ret = Data_processor.remove_redundand_columns(ret)\n",
    "    ret = Data_processor.impute_categorical_mode(df=ret, X=[\"brand\", \"model\"], Y=\"version\")\n",
    "    ret = Data_processor.impute_categorical_mode(df=ret, X=[\"brand\", \"model\"], Y=\"jato_classification\")\n",
    "    ret = Data_processor.impute_categorical_mode(df=ret, X=[\"brand\", \"model\", \"traction\"], Y=\"brakes\")\n",
    "    ret = Data_processor.impute_categorical_mode(df=ret, X=[\"brand\", \"model\", \"traction\",\"brakes\"], Y=\"front_suspension\")\n",
    "    ret = Data_processor.impute_categorical_mode(df=ret, X=[\"brand\", \"model\", \"traction\",\"brakes\"], Y=\"rear_suspension\")\n",
    "    return ret"
   ]
  },
  {
   "cell_type": "code",
   "execution_count": 9,
   "metadata": {},
   "outputs": [
    {
     "name": "stdout",
     "output_type": "stream",
     "text": [
      "Regression mape ['dimensions.length', 'dimensions.height'] -> dimensions.width: 1.9674673980367783%\n",
      "Regression mape ['dimensions.length', 'dimensions.height', 'dimensions.width'] -> trunkCapacityInLiters: 15.456430834096583%\n",
      "Regression mape ['power_cv', 'power_kw'] -> maxSpeed: 5.050674953115151%\n",
      "Regression mape ['power_cv', 'power_kw', 'maxSpeed'] -> acceleration: 4.822246491513321%\n",
      "Regression mape ['power_cv', 'power_kw', 'maxSpeed'] -> acceleration: 3.4546319076731002%\n",
      "Regression mape ['Llantas_Diametro_cm', 'power_kw'] -> max_torque_nm: 9.7883866267976%\n",
      "Number of missing values in 'version' before filling with 'unknown': 0\n",
      "Number of missing values in 'jato_classification' before filling with 'unknown': 6\n",
      "Number of missing values in 'brakes' before filling with 'unknown': 6\n",
      "Number of missing values in 'front_suspension' before filling with 'unknown': 0\n",
      "Number of missing values in 'rear_suspension' before filling with 'unknown': 0\n"
     ]
    }
   ],
   "source": [
    "numerical_columns = get_gas_numerical_columns(data)\n",
    "categorical_columns = get_gas_categorical_columns(data)"
   ]
  },
  {
   "cell_type": "code",
   "execution_count": 10,
   "metadata": {},
   "outputs": [
    {
     "name": "stdout",
     "output_type": "stream",
     "text": [
      "price                    1.000000\n",
      "km                      -0.666253\n",
      "year                     0.630371\n",
      "cubicCapacity            0.134931\n",
      "doors                    0.196730\n",
      "seatingCapacity          0.262632\n",
      "trunkCapacityInLiters    0.200050\n",
      "maxSpeed                 0.029122\n",
      "acceleration            -0.190765\n",
      "power_cv                 0.438754\n",
      "power_kw                 0.444135\n",
      "max_torque_nm            0.351313\n",
      "speakers                 0.187856\n",
      "dimensions.width         0.315454\n",
      "dimensions.height        0.161946\n",
      "dimensions.length        0.305562\n",
      "Numero_Testigos          0.010558\n",
      "displacement_liters      0.132262\n",
      "displacement_cc          0.171891\n",
      "number_of_cylinders     -0.147125\n",
      "compression_ratio       -0.511080\n",
      "Llantas_Diametro_cm      0.512251\n",
      "price_categ              0.890447\n",
      "Name: price, dtype: float64\n"
     ]
    }
   ],
   "source": [
    "correlation_matrix = numerical_columns.corr()[\"price\"]\n",
    "print(correlation_matrix)"
   ]
  },
  {
   "cell_type": "code",
   "execution_count": 11,
   "metadata": {},
   "outputs": [],
   "source": [
    "scaler = StandardScaler()\n",
    "df_scaled  = scaler.fit_transform(numerical_columns)\n",
    "\n",
    "pca = PCA(n_components=2)\n",
    "principal_components = pca.fit_transform(df_scaled)\n",
    "df_pca = pd.DataFrame(data=principal_components, columns=['PC1', 'PC2'])"
   ]
  },
  {
   "cell_type": "code",
   "execution_count": 12,
   "metadata": {},
   "outputs": [
    {
     "data": {
      "image/png": "[encoded data removed]",
      "text/plain": [
       "<Figure size 1000x800 with 1 Axes>"
      ]
     },
     "metadata": {},
     "output_type": "display_data"
    }
   ],
   "source": [
    "def biplot(score, coeff, labels=None):\n",
    "    plt.figure(figsize=(10, 8))\n",
    "    origin = [0, 0]  # Origen de las flechas\n",
    "\n",
    "    # Dibujar las flechas\n",
    "    for i in range(len(coeff)):\n",
    "        plt.arrow(origin[0], origin[1], coeff[i,0], coeff[i,1], color='r', alpha=0.5, head_width=0.05, head_length=0.1)\n",
    "        if labels is not None:\n",
    "            plt.text(coeff[i,0]*1.15, coeff[i,1]*1.15, labels[i], color='blue', ha='center', va='center')\n",
    "\n",
    "    plt.xlabel(\"PC1\")\n",
    "    plt.ylabel(\"PC2\")\n",
    "    plt.title(\"Biplot\")\n",
    "    plt.grid(True)\n",
    "    plt.axhline(0, color='black',linewidth=0.5)\n",
    "    plt.axvline(0, color='black',linewidth=0.5)\n",
    "    plt.xlim(min(coeff[:,0])*1.2, max(coeff[:,0])*1.2)\n",
    "    plt.ylim(min(coeff[:,1])*1.2, max(coeff[:,1])*1.2)\n",
    "    plt.show()\n",
    "\n",
    "# Llamada a la función biplot\n",
    "biplot(principal_components, np.transpose(pca.components_[0:2, :]), labels=numerical_columns.columns)"
   ]
  },
  {
   "cell_type": "markdown",
   "metadata": {},
   "source": [
    "## CART regression with only numerical values\n",
    "\n",
    "- Using only numerical values we can use the SMOTE technique to generate synthetic value data and rebalance our unbalance dataset.\n",
    "\n",
    "### SMOTE"
   ]
  },
  {
   "cell_type": "code",
   "execution_count": 13,
   "metadata": {},
   "outputs": [],
   "source": [
    "X = numerical_columns.drop(columns=[\"price_categ\",\"price\"]) # + price_categ\n",
    "y = numerical_columns[\"price_categ\"]"
   ]
  },
  {
   "cell_type": "code",
   "execution_count": 14,
   "metadata": {},
   "outputs": [],
   "source": [
    "# Train-Test Split Before Applying SMOTE\n",
    "X_train, X_test, y_train, y_test = train_test_split(X, y, test_size=0.2, random_state=42)"
   ]
  },
  {
   "cell_type": "code",
   "execution_count": 15,
   "metadata": {},
   "outputs": [],
   "source": [
    "smote = SMOTE(random_state=42)\n",
    "X_train_resampled, y_train_resampled = smote.fit_resample(X_train, y_train)"
   ]
  },
  {
   "cell_type": "markdown",
   "metadata": {},
   "source": [
    "Training the CART Model (Decision Tree) on Resampled Data"
   ]
  },
  {
   "cell_type": "code",
   "execution_count": 16,
   "metadata": {},
   "outputs": [
    {
     "data": {
      "text/html": [
       "<style>#sk-container-id-1 {\n",
       "  /* Definition of color scheme common for light and dark mode */\n",
       "  --sklearn-color-text: #000;\n",
       "  --sklearn-color-text-muted: #666;\n",
       "  --sklearn-color-line: gray;\n",
       "  /* Definition of color scheme for unfitted estimators */\n",
       "  --sklearn-color-unfitted-level-0: #fff5e6;\n",
       "  --sklearn-color-unfitted-level-1: #f6e4d2;\n",
       "  --sklearn-color-unfitted-level-2: #ffe0b3;\n",
       "  --sklearn-color-unfitted-level-3: chocolate;\n",
       "  /* Definition of color scheme for fitted estimators */\n",
       "  --sklearn-color-fitted-level-0: #f0f8ff;\n",
       "  --sklearn-color-fitted-level-1: #d4ebff;\n",
       "  --sklearn-color-fitted-level-2: #b3dbfd;\n",
       "  --sklearn-color-fitted-level-3: cornflowerblue;\n",
       "\n",
       "  /* Specific color for light theme */\n",
       "  --sklearn-color-text-on-default-background: var(--sg-text-color, var(--theme-code-foreground, var(--jp-content-font-color1, black)));\n",
       "  --sklearn-color-background: var(--sg-background-color, var(--theme-background, var(--jp-layout-color0, white)));\n",
       "  --sklearn-color-border-box: var(--sg-text-color, var(--theme-code-foreground, var(--jp-content-font-color1, black)));\n",
       "  --sklearn-color-icon: #696969;\n",
       "\n",
       "  @media (prefers-color-scheme: dark) {\n",
       "    /* Redefinition of color scheme for dark theme */\n",
       "    --sklearn-color-text-on-default-background: var(--sg-text-color, var(--theme-code-foreground, var(--jp-content-font-color1, white)));\n",
       "    --sklearn-color-background: var(--sg-background-color, var(--theme-background, var(--jp-layout-color0, #111)));\n",
       "    --sklearn-color-border-box: var(--sg-text-color, var(--theme-code-foreground, var(--jp-content-font-color1, white)));\n",
       "    --sklearn-color-icon: #878787;\n",
       "  }\n",
       "}\n",
       "\n",
       "#sk-container-id-1 {\n",
       "  color: var(--sklearn-color-text);\n",
       "}\n",
       "\n",
       "#sk-container-id-1 pre {\n",
       "  padding: 0;\n",
       "}\n",
       "\n",
       "#sk-container-id-1 input.sk-hidden--visually {\n",
       "  border: 0;\n",
       "  clip: rect(1px 1px 1px 1px);\n",
       "  clip: rect(1px, 1px, 1px, 1px);\n",
       "  height: 1px;\n",
       "  margin: -1px;\n",
       "  overflow: hidden;\n",
       "  padding: 0;\n",
       "  position: absolute;\n",
       "  width: 1px;\n",
       "}\n",
       "\n",
       "#sk-container-id-1 div.sk-dashed-wrapped {\n",
       "  border: 1px dashed var(--sklearn-color-line);\n",
       "  margin: 0 0.4em 0.5em 0.4em;\n",
       "  box-sizing: border-box;\n",
       "  padding-bottom: 0.4em;\n",
       "  background-color: var(--sklearn-color-background);\n",
       "}\n",
       "\n",
       "#sk-container-id-1 div.sk-container {\n",
       "  /* jupyter's `normalize.less` sets `[hidden] { display: none; }`\n",
       "     but bootstrap.min.css set `[hidden] { display: none !important; }`\n",
       "     so we also need the `!important` here to be able to override the\n",
       "     default hidden behavior on the sphinx rendered scikit-learn.org.\n",
       "     See: https://github.com/scikit-learn/scikit-learn/issues/21755 */\n",
       "  display: inline-block !important;\n",
       "  position: relative;\n",
       "}\n",
       "\n",
       "#sk-container-id-1 div.sk-text-repr-fallback {\n",
       "  display: none;\n",
       "}\n",
       "\n",
       "div.sk-parallel-item,\n",
       "div.sk-serial,\n",
       "div.sk-item {\n",
       "  /* draw centered vertical line to link estimators */\n",
       "  background-image: linear-gradient(var(--sklearn-color-text-on-default-background), var(--sklearn-color-text-on-default-background));\n",
       "  background-size: 2px 100%;\n",
       "  background-repeat: no-repeat;\n",
       "  background-position: center center;\n",
       "}\n",
       "\n",
       "/* Parallel-specific style estimator block */\n",
       "\n",
       "#sk-container-id-1 div.sk-parallel-item::after {\n",
       "  content: \"\";\n",
       "  width: 100%;\n",
       "  border-bottom: 2px solid var(--sklearn-color-text-on-default-background);\n",
       "  flex-grow: 1;\n",
       "}\n",
       "\n",
       "#sk-container-id-1 div.sk-parallel {\n",
       "  display: flex;\n",
       "  align-items: stretch;\n",
       "  justify-content: center;\n",
       "  background-color: var(--sklearn-color-background);\n",
       "  position: relative;\n",
       "}\n",
       "\n",
       "#sk-container-id-1 div.sk-parallel-item {\n",
       "  display: flex;\n",
       "  flex-direction: column;\n",
       "}\n",
       "\n",
       "#sk-container-id-1 div.sk-parallel-item:first-child::after {\n",
       "  align-self: flex-end;\n",
       "  width: 50%;\n",
       "}\n",
       "\n",
       "#sk-container-id-1 div.sk-parallel-item:last-child::after {\n",
       "  align-self: flex-start;\n",
       "  width: 50%;\n",
       "}\n",
       "\n",
       "#sk-container-id-1 div.sk-parallel-item:only-child::after {\n",
       "  width: 0;\n",
       "}\n",
       "\n",
       "/* Serial-specific style estimator block */\n",
       "\n",
       "#sk-container-id-1 div.sk-serial {\n",
       "  display: flex;\n",
       "  flex-direction: column;\n",
       "  align-items: center;\n",
       "  background-color: var(--sklearn-color-background);\n",
       "  padding-right: 1em;\n",
       "  padding-left: 1em;\n",
       "}\n",
       "\n",
       "\n",
       "/* Toggleable style: style used for estimator/Pipeline/ColumnTransformer box that is\n",
       "clickable and can be expanded/collapsed.\n",
       "- Pipeline and ColumnTransformer use this feature and define the default style\n",
       "- Estimators will overwrite some part of the style using the `sk-estimator` class\n",
       "*/\n",
       "\n",
       "/* Pipeline and ColumnTransformer style (default) */\n",
       "\n",
       "#sk-container-id-1 div.sk-toggleable {\n",
       "  /* Default theme specific background. It is overwritten whether we have a\n",
       "  specific estimator or a Pipeline/ColumnTransformer */\n",
       "  background-color: var(--sklearn-color-background);\n",
       "}\n",
       "\n",
       "/* Toggleable label */\n",
       "#sk-container-id-1 label.sk-toggleable__label {\n",
       "  cursor: pointer;\n",
       "  display: flex;\n",
       "  width: 100%;\n",
       "  margin-bottom: 0;\n",
       "  padding: 0.5em;\n",
       "  box-sizing: border-box;\n",
       "  text-align: center;\n",
       "  align-items: start;\n",
       "  justify-content: space-between;\n",
       "  gap: 0.5em;\n",
       "}\n",
       "\n",
       "#sk-container-id-1 label.sk-toggleable__label .caption {\n",
       "  font-size: 0.6rem;\n",
       "  font-weight: lighter;\n",
       "  color: var(--sklearn-color-text-muted);\n",
       "}\n",
       "\n",
       "#sk-container-id-1 label.sk-toggleable__label-arrow:before {\n",
       "  /* Arrow on the left of the label */\n",
       "  content: \"▸\";\n",
       "  float: left;\n",
       "  margin-right: 0.25em;\n",
       "  color: var(--sklearn-color-icon);\n",
       "}\n",
       "\n",
       "#sk-container-id-1 label.sk-toggleable__label-arrow:hover:before {\n",
       "  color: var(--sklearn-color-text);\n",
       "}\n",
       "\n",
       "/* Toggleable content - dropdown */\n",
       "\n",
       "#sk-container-id-1 div.sk-toggleable__content {\n",
       "  max-height: 0;\n",
       "  max-width: 0;\n",
       "  overflow: hidden;\n",
       "  text-align: left;\n",
       "  /* unfitted */\n",
       "  background-color: var(--sklearn-color-unfitted-level-0);\n",
       "}\n",
       "\n",
       "#sk-container-id-1 div.sk-toggleable__content.fitted {\n",
       "  /* fitted */\n",
       "  background-color: var(--sklearn-color-fitted-level-0);\n",
       "}\n",
       "\n",
       "#sk-container-id-1 div.sk-toggleable__content pre {\n",
       "  margin: 0.2em;\n",
       "  border-radius: 0.25em;\n",
       "  color: var(--sklearn-color-text);\n",
       "  /* unfitted */\n",
       "  background-color: var(--sklearn-color-unfitted-level-0);\n",
       "}\n",
       "\n",
       "#sk-container-id-1 div.sk-toggleable__content.fitted pre {\n",
       "  /* unfitted */\n",
       "  background-color: var(--sklearn-color-fitted-level-0);\n",
       "}\n",
       "\n",
       "#sk-container-id-1 input.sk-toggleable__control:checked~div.sk-toggleable__content {\n",
       "  /* Expand drop-down */\n",
       "  max-height: 200px;\n",
       "  max-width: 100%;\n",
       "  overflow: auto;\n",
       "}\n",
       "\n",
       "#sk-container-id-1 input.sk-toggleable__control:checked~label.sk-toggleable__label-arrow:before {\n",
       "  content: \"▾\";\n",
       "}\n",
       "\n",
       "/* Pipeline/ColumnTransformer-specific style */\n",
       "\n",
       "#sk-container-id-1 div.sk-label input.sk-toggleable__control:checked~label.sk-toggleable__label {\n",
       "  color: var(--sklearn-color-text);\n",
       "  background-color: var(--sklearn-color-unfitted-level-2);\n",
       "}\n",
       "\n",
       "#sk-container-id-1 div.sk-label.fitted input.sk-toggleable__control:checked~label.sk-toggleable__label {\n",
       "  background-color: var(--sklearn-color-fitted-level-2);\n",
       "}\n",
       "\n",
       "/* Estimator-specific style */\n",
       "\n",
       "/* Colorize estimator box */\n",
       "#sk-container-id-1 div.sk-estimator input.sk-toggleable__control:checked~label.sk-toggleable__label {\n",
       "  /* unfitted */\n",
       "  background-color: var(--sklearn-color-unfitted-level-2);\n",
       "}\n",
       "\n",
       "#sk-container-id-1 div.sk-estimator.fitted input.sk-toggleable__control:checked~label.sk-toggleable__label {\n",
       "  /* fitted */\n",
       "  background-color: var(--sklearn-color-fitted-level-2);\n",
       "}\n",
       "\n",
       "#sk-container-id-1 div.sk-label label.sk-toggleable__label,\n",
       "#sk-container-id-1 div.sk-label label {\n",
       "  /* The background is the default theme color */\n",
       "  color: var(--sklearn-color-text-on-default-background);\n",
       "}\n",
       "\n",
       "/* On hover, darken the color of the background */\n",
       "#sk-container-id-1 div.sk-label:hover label.sk-toggleable__label {\n",
       "  color: var(--sklearn-color-text);\n",
       "  background-color: var(--sklearn-color-unfitted-level-2);\n",
       "}\n",
       "\n",
       "/* Label box, darken color on hover, fitted */\n",
       "#sk-container-id-1 div.sk-label.fitted:hover label.sk-toggleable__label.fitted {\n",
       "  color: var(--sklearn-color-text);\n",
       "  background-color: var(--sklearn-color-fitted-level-2);\n",
       "}\n",
       "\n",
       "/* Estimator label */\n",
       "\n",
       "#sk-container-id-1 div.sk-label label {\n",
       "  font-family: monospace;\n",
       "  font-weight: bold;\n",
       "  display: inline-block;\n",
       "  line-height: 1.2em;\n",
       "}\n",
       "\n",
       "#sk-container-id-1 div.sk-label-container {\n",
       "  text-align: center;\n",
       "}\n",
       "\n",
       "/* Estimator-specific */\n",
       "#sk-container-id-1 div.sk-estimator {\n",
       "  font-family: monospace;\n",
       "  border: 1px dotted var(--sklearn-color-border-box);\n",
       "  border-radius: 0.25em;\n",
       "  box-sizing: border-box;\n",
       "  margin-bottom: 0.5em;\n",
       "  /* unfitted */\n",
       "  background-color: var(--sklearn-color-unfitted-level-0);\n",
       "}\n",
       "\n",
       "#sk-container-id-1 div.sk-estimator.fitted {\n",
       "  /* fitted */\n",
       "  background-color: var(--sklearn-color-fitted-level-0);\n",
       "}\n",
       "\n",
       "/* on hover */\n",
       "#sk-container-id-1 div.sk-estimator:hover {\n",
       "  /* unfitted */\n",
       "  background-color: var(--sklearn-color-unfitted-level-2);\n",
       "}\n",
       "\n",
       "#sk-container-id-1 div.sk-estimator.fitted:hover {\n",
       "  /* fitted */\n",
       "  background-color: var(--sklearn-color-fitted-level-2);\n",
       "}\n",
       "\n",
       "/* Specification for estimator info (e.g. \"i\" and \"?\") */\n",
       "\n",
       "/* Common style for \"i\" and \"?\" */\n",
       "\n",
       ".sk-estimator-doc-link,\n",
       "a:link.sk-estimator-doc-link,\n",
       "a:visited.sk-estimator-doc-link {\n",
       "  float: right;\n",
       "  font-size: smaller;\n",
       "  line-height: 1em;\n",
       "  font-family: monospace;\n",
       "  background-color: var(--sklearn-color-background);\n",
       "  border-radius: 1em;\n",
       "  height: 1em;\n",
       "  width: 1em;\n",
       "  text-decoration: none !important;\n",
       "  margin-left: 0.5em;\n",
       "  text-align: center;\n",
       "  /* unfitted */\n",
       "  border: var(--sklearn-color-unfitted-level-1) 1pt solid;\n",
       "  color: var(--sklearn-color-unfitted-level-1);\n",
       "}\n",
       "\n",
       ".sk-estimator-doc-link.fitted,\n",
       "a:link.sk-estimator-doc-link.fitted,\n",
       "a:visited.sk-estimator-doc-link.fitted {\n",
       "  /* fitted */\n",
       "  border: var(--sklearn-color-fitted-level-1) 1pt solid;\n",
       "  color: var(--sklearn-color-fitted-level-1);\n",
       "}\n",
       "\n",
       "/* On hover */\n",
       "div.sk-estimator:hover .sk-estimator-doc-link:hover,\n",
       ".sk-estimator-doc-link:hover,\n",
       "div.sk-label-container:hover .sk-estimator-doc-link:hover,\n",
       ".sk-estimator-doc-link:hover {\n",
       "  /* unfitted */\n",
       "  background-color: var(--sklearn-color-unfitted-level-3);\n",
       "  color: var(--sklearn-color-background);\n",
       "  text-decoration: none;\n",
       "}\n",
       "\n",
       "div.sk-estimator.fitted:hover .sk-estimator-doc-link.fitted:hover,\n",
       ".sk-estimator-doc-link.fitted:hover,\n",
       "div.sk-label-container:hover .sk-estimator-doc-link.fitted:hover,\n",
       ".sk-estimator-doc-link.fitted:hover {\n",
       "  /* fitted */\n",
       "  background-color: var(--sklearn-color-fitted-level-3);\n",
       "  color: var(--sklearn-color-background);\n",
       "  text-decoration: none;\n",
       "}\n",
       "\n",
       "/* Span, style for the box shown on hovering the info icon */\n",
       ".sk-estimator-doc-link span {\n",
       "  display: none;\n",
       "  z-index: 9999;\n",
       "  position: relative;\n",
       "  font-weight: normal;\n",
       "  right: .2ex;\n",
       "  padding: .5ex;\n",
       "  margin: .5ex;\n",
       "  width: min-content;\n",
       "  min-width: 20ex;\n",
       "  max-width: 50ex;\n",
       "  color: var(--sklearn-color-text);\n",
       "  box-shadow: 2pt 2pt 4pt #999;\n",
       "  /* unfitted */\n",
       "  background: var(--sklearn-color-unfitted-level-0);\n",
       "  border: .5pt solid var(--sklearn-color-unfitted-level-3);\n",
       "}\n",
       "\n",
       ".sk-estimator-doc-link.fitted span {\n",
       "  /* fitted */\n",
       "  background: var(--sklearn-color-fitted-level-0);\n",
       "  border: var(--sklearn-color-fitted-level-3);\n",
       "}\n",
       "\n",
       ".sk-estimator-doc-link:hover span {\n",
       "  display: block;\n",
       "}\n",
       "\n",
       "/* \"?\"-specific style due to the `<a>` HTML tag */\n",
       "\n",
       "#sk-container-id-1 a.estimator_doc_link {\n",
       "  float: right;\n",
       "  font-size: 1rem;\n",
       "  line-height: 1em;\n",
       "  font-family: monospace;\n",
       "  background-color: var(--sklearn-color-background);\n",
       "  border-radius: 1rem;\n",
       "  height: 1rem;\n",
       "  width: 1rem;\n",
       "  text-decoration: none;\n",
       "  /* unfitted */\n",
       "  color: var(--sklearn-color-unfitted-level-1);\n",
       "  border: var(--sklearn-color-unfitted-level-1) 1pt solid;\n",
       "}\n",
       "\n",
       "#sk-container-id-1 a.estimator_doc_link.fitted {\n",
       "  /* fitted */\n",
       "  border: var(--sklearn-color-fitted-level-1) 1pt solid;\n",
       "  color: var(--sklearn-color-fitted-level-1);\n",
       "}\n",
       "\n",
       "/* On hover */\n",
       "#sk-container-id-1 a.estimator_doc_link:hover {\n",
       "  /* unfitted */\n",
       "  background-color: var(--sklearn-color-unfitted-level-3);\n",
       "  color: var(--sklearn-color-background);\n",
       "  text-decoration: none;\n",
       "}\n",
       "\n",
       "#sk-container-id-1 a.estimator_doc_link.fitted:hover {\n",
       "  /* fitted */\n",
       "  background-color: var(--sklearn-color-fitted-level-3);\n",
       "}\n",
       "</style><div id=\"sk-container-id-1\" class=\"sk-top-container\"><div class=\"sk-text-repr-fallback\"><pre>DecisionTreeClassifier(random_state=42)</pre><b>In a Jupyter environment, please rerun this cell to show the HTML representation or trust the notebook. <br />On GitHub, the HTML representation is unable to render, please try loading this page with nbviewer.org.</b></div><div class=\"sk-container\" hidden><div class=\"sk-item\"><div class=\"sk-estimator fitted sk-toggleable\"><input class=\"sk-toggleable__control sk-hidden--visually\" id=\"sk-estimator-id-1\" type=\"checkbox\" checked><label for=\"sk-estimator-id-1\" class=\"sk-toggleable__label fitted sk-toggleable__label-arrow\"><div><div>DecisionTreeClassifier</div></div><div><a class=\"sk-estimator-doc-link fitted\" rel=\"noreferrer\" target=\"_blank\" href=\"https://scikit-learn.org/1.6/modules/generated/sklearn.tree.DecisionTreeClassifier.html\">?<span>Documentation for DecisionTreeClassifier</span></a><span class=\"sk-estimator-doc-link fitted\">i<span>Fitted</span></span></div></label><div class=\"sk-toggleable__content fitted\"><pre>DecisionTreeClassifier(random_state=42)</pre></div> </div></div></div></div>"
      ],
      "text/plain": [
       "DecisionTreeClassifier(random_state=42)"
      ]
     },
     "execution_count": 16,
     "metadata": {},
     "output_type": "execute_result"
    }
   ],
   "source": [
    "clf = DecisionTreeClassifier(random_state=42)\n",
    "clf.fit(X_train_resampled, y_train_resampled)"
   ]
  },
  {
   "cell_type": "code",
   "execution_count": 17,
   "metadata": {},
   "outputs": [
    {
     "name": "stdout",
     "output_type": "stream",
     "text": [
      "Classification Report:\n",
      "               precision    recall  f1-score   support\n",
      "\n",
      "           1       0.80      0.74      0.77        58\n",
      "           2       0.78      0.78      0.78        94\n",
      "           3       0.84      0.92      0.88        91\n",
      "           4       0.86      0.43      0.57        14\n",
      "           8       0.33      1.00      0.50         1\n",
      "\n",
      "    accuracy                           0.80       258\n",
      "   macro avg       0.72      0.77      0.70       258\n",
      "weighted avg       0.81      0.80      0.80       258\n",
      "\n",
      "Confusion Matrix:\n",
      " [[43 15  0  0  0]\n",
      " [11 73 10  0  0]\n",
      " [ 0  6 84  1  0]\n",
      " [ 0  0  6  6  2]\n",
      " [ 0  0  0  0  1]]\n"
     ]
    }
   ],
   "source": [
    "y_pred = clf.predict(X_test)\n",
    "\n",
    "# Cell 7: Evaluate the Model\n",
    "# Print classification report and confusion matrix\n",
    "print(\"Classification Report:\\n\", classification_report(y_test, y_pred))\n",
    "print(\"Confusion Matrix:\\n\", confusion_matrix(y_test, y_pred))"
   ]
  },
  {
   "cell_type": "markdown",
   "metadata": {},
   "source": [
    "After analyzing the results obtained with and without the application of SMOTE, it was observed that models trained without SMOTE demonstrated superior performance in terms of accuracy and stability. Although SMOTE is an effective technique for balancing imbalanced datasets by synthesizing new samples, in this specific case, the models without SMOTE outperformed those with it. \n",
    "\n",
    "**Therefore future models will be trained without SMOTE from this point forward.**"
   ]
  },
  {
   "cell_type": "markdown",
   "metadata": {},
   "source": [
    "# Clasification\n"
   ]
  },
  {
   "cell_type": "code",
   "execution_count": 18,
   "metadata": {},
   "outputs": [],
   "source": [
    "def eval_classification(y_test, y_pred):\n",
    "    result = pd.DataFrame({\"Real\": y_test, \"Prediction\": y_pred})\n",
    "    result[\"diff\"] = result[\"Real\"] - result[\"Prediction\"]\n",
    "    Evaluator.eval_ordinal_classification(diff=abs(result[\"diff\"]))\n",
    "\n",
    "def classify(X_train, X_test, y_train, y_test , classifier, classifier_name = None) -> None:\n",
    "    classifier = classifier\n",
    "    classifier.fit(X_train, y_train)\n",
    "\n",
    "    # Predicting the test set results\n",
    "    y_pred = classifier.predict(X_test)\n",
    "    eval_classification(y_test, y_pred)\n",
    "\n",
    "    if classifier_name != None:\n",
    "        return Evaluator.eval_classification(y_pred = y_pred,  y_true=y_test, binary_classification=False, classifier_name=classifier_name)\n",
    "    return Evaluator.eval_classification(y_pred = y_pred, y_true=y_test, binary_classification=False)\n",
    "\n"
   ]
  },
  {
   "cell_type": "code",
   "execution_count": 19,
   "metadata": {},
   "outputs": [],
   "source": [
    "gas_cars = pd.merge(numerical_columns, categorical_columns, left_index=True, right_index=True, how='inner')\n",
    "numerical_column_names = list(numerical_columns.columns)\n",
    "categorical_column_names = list(categorical_columns.columns)\n",
    "\n",
    "target = gas_cars[[\"price\", \"price_categ\"]]\n",
    "gas_cars.drop(columns=[\"price\"], inplace=True)\n",
    "\n",
    "numerical_column_names.remove(\"price\")\n",
    "\n",
    "\n",
    "encoders_and_scalers = {}\n",
    "for column in numerical_column_names:\n",
    "    scaler = StandardScaler()\n",
    "    gas_cars[[column]] = scaler.fit_transform(gas_cars[[column]])\n",
    "    encoders_and_scalers[column] = scaler \n",
    "\n",
    "gas_cars_encoded = pd.get_dummies(gas_cars, columns=categorical_column_names)"
   ]
  },
  {
   "cell_type": "markdown",
   "metadata": {},
   "source": [
    "### CART"
   ]
  },
  {
   "cell_type": "code",
   "execution_count": 20,
   "metadata": {},
   "outputs": [
    {
     "data": {
      "image/png": "[encoded data removed]",
      "text/plain": [
       "<Figure size 1000x500 with 1 Axes>"
      ]
     },
     "metadata": {},
     "output_type": "display_data"
    },
    {
     "name": "stdout",
     "output_type": "stream",
     "text": [
      "{1: 50, 2: 1, 4: 4}\n",
      "Error mean: 1.2363636363636363\n",
      "Error rate: 21.31782945736434 %\n",
      "Overall mean: 0.26356589147286824\n",
      "Accuracy: 0.7868217054263565 \n",
      " Precision: 0.7963486485656501 \n",
      " Recall: 0.7868217054263565 \n",
      " F1 Score: 0.7865221653006835\n",
      "Confusion Matrix:\n",
      " [[43 15  0  0  0]\n",
      " [15 70  9  0  0]\n",
      " [ 0  7 83  1  0]\n",
      " [ 0  1  3  6  4]\n",
      " [ 0  0  0  0  1]]\n"
     ]
    }
   ],
   "source": [
    "classify(X_train, X_test, y_train, y_test, DecisionTreeClassifier(random_state=42), classifier_name=\"CART\")"
   ]
  },
  {
   "cell_type": "markdown",
   "metadata": {},
   "source": [
    "### Random forest\n",
    "Random forest can get a better result at a higher computational time cost"
   ]
  },
  {
   "cell_type": "code",
   "execution_count": 21,
   "metadata": {},
   "outputs": [
    {
     "data": {
      "image/png": "[encoded data removed]",
      "text/plain": [
       "<Figure size 1000x500 with 1 Axes>"
      ]
     },
     "metadata": {},
     "output_type": "display_data"
    },
    {
     "name": "stdout",
     "output_type": "stream",
     "text": [
      "{1: 41, 2: 1, 4: 4}\n",
      "Error mean: 1.2826086956521738\n",
      "Error rate: 17.829457364341085 %\n",
      "Overall mean: 0.22868217054263565\n",
      "Accuracy: 0.8217054263565892 \n",
      " Precision: 0.8343891402714931 \n",
      " Recall: 0.8217054263565892 \n",
      " F1 Score: 0.821667352710664\n",
      "Confusion Matrix:\n",
      " [[42 16  0  0  0]\n",
      " [ 9 80  5  0  0]\n",
      " [ 0  7 83  1  0]\n",
      " [ 0  1  3  6  4]\n",
      " [ 0  0  0  0  1]]\n"
     ]
    }
   ],
   "source": [
    "classify(X_train, X_test, y_train, y_test, RandomForestClassifier(random_state=42), classifier_name=\"RandomForestClassifier\")"
   ]
  },
  {
   "cell_type": "markdown",
   "metadata": {},
   "source": [
    "### SVM\n",
    "Much higher computational cost, more distributed error, but in overall worse result"
   ]
  },
  {
   "cell_type": "code",
   "execution_count": 22,
   "metadata": {},
   "outputs": [
    {
     "data": {
      "image/png": "[encoded data removed]",
      "text/plain": [
       "<Figure size 1000x500 with 1 Axes>"
      ]
     },
     "metadata": {},
     "output_type": "display_data"
    },
    {
     "name": "stdout",
     "output_type": "stream",
     "text": [
      "{1: 78, 2: 16, 4: 5, 5: 35, 6: 4}\n",
      "Error mean: 2.3840579710144927\n",
      "Error rate: 53.48837209302325 %\n",
      "Overall mean: 1.2751937984496124\n",
      "Accuracy: 0.46511627906976744 \n",
      " Precision: 0.5540080012693231 \n",
      " Recall: 0.46511627906976744 \n",
      " F1 Score: 0.47521715533018155\n",
      "Confusion Matrix:\n",
      " [[43 12  3  0  0]\n",
      " [32 50  8  0  4]\n",
      " [ 5 25 26  0 35]\n",
      " [ 0  8  1  0  5]\n",
      " [ 0  0  0  0  1]]\n"
     ]
    },
    {
     "name": "stderr",
     "output_type": "stream",
     "text": [
      "/home/liingfeng/Desktop/cuml/lib/python3.12/site-packages/sklearn/metrics/_classification.py:1565: UndefinedMetricWarning: Precision is ill-defined and being set to 0.0 in labels with no predicted samples. Use `zero_division` parameter to control this behavior.\n",
      "  _warn_prf(average, modifier, f\"{metric.capitalize()} is\", len(result))\n"
     ]
    }
   ],
   "source": [
    "classify(X_train_resampled, X_test, y_train_resampled, y_test, SVC(random_state=42), classifier_name=\"SVC\")"
   ]
  },
  {
   "cell_type": "code",
   "execution_count": 23,
   "metadata": {},
   "outputs": [
    {
     "data": {
      "image/png": "[encoded data removed]",
      "text/plain": [
       "<Figure size 1000x500 with 1 Axes>"
      ]
     },
     "metadata": {},
     "output_type": "display_data"
    },
    {
     "name": "stdout",
     "output_type": "stream",
     "text": [
      "{1: 80, 2: 12, 5: 1}\n",
      "Error mean: 1.1720430107526882\n",
      "Error rate: 36.04651162790697 %\n",
      "Overall mean: 0.42248062015503873\n",
      "Accuracy: 0.6395348837209303 \n",
      " Precision: 0.6417469867882253 \n",
      " Recall: 0.6395348837209303 \n",
      " F1 Score: 0.6186482228263861\n",
      "Confusion Matrix:\n",
      " [[27 27  4  0  0]\n",
      " [ 5 76 13  0  0]\n",
      " [ 0 29 62  0  0]\n",
      " [ 0  8  6  0  0]\n",
      " [ 0  0  1  0  0]]\n"
     ]
    },
    {
     "name": "stderr",
     "output_type": "stream",
     "text": [
      "/home/liingfeng/Desktop/cuml/lib/python3.12/site-packages/sklearn/metrics/_classification.py:1565: UndefinedMetricWarning: Precision is ill-defined and being set to 0.0 in labels with no predicted samples. Use `zero_division` parameter to control this behavior.\n",
      "  _warn_prf(average, modifier, f\"{metric.capitalize()} is\", len(result))\n"
     ]
    }
   ],
   "source": [
    "classify(X_train, X_test, y_train, y_test, SVC(random_state=42), classifier_name=\"SVC\")"
   ]
  },
  {
   "cell_type": "markdown",
   "metadata": {},
   "source": [
    "### Naive bayes"
   ]
  },
  {
   "cell_type": "code",
   "execution_count": 24,
   "metadata": {},
   "outputs": [
    {
     "data": {
      "image/png": "[encoded data removed]",
      "text/plain": [
       "<Figure size 1000x500 with 1 Axes>"
      ]
     },
     "metadata": {},
     "output_type": "display_data"
    },
    {
     "name": "stdout",
     "output_type": "stream",
     "text": [
      "{1: 70, 2: 2, 4: 3, 5: 4}\n",
      "Error mean: 1.3417721518987342\n",
      "Error rate: 30.620155038759687 %\n",
      "Overall mean: 0.4108527131782946\n",
      "Accuracy: 0.6937984496124031 \n",
      " Precision: 0.7252094505195179 \n",
      " Recall: 0.6937984496124031 \n",
      " F1 Score: 0.7019359225902136\n",
      "Confusion Matrix:\n",
      " [[46 12  0  0  0]\n",
      " [27 57 10  0  0]\n",
      " [ 2 13 65  7  4]\n",
      " [ 0  0  1 10  3]\n",
      " [ 0  0  0  0  1]]\n"
     ]
    }
   ],
   "source": [
    "classify(X_train, X_test, y_train, y_test, GaussianNB(), classifier_name=\"Naive bayes\")"
   ]
  },
  {
   "cell_type": "markdown",
   "metadata": {},
   "source": [
    "### ANN"
   ]
  },
  {
   "cell_type": "code",
   "execution_count": 25,
   "metadata": {},
   "outputs": [
    {
     "name": "stderr",
     "output_type": "stream",
     "text": [
      "/home/liingfeng/Desktop/cuml/lib/python3.12/site-packages/keras/src/layers/core/dense.py:87: UserWarning: Do not pass an `input_shape`/`input_dim` argument to a layer. When using Sequential models, prefer using an `Input(shape)` object as the first layer in the model instead.\n",
      "  super().__init__(activity_regularizer=activity_regularizer, **kwargs)\n",
      "I0000 00:00:1734809919.202223  214854 gpu_device.cc:2022] Created device /job:localhost/replica:0/task:0/device:GPU:0 with 7304 MB memory:  -> device: 0, name: NVIDIA GeForce RTX 3080, pci bus id: 0000:06:00.0, compute capability: 8.6\n",
      "WARNING: All log messages before absl::InitializeLog() is called are written to STDERR\n",
      "W0000 00:00:1734809919.444019  215023 gpu_backend_lib.cc:579] Can't find libdevice directory ${CUDA_DIR}/nvvm/libdevice. This may result in compilation or runtime failures, if the program we try to run uses routines from libdevice.\n",
      "Searched for CUDA in the following directories:\n",
      "  ./cuda_sdk_lib\n",
      "  ipykernel_launcher.runfiles/cuda_nvcc\n",
      "  ipykern/cuda_nvcc\n",
      "  \n",
      "  /usr/local/cuda\n",
      "  /home/liingfeng/Desktop/cuml/lib/python3.12/site-packages/tensorflow/python/platform/../../../nvidia/cuda_nvcc\n",
      "  /home/liingfeng/Desktop/cuml/lib/python3.12/site-packages/tensorflow/python/platform/../../../../nvidia/cuda_nvcc\n",
      "  /home/liingfeng/Desktop/cuml/lib/python3.12/site-packages/tensorflow/python/platform/../../cuda\n",
      "  .\n",
      "You can choose the search directory by setting xla_gpu_cuda_data_dir in HloModule's DebugOptions.  For most apps, setting the environment variable XLA_FLAGS=--xla_gpu_cuda_data_dir=/path/to/cuda will work.\n"
     ]
    },
    {
     "name": "stdout",
     "output_type": "stream",
     "text": [
      "Epoch 1/100\n"
     ]
    },
    {
     "name": "stderr",
     "output_type": "stream",
     "text": [
      "I0000 00:00:1734809920.496835  215006 service.cc:148] XLA service 0x7eff980088f0 initialized for platform CUDA (this does not guarantee that XLA will be used). Devices:\n",
      "I0000 00:00:1734809920.496852  215006 service.cc:156]   StreamExecutor device (0): NVIDIA GeForce RTX 3080, Compute Capability 8.6\n",
      "2024-12-21 20:38:40.519394: I tensorflow/compiler/mlir/tensorflow/utils/dump_mlir_util.cc:268] disabling MLIR crash reproducer, set env var `MLIR_CRASH_REPRODUCER_DIRECTORY` to enable.\n",
      "E0000 00:00:1734809920.607058  215006 cuda_dnn.cc:522] Loaded runtime CuDNN library: 9.1.0 but source was compiled with: 9.3.0.  CuDNN library needs to have matching major version and equal or higher minor version. If using a binary install, upgrade your CuDNN library.  If building from sources, make sure the library loaded at runtime is compatible with the version specified during compile configuration.\n",
      "E0000 00:00:1734809920.616106  215006 cuda_dnn.cc:522] Loaded runtime CuDNN library: 9.1.0 but source was compiled with: 9.3.0.  CuDNN library needs to have matching major version and equal or higher minor version. If using a binary install, upgrade your CuDNN library.  If building from sources, make sure the library loaded at runtime is compatible with the version specified during compile configuration.\n",
      "2024-12-21 20:38:40.618771: W tensorflow/core/framework/op_kernel.cc:1841] OP_REQUIRES failed at xla_ops.cc:577 : FAILED_PRECONDITION: DNN library initialization failed. Look at the errors above for more details.\n",
      "2024-12-21 20:38:40.618799: I tensorflow/core/framework/local_rendezvous.cc:405] Local rendezvous is aborting with status: FAILED_PRECONDITION: DNN library initialization failed. Look at the errors above for more details.\n",
      "\t [[{{node StatefulPartitionedCall}}]]\n"
     ]
    },
    {
     "ename": "FailedPreconditionError",
     "evalue": "Graph execution error:\n\nDetected at node StatefulPartitionedCall defined at (most recent call last):\n  File \"<frozen runpy>\", line 198, in _run_module_as_main\n\n  File \"<frozen runpy>\", line 88, in _run_code\n\n  File \"/home/liingfeng/Desktop/cuml/lib/python3.12/site-packages/ipykernel_launcher.py\", line 18, in <module>\n\n  File \"/home/liingfeng/Desktop/cuml/lib/python3.12/site-packages/traitlets/config/application.py\", line 1075, in launch_instance\n\n  File \"/home/liingfeng/Desktop/cuml/lib/python3.12/site-packages/ipykernel/kernelapp.py\", line 739, in start\n\n  File \"/home/liingfeng/Desktop/cuml/lib/python3.12/site-packages/tornado/platform/asyncio.py\", line 205, in start\n\n  File \"/usr/lib/python3.12/asyncio/base_events.py\", line 641, in run_forever\n\n  File \"/usr/lib/python3.12/asyncio/base_events.py\", line 1987, in _run_once\n\n  File \"/usr/lib/python3.12/asyncio/events.py\", line 88, in _run\n\n  File \"/home/liingfeng/Desktop/cuml/lib/python3.12/site-packages/ipykernel/kernelbase.py\", line 545, in dispatch_queue\n\n  File \"/home/liingfeng/Desktop/cuml/lib/python3.12/site-packages/ipykernel/kernelbase.py\", line 534, in process_one\n\n  File \"/home/liingfeng/Desktop/cuml/lib/python3.12/site-packages/ipykernel/kernelbase.py\", line 437, in dispatch_shell\n\n  File \"/home/liingfeng/Desktop/cuml/lib/python3.12/site-packages/ipykernel/ipkernel.py\", line 362, in execute_request\n\n  File \"/home/liingfeng/Desktop/cuml/lib/python3.12/site-packages/ipykernel/kernelbase.py\", line 778, in execute_request\n\n  File \"/home/liingfeng/Desktop/cuml/lib/python3.12/site-packages/ipykernel/ipkernel.py\", line 449, in do_execute\n\n  File \"/home/liingfeng/Desktop/cuml/lib/python3.12/site-packages/ipykernel/zmqshell.py\", line 549, in run_cell\n\n  File \"/home/liingfeng/Desktop/cuml/lib/python3.12/site-packages/IPython/core/interactiveshell.py\", line 3075, in run_cell\n\n  File \"/home/liingfeng/Desktop/cuml/lib/python3.12/site-packages/IPython/core/interactiveshell.py\", line 3130, in _run_cell\n\n  File \"/home/liingfeng/Desktop/cuml/lib/python3.12/site-packages/IPython/core/async_helpers.py\", line 128, in _pseudo_sync_runner\n\n  File \"/home/liingfeng/Desktop/cuml/lib/python3.12/site-packages/IPython/core/interactiveshell.py\", line 3334, in run_cell_async\n\n  File \"/home/liingfeng/Desktop/cuml/lib/python3.12/site-packages/IPython/core/interactiveshell.py\", line 3517, in run_ast_nodes\n\n  File \"/home/liingfeng/Desktop/cuml/lib/python3.12/site-packages/IPython/core/interactiveshell.py\", line 3577, in run_code\n\n  File \"/tmp/ipykernel_214854/1625366539.py\", line 25, in <module>\n\n  File \"/home/liingfeng/Desktop/cuml/lib/python3.12/site-packages/keras/src/utils/traceback_utils.py\", line 117, in error_handler\n\n  File \"/home/liingfeng/Desktop/cuml/lib/python3.12/site-packages/keras/src/backend/tensorflow/trainer.py\", line 368, in fit\n\n  File \"/home/liingfeng/Desktop/cuml/lib/python3.12/site-packages/keras/src/backend/tensorflow/trainer.py\", line 216, in function\n\n  File \"/home/liingfeng/Desktop/cuml/lib/python3.12/site-packages/keras/src/backend/tensorflow/trainer.py\", line 129, in multi_step_on_iterator\n\nDNN library initialization failed. Look at the errors above for more details.\n\t [[{{node StatefulPartitionedCall}}]] [Op:__inference_multi_step_on_iterator_1644]",
     "output_type": "error",
     "traceback": [
      "\u001b[0;31m---------------------------------------------------------------------------\u001b[0m",
      "\u001b[0;31mFailedPreconditionError\u001b[0m                   Traceback (most recent call last)",
      "Cell \u001b[0;32mIn[25], line 25\u001b[0m\n\u001b[1;32m     22\u001b[0m model\u001b[38;5;241m.\u001b[39mcompile(optimizer\u001b[38;5;241m=\u001b[39m\u001b[38;5;124m'\u001b[39m\u001b[38;5;124madam\u001b[39m\u001b[38;5;124m'\u001b[39m, loss\u001b[38;5;241m=\u001b[39m\u001b[38;5;124m'\u001b[39m\u001b[38;5;124mcategorical_crossentropy\u001b[39m\u001b[38;5;124m'\u001b[39m, metrics\u001b[38;5;241m=\u001b[39m[\u001b[38;5;124m'\u001b[39m\u001b[38;5;124maccuracy\u001b[39m\u001b[38;5;124m'\u001b[39m])\n\u001b[1;32m     24\u001b[0m \u001b[38;5;66;03m# Step 6: Train the model\u001b[39;00m\n\u001b[0;32m---> 25\u001b[0m history \u001b[38;5;241m=\u001b[39m \u001b[43mmodel\u001b[49m\u001b[38;5;241;43m.\u001b[39;49m\u001b[43mfit\u001b[49m\u001b[43m(\u001b[49m\u001b[43mX_train\u001b[49m\u001b[43m,\u001b[49m\u001b[43m \u001b[49m\u001b[43my_train\u001b[49m\u001b[43m,\u001b[49m\u001b[43m \u001b[49m\u001b[43mvalidation_data\u001b[49m\u001b[38;5;241;43m=\u001b[39;49m\u001b[43m(\u001b[49m\u001b[43mX_test\u001b[49m\u001b[43m,\u001b[49m\u001b[43m \u001b[49m\u001b[43my_test\u001b[49m\u001b[43m)\u001b[49m\u001b[43m,\u001b[49m\u001b[43m \u001b[49m\u001b[43mepochs\u001b[49m\u001b[38;5;241;43m=\u001b[39;49m\u001b[38;5;241;43m100\u001b[39;49m\u001b[43m,\u001b[49m\u001b[43m \u001b[49m\u001b[43mbatch_size\u001b[49m\u001b[38;5;241;43m=\u001b[39;49m\u001b[38;5;241;43m128\u001b[39;49m\u001b[43m)\u001b[49m\n",
      "File \u001b[0;32m~/Desktop/cuml/lib/python3.12/site-packages/keras/src/utils/traceback_utils.py:122\u001b[0m, in \u001b[0;36mfilter_traceback.<locals>.error_handler\u001b[0;34m(*args, **kwargs)\u001b[0m\n\u001b[1;32m    119\u001b[0m     filtered_tb \u001b[38;5;241m=\u001b[39m _process_traceback_frames(e\u001b[38;5;241m.\u001b[39m__traceback__)\n\u001b[1;32m    120\u001b[0m     \u001b[38;5;66;03m# To get the full stack trace, call:\u001b[39;00m\n\u001b[1;32m    121\u001b[0m     \u001b[38;5;66;03m# `keras.config.disable_traceback_filtering()`\u001b[39;00m\n\u001b[0;32m--> 122\u001b[0m     \u001b[38;5;28;01mraise\u001b[39;00m e\u001b[38;5;241m.\u001b[39mwith_traceback(filtered_tb) \u001b[38;5;28;01mfrom\u001b[39;00m \u001b[38;5;28;01mNone\u001b[39;00m\n\u001b[1;32m    123\u001b[0m \u001b[38;5;28;01mfinally\u001b[39;00m:\n\u001b[1;32m    124\u001b[0m     \u001b[38;5;28;01mdel\u001b[39;00m filtered_tb\n",
      "File \u001b[0;32m~/Desktop/cuml/lib/python3.12/site-packages/tensorflow/python/eager/execute.py:53\u001b[0m, in \u001b[0;36mquick_execute\u001b[0;34m(op_name, num_outputs, inputs, attrs, ctx, name)\u001b[0m\n\u001b[1;32m     51\u001b[0m \u001b[38;5;28;01mtry\u001b[39;00m:\n\u001b[1;32m     52\u001b[0m   ctx\u001b[38;5;241m.\u001b[39mensure_initialized()\n\u001b[0;32m---> 53\u001b[0m   tensors \u001b[38;5;241m=\u001b[39m pywrap_tfe\u001b[38;5;241m.\u001b[39mTFE_Py_Execute(ctx\u001b[38;5;241m.\u001b[39m_handle, device_name, op_name,\n\u001b[1;32m     54\u001b[0m                                       inputs, attrs, num_outputs)\n\u001b[1;32m     55\u001b[0m \u001b[38;5;28;01mexcept\u001b[39;00m core\u001b[38;5;241m.\u001b[39m_NotOkStatusException \u001b[38;5;28;01mas\u001b[39;00m e:\n\u001b[1;32m     56\u001b[0m   \u001b[38;5;28;01mif\u001b[39;00m name \u001b[38;5;129;01mis\u001b[39;00m \u001b[38;5;129;01mnot\u001b[39;00m \u001b[38;5;28;01mNone\u001b[39;00m:\n",
      "\u001b[0;31mFailedPreconditionError\u001b[0m: Graph execution error:\n\nDetected at node StatefulPartitionedCall defined at (most recent call last):\n  File \"<frozen runpy>\", line 198, in _run_module_as_main\n\n  File \"<frozen runpy>\", line 88, in _run_code\n\n  File \"/home/liingfeng/Desktop/cuml/lib/python3.12/site-packages/ipykernel_launcher.py\", line 18, in <module>\n\n  File \"/home/liingfeng/Desktop/cuml/lib/python3.12/site-packages/traitlets/config/application.py\", line 1075, in launch_instance\n\n  File \"/home/liingfeng/Desktop/cuml/lib/python3.12/site-packages/ipykernel/kernelapp.py\", line 739, in start\n\n  File \"/home/liingfeng/Desktop/cuml/lib/python3.12/site-packages/tornado/platform/asyncio.py\", line 205, in start\n\n  File \"/usr/lib/python3.12/asyncio/base_events.py\", line 641, in run_forever\n\n  File \"/usr/lib/python3.12/asyncio/base_events.py\", line 1987, in _run_once\n\n  File \"/usr/lib/python3.12/asyncio/events.py\", line 88, in _run\n\n  File \"/home/liingfeng/Desktop/cuml/lib/python3.12/site-packages/ipykernel/kernelbase.py\", line 545, in dispatch_queue\n\n  File \"/home/liingfeng/Desktop/cuml/lib/python3.12/site-packages/ipykernel/kernelbase.py\", line 534, in process_one\n\n  File \"/home/liingfeng/Desktop/cuml/lib/python3.12/site-packages/ipykernel/kernelbase.py\", line 437, in dispatch_shell\n\n  File \"/home/liingfeng/Desktop/cuml/lib/python3.12/site-packages/ipykernel/ipkernel.py\", line 362, in execute_request\n\n  File \"/home/liingfeng/Desktop/cuml/lib/python3.12/site-packages/ipykernel/kernelbase.py\", line 778, in execute_request\n\n  File \"/home/liingfeng/Desktop/cuml/lib/python3.12/site-packages/ipykernel/ipkernel.py\", line 449, in do_execute\n\n  File \"/home/liingfeng/Desktop/cuml/lib/python3.12/site-packages/ipykernel/zmqshell.py\", line 549, in run_cell\n\n  File \"/home/liingfeng/Desktop/cuml/lib/python3.12/site-packages/IPython/core/interactiveshell.py\", line 3075, in run_cell\n\n  File \"/home/liingfeng/Desktop/cuml/lib/python3.12/site-packages/IPython/core/interactiveshell.py\", line 3130, in _run_cell\n\n  File \"/home/liingfeng/Desktop/cuml/lib/python3.12/site-packages/IPython/core/async_helpers.py\", line 128, in _pseudo_sync_runner\n\n  File \"/home/liingfeng/Desktop/cuml/lib/python3.12/site-packages/IPython/core/interactiveshell.py\", line 3334, in run_cell_async\n\n  File \"/home/liingfeng/Desktop/cuml/lib/python3.12/site-packages/IPython/core/interactiveshell.py\", line 3517, in run_ast_nodes\n\n  File \"/home/liingfeng/Desktop/cuml/lib/python3.12/site-packages/IPython/core/interactiveshell.py\", line 3577, in run_code\n\n  File \"/tmp/ipykernel_214854/1625366539.py\", line 25, in <module>\n\n  File \"/home/liingfeng/Desktop/cuml/lib/python3.12/site-packages/keras/src/utils/traceback_utils.py\", line 117, in error_handler\n\n  File \"/home/liingfeng/Desktop/cuml/lib/python3.12/site-packages/keras/src/backend/tensorflow/trainer.py\", line 368, in fit\n\n  File \"/home/liingfeng/Desktop/cuml/lib/python3.12/site-packages/keras/src/backend/tensorflow/trainer.py\", line 216, in function\n\n  File \"/home/liingfeng/Desktop/cuml/lib/python3.12/site-packages/keras/src/backend/tensorflow/trainer.py\", line 129, in multi_step_on_iterator\n\nDNN library initialization failed. Look at the errors above for more details.\n\t [[{{node StatefulPartitionedCall}}]] [Op:__inference_multi_step_on_iterator_1644]"
     ]
    }
   ],
   "source": [
    "encoder = OneHotEncoder(sparse_output=False)\n",
    "y_encoded = encoder.fit_transform(data[['price_categ']])\n",
    "\n",
    "# Step 2: Split the data\n",
    "X_train, X_test, y_train, y_test = train_test_split(\n",
    "    gas_cars_encoded, y_encoded, test_size=0.3, random_state=42\n",
    ")\n",
    "\n",
    "# Step 3: Normalize the data\n",
    "scaler = StandardScaler()\n",
    "X_train = scaler.fit_transform(X_train)\n",
    "X_test = scaler.transform(X_test)\n",
    "\n",
    "# Step 4: Define the ANN model\n",
    "model = Sequential()\n",
    "model.add(Dense(128, input_dim=X_train.shape[1], activation='relu'))\n",
    "model.add(Dense(64, activation='tanh'))\n",
    "model.add(Dense(32, activation='tanh'))\n",
    "model.add(Dense(y_train.shape[1], activation='softmax'))  # Softmax for multi-class classification\n",
    "\n",
    "# Step 5: Compile the model\n",
    "model.compile(optimizer='adam', loss='categorical_crossentropy', metrics=['accuracy'])\n",
    "\n",
    "# Step 6: Train the model\n",
    "history = model.fit(X_train, y_train, validation_data=(X_test, y_test), epochs=100, batch_size=128)"
   ]
  },
  {
   "cell_type": "code",
   "execution_count": null,
   "metadata": {},
   "outputs": [],
   "source": [
    "y_pred = model.predict(X_test)\n",
    "y_pred_classes = np.argmax(y_pred, axis=1)\n",
    "y_test_classes = np.argmax(y_test, axis=1)"
   ]
  },
  {
   "cell_type": "code",
   "execution_count": null,
   "metadata": {},
   "outputs": [],
   "source": [
    "Evaluator.eval_classification(y_pred=y_pred_classes, y_true=y_test_classes, binary_classification=False, classifier_name=\"ANN\")"
   ]
  },
  {
   "cell_type": "markdown",
   "metadata": {},
   "source": [
    "## Regression"
   ]
  },
  {
   "cell_type": "code",
   "execution_count": null,
   "metadata": {},
   "outputs": [],
   "source": [
    "X_train, X_test, y_train, y_test = train_test_split(gas_cars_encoded, precios_gas, test_size=0.3, random_state=42)"
   ]
  },
  {
   "cell_type": "code",
   "execution_count": null,
   "metadata": {},
   "outputs": [],
   "source": [
    "def regression(X_train, X_test, y_train, y_test , regressor, regressor_name = None) -> None:\n",
    "    regressor = regressor\n",
    "    regressor.fit(X_train, y_train)\n",
    "    # Predicting the test set results\n",
    "    y_pred = regressor.predict(X_test)\n",
    "\n",
    "    if regressor_name != None:\n",
    "        Evaluator.eval_regression(y_pred = y_pred, bins=5, y_true=y_test, plot=False, n_features=X_train.shape[1], regressor_name=regressor_name)\n",
    "    Evaluator.eval_regression(y_pred = y_pred, y_true=y_test, plot=False)"
   ]
  },
  {
   "cell_type": "markdown",
   "metadata": {},
   "source": [
    "### Cart"
   ]
  },
  {
   "cell_type": "code",
   "execution_count": null,
   "metadata": {},
   "outputs": [],
   "source": [
    "regression(X_train, X_test, y_train, y_test , DecisionTreeRegressor(random_state=42), regressor_name=\"CART\")"
   ]
  },
  {
   "cell_type": "markdown",
   "metadata": {},
   "source": [
    "### Random Forest"
   ]
  },
  {
   "cell_type": "code",
   "execution_count": null,
   "metadata": {},
   "outputs": [],
   "source": [
    "regression(X_train, X_test, y_train, y_test , RandomForestRegressor(random_state=42), regressor_name=\"RandomForest\")"
   ]
  },
  {
   "cell_type": "markdown",
   "metadata": {},
   "source": [
    "### SVM Regression"
   ]
  },
  {
   "cell_type": "code",
   "execution_count": null,
   "metadata": {},
   "outputs": [],
   "source": [
    "regression(X_train, X_test, y_train, y_test , SVR(kernel='rbf'), regressor_name=\"SVR\")"
   ]
  },
  {
   "cell_type": "markdown",
   "metadata": {},
   "source": [
    "### Multivariable regression"
   ]
  },
  {
   "cell_type": "code",
   "execution_count": null,
   "metadata": {},
   "outputs": [],
   "source": [
    "linear_regressor = LinearRegression()\n",
    "linear_regressor.fit(X_train, y_train)\n",
    "\n",
    "# Predicting the test set results\n",
    "y_pred = linear_regressor.predict(X_test)\n",
    "\n",
    "# Optionally, display the coefficients of the model\n",
    "print(\"Coefficients:\", linear_regressor.coef_)\n",
    "print(\"Intercept:\", linear_regressor.intercept_)"
   ]
  },
  {
   "cell_type": "code",
   "execution_count": null,
   "metadata": {},
   "outputs": [],
   "source": [
    "result = pd.DataFrame({\"Real\": y_test, \"Prediction\": y_pred})\n",
    "result[\"diff\"] = result[\"Real\"].to_numpy() - result[\"Prediction\"].to_numpy()"
   ]
  },
  {
   "cell_type": "code",
   "execution_count": null,
   "metadata": {},
   "outputs": [],
   "source": [
    "result"
   ]
  },
  {
   "cell_type": "markdown",
   "metadata": {},
   "source": [
    " ### ANN"
   ]
  },
  {
   "cell_type": "code",
   "execution_count": null,
   "metadata": {},
   "outputs": [],
   "source": [
    "# Define the model\n",
    "model = Sequential()\n",
    "\n",
    "model.add(Dense(128, input_dim=X_train.shape[1], activation='relu'))\n",
    "model.add(Dense(64, activation='relu'))\n",
    "model.add(Dense(32, activation='relu'))\n",
    "model.add(Dense(16, activation='linear'))\n",
    "model.add(Dense(1))\n"
   ]
  },
  {
   "cell_type": "code",
   "execution_count": null,
   "metadata": {},
   "outputs": [],
   "source": [
    "model.compile(optimizer='adam', loss='mean_squared_error', metrics=['mae'])"
   ]
  },
  {
   "cell_type": "code",
   "execution_count": null,
   "metadata": {},
   "outputs": [],
   "source": [
    "# Train the model\n",
    "history = model.fit(X_train, y_train, validation_data=(X_test, y_test), epochs=100, batch_size=128)\n"
   ]
  },
  {
   "cell_type": "code",
   "execution_count": null,
   "metadata": {},
   "outputs": [],
   "source": [
    "loss, mae = model.evaluate(X_test, y_test, verbose=2)\n",
    "print(f\"Mean Absolute Error on test set: {mae:.2f}\")"
   ]
  },
  {
   "cell_type": "code",
   "execution_count": null,
   "metadata": {},
   "outputs": [],
   "source": [
    "# Plot the loss curve\n",
    "plt.plot(history.history['loss'], label='Training Loss')\n",
    "plt.plot(history.history['val_loss'], label='Validation Loss')\n",
    "plt.xlabel('Epoch')\n",
    "plt.ylabel('Loss')\n",
    "plt.legend()\n",
    "plt.title('Model Loss Curve')\n",
    "plt.show()"
   ]
  },
  {
   "cell_type": "code",
   "execution_count": null,
   "metadata": {},
   "outputs": [],
   "source": [
    "y_pred = model.predict(X_test).flatten()"
   ]
  },
  {
   "cell_type": "code",
   "execution_count": null,
   "metadata": {},
   "outputs": [],
   "source": [
    "Evaluator.eval_regression(y_pred=y_pred, y_true=y_test, plot=False, n_features=X_train.shape[1], regressor_name=\"ANN\")"
   ]
  },
  {
   "cell_type": "code",
   "execution_count": null,
   "metadata": {},
   "outputs": [],
   "source": [
    "Evaluator.save(\"gas\")"
   ]
  },
  {
   "cell_type": "markdown",
   "metadata": {},
   "source": [
    "# Clustering"
   ]
  },
  {
   "cell_type": "code",
   "execution_count": 32,
   "metadata": {},
   "outputs": [],
   "source": [
    "ground_truth = gas_cars_encoded[\"price_categ\"]"
   ]
  },
  {
   "cell_type": "code",
   "execution_count": 33,
   "metadata": {},
   "outputs": [],
   "source": [
    "cluster_generator = ClusterGenerator(gas_cars_encoded.drop(columns=[\"price_categ\"]), use_cuml=True)"
   ]
  },
  {
   "cell_type": "code",
   "execution_count": 34,
   "metadata": {},
   "outputs": [
    {
     "name": "stderr",
     "output_type": "stream",
     "text": [
      "[I 2024-12-21 20:42:17,653] A new study created in memory with name: no-name-0bf02ed1-bccc-460e-9797-71685fc74934\n"
     ]
    },
    {
     "name": "stdout",
     "output_type": "stream",
     "text": [
      "Optimizing method: kmeans\n"
     ]
    },
    {
     "name": "stderr",
     "output_type": "stream",
     "text": [
      "[I 2024-12-21 20:42:19,181] Trial 0 finished with value: 0.19637512720964115 and parameters: {'n_clusters': 7, 'init': 'k-means++', 'n_init': 21, 'max_iter': 439}. Best is trial 0 with value: 0.19637512720964115.\n",
      "[I 2024-12-21 20:42:21,080] Trial 1 finished with value: 0.2025326366077342 and parameters: {'n_clusters': 10, 'init': 'k-means++', 'n_init': 27, 'max_iter': 167}. Best is trial 1 with value: 0.2025326366077342.\n",
      "[I 2024-12-21 20:42:22,513] Trial 2 finished with value: 0.24918657673773814 and parameters: {'n_clusters': 4, 'init': 'k-means++', 'n_init': 21, 'max_iter': 199}. Best is trial 2 with value: 0.24918657673773814.\n",
      "[I 2024-12-21 20:42:23,752] Trial 3 finished with value: 0.211986095885711 and parameters: {'n_clusters': 2, 'init': 'k-means++', 'n_init': 22, 'max_iter': 196}. Best is trial 2 with value: 0.24918657673773814.\n",
      "[I 2024-12-21 20:42:25,104] Trial 4 finished with value: 0.2295431152026121 and parameters: {'n_clusters': 3, 'init': 'k-means++', 'n_init': 23, 'max_iter': 368}. Best is trial 2 with value: 0.24918657673773814.\n",
      "/home/liingfeng/Desktop/cuml/lib/python3.12/site-packages/sklearn/metrics/cluster/_supervised.py:59: UserWarning: Clustering metrics expects discrete values but received continuous values for label, and multiclass values for target\n",
      "  warnings.warn(msg, UserWarning)\n",
      "/home/liingfeng/Desktop/cuml/lib/python3.12/site-packages/sklearn/metrics/cluster/_supervised.py:59: UserWarning: Clustering metrics expects discrete values but received continuous values for label, and multiclass values for target\n",
      "  warnings.warn(msg, UserWarning)\n",
      "/home/liingfeng/Desktop/cuml/lib/python3.12/site-packages/sklearn/metrics/cluster/_supervised.py:59: UserWarning: Clustering metrics expects discrete values but received continuous values for label, and multiclass values for target\n",
      "  warnings.warn(msg, UserWarning)\n",
      "/home/liingfeng/Desktop/cuml/lib/python3.12/site-packages/sklearn/metrics/cluster/_supervised.py:59: UserWarning: Clustering metrics expects discrete values but received continuous values for label, and multiclass values for target\n",
      "  warnings.warn(msg, UserWarning)\n",
      "/home/liingfeng/Desktop/cuml/lib/python3.12/site-packages/sklearn/metrics/cluster/_supervised.py:59: UserWarning: Clustering metrics expects discrete values but received continuous values for label, and multiclass values for target\n",
      "  warnings.warn(msg, UserWarning)\n",
      "[I 2024-12-21 20:42:26,751] A new study created in memory with name: no-name-f9bafc11-e046-45f2-ba24-924940cf9abb\n"
     ]
    },
    {
     "name": "stdout",
     "output_type": "stream",
     "text": [
      "Optimizing method: agglomerative\n"
     ]
    },
    {
     "name": "stderr",
     "output_type": "stream",
     "text": [
      "[I 2024-12-21 20:42:28,902] Trial 0 finished with value: 0.1706518540802327 and parameters: {'n_clusters': 2, 'linkage': 'ward'}. Best is trial 0 with value: 0.1706518540802327.\n",
      "[I 2024-12-21 20:42:34,515] Trial 1 finished with value: 0.16924841409491778 and parameters: {'n_clusters': 8, 'linkage': 'single'}. Best is trial 0 with value: 0.1706518540802327.\n",
      "[I 2024-12-21 20:42:36,705] Trial 2 finished with value: 0.15418922619816672 and parameters: {'n_clusters': 5, 'linkage': 'complete'}. Best is trial 0 with value: 0.1706518540802327.\n",
      "[I 2024-12-21 20:42:42,334] Trial 3 finished with value: 0.012031144587665315 and parameters: {'n_clusters': 15, 'linkage': 'single'}. Best is trial 0 with value: 0.1706518540802327.\n",
      "[I 2024-12-21 20:42:44,502] Trial 4 finished with value: 0.14578467695915473 and parameters: {'n_clusters': 9, 'linkage': 'complete'}. Best is trial 0 with value: 0.1706518540802327.\n",
      "/home/liingfeng/Desktop/cuml/lib/python3.12/site-packages/sklearn/metrics/cluster/_supervised.py:59: UserWarning: Clustering metrics expects discrete values but received continuous values for label, and binary values for target\n",
      "  warnings.warn(msg, UserWarning)\n",
      "/home/liingfeng/Desktop/cuml/lib/python3.12/site-packages/sklearn/metrics/cluster/_supervised.py:59: UserWarning: Clustering metrics expects discrete values but received continuous values for label, and binary values for target\n",
      "  warnings.warn(msg, UserWarning)\n",
      "/home/liingfeng/Desktop/cuml/lib/python3.12/site-packages/sklearn/metrics/cluster/_supervised.py:59: UserWarning: Clustering metrics expects discrete values but received continuous values for label, and binary values for target\n",
      "  warnings.warn(msg, UserWarning)\n",
      "/home/liingfeng/Desktop/cuml/lib/python3.12/site-packages/sklearn/metrics/cluster/_supervised.py:59: UserWarning: Clustering metrics expects discrete values but received continuous values for label, and binary values for target\n",
      "  warnings.warn(msg, UserWarning)\n",
      "/home/liingfeng/Desktop/cuml/lib/python3.12/site-packages/sklearn/metrics/cluster/_supervised.py:59: UserWarning: Clustering metrics expects discrete values but received continuous values for label, and binary values for target\n",
      "  warnings.warn(msg, UserWarning)\n",
      "[I 2024-12-21 20:42:46,887] A new study created in memory with name: no-name-49697479-de06-4d23-88a4-6a69b28a5cdf\n"
     ]
    },
    {
     "name": "stdout",
     "output_type": "stream",
     "text": [
      "Optimizing method: dbscan\n"
     ]
    },
    {
     "name": "stderr",
     "output_type": "stream",
     "text": [
      "[I 2024-12-21 20:42:47,932] Trial 0 finished with value: -0.006100631938313354 and parameters: {'eps': 1.3477784433482314, 'min_samples': 17, 'algorithm': 'brute'}. Best is trial 0 with value: -0.006100631938313354.\n",
      "[I 2024-12-21 20:42:48,722] Trial 1 finished with value: -1.0 and parameters: {'eps': 0.2436969018333823, 'min_samples': 17, 'algorithm': 'auto'}. Best is trial 0 with value: -0.006100631938313354.\n",
      "[I 2024-12-21 20:42:49,478] Trial 2 finished with value: -1.0 and parameters: {'eps': 0.19080507593088267, 'min_samples': 19, 'algorithm': 'auto'}. Best is trial 0 with value: -0.006100631938313354.\n",
      "[I 2024-12-21 20:42:50,350] Trial 3 finished with value: -0.14998798072225114 and parameters: {'eps': 0.35691342377590035, 'min_samples': 9, 'algorithm': 'brute'}. Best is trial 0 with value: -0.006100631938313354.\n",
      "[I 2024-12-21 20:42:51,241] Trial 4 finished with value: -0.25188094891192514 and parameters: {'eps': 0.5811960924209961, 'min_samples': 9, 'algorithm': 'auto'}. Best is trial 0 with value: -0.006100631938313354.\n",
      "/home/liingfeng/Desktop/cuml/lib/python3.12/site-packages/sklearn/metrics/cluster/_supervised.py:59: UserWarning: Clustering metrics expects discrete values but received continuous values for label, and multiclass values for target\n",
      "  warnings.warn(msg, UserWarning)\n",
      "/home/liingfeng/Desktop/cuml/lib/python3.12/site-packages/sklearn/metrics/cluster/_supervised.py:59: UserWarning: Clustering metrics expects discrete values but received continuous values for label, and multiclass values for target\n",
      "  warnings.warn(msg, UserWarning)\n",
      "/home/liingfeng/Desktop/cuml/lib/python3.12/site-packages/sklearn/metrics/cluster/_supervised.py:59: UserWarning: Clustering metrics expects discrete values but received continuous values for label, and multiclass values for target\n",
      "  warnings.warn(msg, UserWarning)\n",
      "/home/liingfeng/Desktop/cuml/lib/python3.12/site-packages/sklearn/metrics/cluster/_supervised.py:59: UserWarning: Clustering metrics expects discrete values but received continuous values for label, and multiclass values for target\n",
      "  warnings.warn(msg, UserWarning)\n",
      "/home/liingfeng/Desktop/cuml/lib/python3.12/site-packages/sklearn/metrics/cluster/_supervised.py:59: UserWarning: Clustering metrics expects discrete values but received continuous values for label, and multiclass values for target\n",
      "  warnings.warn(msg, UserWarning)\n",
      "[I 2024-12-21 20:42:52,321] A new study created in memory with name: no-name-35685ec2-15a1-45b2-89a4-c48a01049056\n"
     ]
    },
    {
     "name": "stdout",
     "output_type": "stream",
     "text": [
      "Optimizing method: birch\n"
     ]
    },
    {
     "name": "stderr",
     "output_type": "stream",
     "text": [
      "[I 2024-12-21 20:42:54,297] Trial 0 finished with value: 0.22176355702598133 and parameters: {'threshold': 0.4609454175736115, 'n_clusters': 10, 'branching_factor': 34}. Best is trial 0 with value: 0.22176355702598133.\n",
      "[I 2024-12-21 20:42:56,377] Trial 1 finished with value: 0.2580959053376934 and parameters: {'threshold': 0.49865367501170454, 'n_clusters': 15, 'branching_factor': 70}. Best is trial 1 with value: 0.2580959053376934.\n",
      "[I 2024-12-21 20:42:58,463] Trial 2 finished with value: 0.23604430031944632 and parameters: {'threshold': 0.3604748229043072, 'n_clusters': 11, 'branching_factor': 67}. Best is trial 1 with value: 0.2580959053376934.\n",
      "[I 2024-12-21 20:42:59,895] Trial 3 finished with value: 0.22583309639096724 and parameters: {'threshold': 0.7430421583973796, 'n_clusters': 11, 'branching_factor': 40}. Best is trial 1 with value: 0.2580959053376934.\n",
      "[I 2024-12-21 20:43:01,544] Trial 4 finished with value: 0.24004819072095362 and parameters: {'threshold': 0.8010056998215899, 'n_clusters': 12, 'branching_factor': 100}. Best is trial 1 with value: 0.2580959053376934.\n",
      "/home/liingfeng/Desktop/cuml/lib/python3.12/site-packages/sklearn/metrics/cluster/_supervised.py:59: UserWarning: Clustering metrics expects discrete values but received continuous values for label, and multiclass values for target\n",
      "  warnings.warn(msg, UserWarning)\n",
      "/home/liingfeng/Desktop/cuml/lib/python3.12/site-packages/sklearn/metrics/cluster/_supervised.py:59: UserWarning: Clustering metrics expects discrete values but received continuous values for label, and multiclass values for target\n",
      "  warnings.warn(msg, UserWarning)\n",
      "/home/liingfeng/Desktop/cuml/lib/python3.12/site-packages/sklearn/metrics/cluster/_supervised.py:59: UserWarning: Clustering metrics expects discrete values but received continuous values for label, and multiclass values for target\n",
      "  warnings.warn(msg, UserWarning)\n",
      "/home/liingfeng/Desktop/cuml/lib/python3.12/site-packages/sklearn/metrics/cluster/_supervised.py:59: UserWarning: Clustering metrics expects discrete values but received continuous values for label, and multiclass values for target\n",
      "  warnings.warn(msg, UserWarning)\n",
      "/home/liingfeng/Desktop/cuml/lib/python3.12/site-packages/sklearn/metrics/cluster/_supervised.py:59: UserWarning: Clustering metrics expects discrete values but received continuous values for label, and multiclass values for target\n",
      "  warnings.warn(msg, UserWarning)\n",
      "[I 2024-12-21 20:43:03,997] A new study created in memory with name: no-name-17b33605-691f-44f5-98ff-3fa4de9db139\n"
     ]
    },
    {
     "name": "stdout",
     "output_type": "stream",
     "text": [
      "Optimizing method: optics\n"
     ]
    },
    {
     "name": "stderr",
     "output_type": "stream",
     "text": [
      "/home/liingfeng/Desktop/cuml/lib/python3.12/site-packages/sklearn/cluster/_optics.py:664: UserWarning: All reachability values are inf. Set a larger max_eps or all data will be considered outliers.\n",
      "  warnings.warn(\n",
      "[I 2024-12-21 20:43:04,264] Trial 0 finished with value: -1.0 and parameters: {'min_samples': 13, 'max_eps': 0.143807876057025, 'metric': 'minkowski', 'cluster_method': 'xi'}. Best is trial 0 with value: -1.0.\n",
      "/home/liingfeng/Desktop/cuml/lib/python3.12/site-packages/sklearn/cluster/_optics.py:664: UserWarning: All reachability values are inf. Set a larger max_eps or all data will be considered outliers.\n",
      "  warnings.warn(\n",
      "[I 2024-12-21 20:43:04,515] Trial 1 finished with value: -1.0 and parameters: {'min_samples': 20, 'max_eps': 0.3837645930391857, 'metric': 'euclidean', 'cluster_method': 'dbscan'}. Best is trial 0 with value: -1.0.\n",
      "[I 2024-12-21 20:43:07,994] Trial 2 finished with value: -0.16406826354671394 and parameters: {'min_samples': 16, 'max_eps': 1.6704197022551928, 'metric': 'manhattan', 'cluster_method': 'dbscan'}. Best is trial 2 with value: -0.16406826354671394.\n",
      "[I 2024-12-21 20:43:08,266] Trial 3 finished with value: -1.0 and parameters: {'min_samples': 13, 'max_eps': 0.3094169353441762, 'metric': 'minkowski', 'cluster_method': 'xi'}. Best is trial 2 with value: -0.16406826354671394.\n",
      "/home/liingfeng/Desktop/cuml/lib/python3.12/site-packages/sklearn/cluster/_optics.py:664: UserWarning: All reachability values are inf. Set a larger max_eps or all data will be considered outliers.\n",
      "  warnings.warn(\n",
      "[I 2024-12-21 20:43:11,492] Trial 4 finished with value: -1.0 and parameters: {'min_samples': 11, 'max_eps': 0.14274317438294112, 'metric': 'manhattan', 'cluster_method': 'dbscan'}. Best is trial 2 with value: -0.16406826354671394.\n",
      "/home/liingfeng/Desktop/cuml/lib/python3.12/site-packages/sklearn/metrics/cluster/_supervised.py:59: UserWarning: Clustering metrics expects discrete values but received continuous values for label, and multiclass values for target\n",
      "  warnings.warn(msg, UserWarning)\n",
      "/home/liingfeng/Desktop/cuml/lib/python3.12/site-packages/sklearn/metrics/cluster/_supervised.py:59: UserWarning: Clustering metrics expects discrete values but received continuous values for label, and multiclass values for target\n",
      "  warnings.warn(msg, UserWarning)\n",
      "/home/liingfeng/Desktop/cuml/lib/python3.12/site-packages/sklearn/metrics/cluster/_supervised.py:59: UserWarning: Clustering metrics expects discrete values but received continuous values for label, and multiclass values for target\n",
      "  warnings.warn(msg, UserWarning)\n",
      "/home/liingfeng/Desktop/cuml/lib/python3.12/site-packages/sklearn/metrics/cluster/_supervised.py:59: UserWarning: Clustering metrics expects discrete values but received continuous values for label, and multiclass values for target\n",
      "  warnings.warn(msg, UserWarning)\n",
      "/home/liingfeng/Desktop/cuml/lib/python3.12/site-packages/sklearn/metrics/cluster/_supervised.py:59: UserWarning: Clustering metrics expects discrete values but received continuous values for label, and multiclass values for target\n",
      "  warnings.warn(msg, UserWarning)\n",
      "[I 2024-12-21 20:43:15,234] A new study created in memory with name: no-name-22bf7f82-549a-44ca-b90f-50d7f96cec44\n"
     ]
    },
    {
     "name": "stdout",
     "output_type": "stream",
     "text": [
      "Optimizing method: gmm\n"
     ]
    },
    {
     "name": "stderr",
     "output_type": "stream",
     "text": [
      "[I 2024-12-21 20:43:15,990] Trial 0 finished with value: 0.1838206651272888 and parameters: {'n_components': 6, 'covariance_type': 'spherical', 'tol': 0.0002219760770172421, 'reg_covar': 3.934263558626235e-06, 'max_iter': 140}. Best is trial 0 with value: 0.1838206651272888.\n",
      "[I 2024-12-21 20:44:22,724] Trial 1 finished with value: 0.20831046958847863 and parameters: {'n_components': 12, 'covariance_type': 'tied', 'tol': 0.0021721153059831503, 'reg_covar': 0.00821120137455715, 'max_iter': 161}. Best is trial 1 with value: 0.20831046958847863.\n",
      "[I 2024-12-21 20:44:23,282] Trial 2 finished with value: 0.2310430797773276 and parameters: {'n_components': 3, 'covariance_type': 'diag', 'tol': 0.00026564816659645137, 'reg_covar': 0.0003233454141996387, 'max_iter': 116}. Best is trial 2 with value: 0.2310430797773276.\n",
      "[I 2024-12-21 20:49:44,740] Trial 3 finished with value: 0.20369182989599408 and parameters: {'n_components': 11, 'covariance_type': 'full', 'tol': 0.00013574997152770266, 'reg_covar': 0.00024417719460383824, 'max_iter': 153}. Best is trial 2 with value: 0.2310430797773276.\n",
      "[I 2024-12-21 20:50:06,667] Trial 4 finished with value: 0.2310430797773276 and parameters: {'n_components': 3, 'covariance_type': 'tied', 'tol': 0.0015958140423983152, 'reg_covar': 0.0002579617528740033, 'max_iter': 108}. Best is trial 2 with value: 0.2310430797773276.\n",
      "/home/liingfeng/Desktop/cuml/lib/python3.12/site-packages/sklearn/metrics/cluster/_supervised.py:59: UserWarning: Clustering metrics expects discrete values but received continuous values for label, and multiclass values for target\n",
      "  warnings.warn(msg, UserWarning)\n",
      "/home/liingfeng/Desktop/cuml/lib/python3.12/site-packages/sklearn/metrics/cluster/_supervised.py:59: UserWarning: Clustering metrics expects discrete values but received continuous values for label, and multiclass values for target\n",
      "  warnings.warn(msg, UserWarning)\n",
      "/home/liingfeng/Desktop/cuml/lib/python3.12/site-packages/sklearn/metrics/cluster/_supervised.py:59: UserWarning: Clustering metrics expects discrete values but received continuous values for label, and multiclass values for target\n",
      "  warnings.warn(msg, UserWarning)\n",
      "/home/liingfeng/Desktop/cuml/lib/python3.12/site-packages/sklearn/metrics/cluster/_supervised.py:59: UserWarning: Clustering metrics expects discrete values but received continuous values for label, and multiclass values for target\n",
      "  warnings.warn(msg, UserWarning)\n",
      "/home/liingfeng/Desktop/cuml/lib/python3.12/site-packages/sklearn/metrics/cluster/_supervised.py:59: UserWarning: Clustering metrics expects discrete values but received continuous values for label, and multiclass values for target\n",
      "  warnings.warn(msg, UserWarning)\n"
     ]
    },
    {
     "data": {
      "text/plain": [
       "{'internalEvaluation': {'Algorithm': ['kmeans',\n",
       "   'agglomerative',\n",
       "   'dbscan',\n",
       "   'birch',\n",
       "   'optics',\n",
       "   'gmm'],\n",
       "  'silhouette_score': [0.24918657673773814,\n",
       "   0.1706518540802327,\n",
       "   -0.006100631938313354,\n",
       "   0.2580959053376934,\n",
       "   -0.16406826354671394,\n",
       "   0.2310430797773276],\n",
       "  'calinski_harabasz_score': [287.67385620093694,\n",
       "   248.67818257412216,\n",
       "   20.933458542509094,\n",
       "   178.73450726102743,\n",
       "   17.55127893562196,\n",
       "   270.808917360441],\n",
       "  'davies_bouldin_score': [1.4326663359577634,\n",
       "   2.0906440571672547,\n",
       "   1.0215348751442062,\n",
       "   1.4422800479585525,\n",
       "   1.1832647750624736,\n",
       "   1.7204365855348935]},\n",
       " 'externalEvaluation': {'Algorithm': ['kmeans',\n",
       "   'agglomerative',\n",
       "   'dbscan',\n",
       "   'birch',\n",
       "   'optics',\n",
       "   'gmm'],\n",
       "  'adjusted_rand_score': [0.14470883648092137,\n",
       "   0.07970033227327794,\n",
       "   0.021484288143870003,\n",
       "   0.07956819588338576,\n",
       "   0.02324962366045841,\n",
       "   0.08016569356969573],\n",
       "  'normalized_mutual_info_score': [0.15539671184431264,\n",
       "   0.10987181607460414,\n",
       "   0.0567021171832858,\n",
       "   0.22374407944515096,\n",
       "   0.06445076814277441,\n",
       "   0.07323921750870971],\n",
       "  'completeness_score': [0.1598939334206177,\n",
       "   0.15049551481140216,\n",
       "   0.23688253789029312,\n",
       "   0.16466489872375373,\n",
       "   0.19816501512923038,\n",
       "   0.08031924433846699],\n",
       "  'v_measure_score': [0.1553967118443126,\n",
       "   0.10987181607460414,\n",
       "   0.0567021171832858,\n",
       "   0.22374407944515096,\n",
       "   0.06445076814277441,\n",
       "   0.0732392175087097]},\n",
       " 'best_params': {'kmeans': {'n_clusters': 4,\n",
       "   'init': 'k-means++',\n",
       "   'n_init': 21,\n",
       "   'max_iter': 199},\n",
       "  'agglomerative': {'n_clusters': 2, 'linkage': 'ward'},\n",
       "  'dbscan': {'eps': 1.3477784433482314,\n",
       "   'min_samples': 17,\n",
       "   'algorithm': 'brute'},\n",
       "  'birch': {'threshold': 0.49865367501170454,\n",
       "   'n_clusters': 15,\n",
       "   'branching_factor': 70},\n",
       "  'optics': {'min_samples': 16,\n",
       "   'max_eps': 1.6704197022551928,\n",
       "   'metric': 'manhattan',\n",
       "   'cluster_method': 'dbscan'},\n",
       "  'gmm': {'n_components': 3,\n",
       "   'covariance_type': 'diag',\n",
       "   'tol': 0.00026564816659645137,\n",
       "   'reg_covar': 0.0003233454141996387,\n",
       "   'max_iter': 116}}}"
      ]
     },
     "execution_count": 34,
     "metadata": {},
     "output_type": "execute_result"
    }
   ],
   "source": [
    "cluster_generator.generate(n_trials=5, ground_truth=ground_truth)"
   ]
  },
  {
   "cell_type": "code",
   "execution_count": 35,
   "metadata": {},
   "outputs": [
    {
     "data": {
      "text/plain": [
       "{'Algorithm': ['kmeans', 'agglomerative', 'dbscan', 'birch', 'optics', 'gmm'],\n",
       " 'silhouette_score': [0.24918657673773814,\n",
       "  0.1706518540802327,\n",
       "  -0.006100631938313354,\n",
       "  0.2580959053376934,\n",
       "  -0.16406826354671394,\n",
       "  0.2310430797773276],\n",
       " 'calinski_harabasz_score': [287.67385620093694,\n",
       "  248.67818257412216,\n",
       "  20.933458542509094,\n",
       "  178.73450726102743,\n",
       "  17.55127893562196,\n",
       "  270.808917360441],\n",
       " 'davies_bouldin_score': [1.4326663359577634,\n",
       "  2.0906440571672547,\n",
       "  1.0215348751442062,\n",
       "  1.4422800479585525,\n",
       "  1.1832647750624736,\n",
       "  1.7204365855348935]}"
      ]
     },
     "execution_count": 35,
     "metadata": {},
     "output_type": "execute_result"
    }
   ],
   "source": [
    "cluster_generator.internalEvaluation"
   ]
  },
  {
   "cell_type": "code",
   "execution_count": 36,
   "metadata": {},
   "outputs": [],
   "source": [
    "cluster_generator.save(\"gas\")"
   ]
  }
 ],
 "metadata": {
  "kernelspec": {
   "display_name": "cuml",
   "language": "python",
   "name": "python3"
  },
  "language_info": {
   "codemirror_mode": {
    "name": "ipython",
    "version": 3
   },
   "file_extension": ".py",
   "mimetype": "text/x-python",
   "name": "python",
   "nbconvert_exporter": "python",
   "pygments_lexer": "ipython3",
   "version": "3.12.3"
  }
 },
 "nbformat": 4,
 "nbformat_minor": 2
}
