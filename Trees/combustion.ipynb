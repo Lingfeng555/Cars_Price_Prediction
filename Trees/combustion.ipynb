{
 "cells": [
  {
   "cell_type": "markdown",
   "metadata": {},
   "source": [
    "# Import and loading"
   ]
  },
  {
   "cell_type": "code",
   "execution_count": 5,
   "metadata": {},
   "outputs": [],
   "source": [
    "import sys\n",
    "sys.path.insert(1, '../') \n",
    "from utils.loader import Loader\n",
    "from utils import data_processing\n",
    "\n",
    "import pandas as pd\n",
    "from sklearn import tree\n",
    "import os\n",
    "import seaborn as sns\n",
    "import matplotlib.pyplot as plt\n",
    "from sklearn.model_selection import train_test_split\n",
    "from sklearn.preprocessing import LabelEncoder, StandardScaler\n",
    "from sklearn.tree import DecisionTreeClassifier, plot_tree\n",
    "from sklearn.metrics import accuracy_score, classification_report, confusion_matrix\n",
    "from sklearn.preprocessing import LabelEncoder, StandardScaler\n",
    "from sklearn.tree import DecisionTreeClassifier, plot_tree\n",
    "from sklearn.decomposition import PCA,TruncatedSVD\n",
    "from sklearn.linear_model import LinearRegression\n",
    "from sklearn.impute import SimpleImputer\n",
    "from sklearn.metrics import mean_absolute_error\n",
    "from sklearn.tree import DecisionTreeRegressor\n",
    "from sklearn.feature_selection import chi2\n",
    "import matplotlib.pyplot as plt\n",
    "from mpl_toolkits.mplot3d import Axes3D\n",
    "import prince\n",
    "import numpy as np"
   ]
  },
  {
   "cell_type": "code",
   "execution_count": 6,
   "metadata": {},
   "outputs": [
    {
     "name": "stderr",
     "output_type": "stream",
     "text": [
      "/home/lingfeng/Desktop/repos/Cars_Price_Prediction/Trees/../utils/loader.py:133: DtypeWarning: Columns (120) have mixed types. Specify dtype option on import or set low_memory=False.\n",
      "  df = pd.read_csv(file_path,\n",
      "/home/lingfeng/Desktop/repos/Cars_Price_Prediction/Trees/../utils/loader.py:133: DtypeWarning: Columns (120) have mixed types. Specify dtype option on import or set low_memory=False.\n",
      "  df = pd.read_csv(file_path,\n",
      "/home/lingfeng/Desktop/repos/Cars_Price_Prediction/Trees/../utils/loader.py:145: FutureWarning: A value is trying to be set on a copy of a DataFrame or Series through chained assignment using an inplace method.\n",
      "The behavior will change in pandas 3.0. This inplace method will never work because the intermediate object on which we are setting values always behaves as a copy.\n",
      "\n",
      "For example, when doing 'df[col].method(value, inplace=True)', try using 'df.method({col: value}, inplace=True)' or df[col] = df[col].method(value) instead, to perform the operation inplace on the original object.\n",
      "\n",
      "\n",
      "  merged_df[\"km\"].fillna(0, inplace=True)\n"
     ]
    }
   ],
   "source": [
    "data = Loader.load_by_fueltype(\"Combustion\")"
   ]
  },
  {
   "cell_type": "markdown",
   "metadata": {},
   "source": [
    "# Functions"
   ]
  },
  {
   "cell_type": "code",
   "execution_count": 7,
   "metadata": {},
   "outputs": [],
   "source": [
    "def drop_columns_full_nan(data: pd.DataFrame) -> pd.DataFrame:\n",
    "    #Remove the column that only contain NAs\n",
    "    cols_to_drop = data.columns[data.isna().all()]\n",
    "    data = data.drop(cols_to_drop, axis=1)\n",
    "    return data\n",
    "\n",
    "def get_combustion_numerical_columns (data: pd.DataFrame) -> pd.DataFrame:\n",
    "    numerical_columns = data.select_dtypes(include=['number'])\n",
    "\n",
    "    #if all the values of the numerical columns is 0, we rem['Combustion']ove the column\n",
    "    cols_to_drop = numerical_columns.columns[(numerical_columns == 0).all()]\n",
    "    numerical_columns = numerical_columns.drop(cols_to_drop, axis=1)\n",
    "    return numerical_columns\n",
    "\n",
    "def fill_combustion_numerical_columns(numerical_columns: pd.DataFrame) -> pd.DataFrame:\n",
    "    cols_mode = ['displacement_liters','doors','seatingCapacity','number_of_cylinders','cubicCapacity',\"dimensions.length\",\"dimensions.height\",\"Llantas_Diametro_cm\",\"number_of_cylinders\",\"bore_diameter\",\"stroke_length\"]\n",
    "    #fill the elemental columns that has a minor amount of missing data with the mode\n",
    "    for col in cols_mode:\n",
    "        numerical_columns = data_processing.fill_na_with_mode(numerical_columns, col)\n",
    "\n",
    "    #fill the missing data witch regression, the parameters were based on the relation matrix \n",
    "    numerical_columns = data_processing.impute_with_linear_regression(data=numerical_columns, x_columns=[\"dimensions.length\", \"dimensions.height\"], y_column=\"dimensions.width\")\n",
    "    numerical_columns = data_processing.impute_with_linear_regression(data=numerical_columns, x_columns=[\"dimensions.length\", \"dimensions.height\", \"dimensions.width\"], y_column=\"trunkCapacityInLiters\")\n",
    "    numerical_columns = data_processing.impute_with_linear_regression(data=numerical_columns, x_columns=[\"power_cv\", \"power_kw\"], y_column=\"maxSpeed\")\n",
    "    numerical_columns = data_processing.impute_with_linear_regression(data=numerical_columns, x_columns=[\"power_cv\", \"power_kw\", \"maxSpeed\"], y_column=\"acceleration\")\n",
    "    numerical_columns = data_processing.impute_with_linear_regression(data=numerical_columns, x_columns=[\"power_cv\", \"power_kw\", \"maxSpeed\"], y_column=\"acceleration\")\n",
    "    numerical_columns = data_processing.impute_with_linear_regression(data=numerical_columns, x_columns=[\"Llantas_Diametro_cm\", \"power_kw\"], y_column=\"max_torque_nm\")\n",
    "    numerical_columns = data_processing.impute_with_linear_regression(data=numerical_columns, x_columns=[\"Llantas_Diametro_cm\", \"power_kw\"], y_column=\"rpm_max_torque\")\n",
    "    numerical_columns = data_processing.impute_with_linear_regression(data=numerical_columns, x_columns=[\"Llantas_Diametro_cm\", \"power_kw\"], y_column=\"rpm_max_power\")\n",
    "    numerical_columns.dropna(axis=1, inplace=True)\n",
    "    return numerical_columns\n",
    "\n",
    "def get_combustion_categorical_columns(df: pd.DataFrame) -> pd.DataFrame:\n",
    "    # Select and print only the categorical columns\n",
    "    ret = df.select_dtypes(include=['category'])\n",
    "    \n",
    "    # Temporarily convert the column to strings to perform the replacement\n",
    "    ret['traction'] = ret['traction'].astype(str).replace({\"trasera\": \"trasero\", \"delantera\": \"delantero\"})\n",
    "    # Convert back to a categorical type\n",
    "    ret['traction'] = ret['traction'].astype('category')\n",
    "\n",
    "    \n",
    "    # Remove redundant columns if this function is defined\n",
    "    ret = data_processing.remove_redundand_columns(ret)\n",
    "    return ret\n",
    "\n",
    "\n",
    "def fill_combustion_categorical_columns(df: pd.DataFrame) -> pd.DataFrame:\n",
    "    mode_cols = ['brakes','version','jato_classification']\n",
    "    for col in mode_cols:\n",
    "        df = data_processing.fill_na_with_mode(df, col)\n",
    "    df = data_processing.impute_categorical_mode(df=df, X=[\"brand\", \"model\", \"traction\",\"brakes\"], Y=\"front_suspension\")\n",
    "    #df = impute_categorical_mode(df=df, X=[\"brand\", \"model\", \"traction\",\"brakes\"], Y=\"rear_suspension\")\n",
    "    return df\n",
    "\n",
    "def category_convert(df: pd.DataFrame) -> pd.DataFrame:\n",
    "    cols_to_convert = df.select_dtypes(include=['object']).columns\n",
    "    for col in cols_to_convert:\n",
    "        df[col] = df[col].astype('category')\n",
    "    return df\n"
   ]
  },
  {
   "cell_type": "code",
   "execution_count": 8,
   "metadata": {},
   "outputs": [],
   "source": [
    "# Quit all electric columns from data['Combustion']\n",
    "for column in data.columns:\n",
    "    if column.startswith('electric'):\n",
    "        data = data.drop(columns=column)\n",
    "pd.set_option('display.max_rows', None)"
   ]
  },
  {
   "cell_type": "code",
   "execution_count": 11,
   "metadata": {},
   "outputs": [
    {
     "name": "stdout",
     "output_type": "stream",
     "text": [
      "environmentalLabel    43228\n",
      "rear_suspension        9886\n",
      "dtype: int64\n"
     ]
    },
    {
     "data": {
      "text/plain": [
       "Index(['color', 'brand', 'model', 'version', 'fuelType', 'bodyTypeId',\n",
       "       'transmissionTypeId', 'province', 'environmentalLabel',\n",
       "       'jato_classification', 'traction', 'brakes', 'front_suspension',\n",
       "       'rear_suspension', 'Acabado Exterior_Alerón',\n",
       "       'Acabado Exterior_Cristales', 'Acabado Exterior_Faldones',\n",
       "       'Acabado Exterior_Pintura', 'Acabado Exterior_Rueda', 'AC_Zones',\n",
       "       'AC_Type', 'Metodo_Apertura', 'Tipo_Faro', 'interior_clock',\n",
       "       'arm_suppport_front', 'arm_suppport_back', 'price_categ'],\n",
       "      dtype='object')"
      ]
     },
     "execution_count": 11,
     "metadata": {},
     "output_type": "execute_result"
    }
   ],
   "source": [
    "# convert object columns to category\n",
    "data = category_convert(data)\n",
    "\n",
    "categorical_columns = get_combustion_categorical_columns(data)\n",
    "\n",
    "categorical_columns = fill_combustion_categorical_columns(categorical_columns)\n",
    "\n",
    "# Check amount of missing values\n",
    "missing_values = categorical_columns.isnull().sum()\n",
    "missing_values = missing_values[missing_values > 0]\n",
    "\n",
    "print(missing_values)\n",
    "categorical_columns.head()\n",
    "categorical_columns.columns\n",
    "#categorical_columns['traction']"
   ]
  },
  {
   "cell_type": "code",
   "execution_count": null,
   "metadata": {},
   "outputs": [],
   "source": [
    "# Drop all na columns \n",
    "data['Combustion'] = drop_columns_full_nan(data['Combustion'])\n",
    "\n",
    "numerical_columns = get_combustion_numerical_columns(data['Combustion'])\n",
    "\n",
    "\n",
    "# fill the missing data in numerical columns\n",
    "numerical_columns = fill_combustion_numerical_columns(numerical_columns)\n",
    "\n",
    "# Check amount of missing values\n",
    "missing_values_num = numerical_columns.isnull().sum()\n",
    "missing_values_num = missing_values_num[missing_values_num > 0]\n",
    "\n",
    "data['Combustion'][numerical_columns.columns] = numerical_columns\n",
    "\n",
    "#correlation_matrix = numerical_columns.corr()\n",
    "#correlation_matrix = correlation_matrix.sort_values(by='price', ascending=False)\n",
    "print(missing_values_num)"
   ]
  }
 ],
 "metadata": {
  "kernelspec": {
   "display_name": "tensorflow",
   "language": "python",
   "name": "python3"
  },
  "language_info": {
   "codemirror_mode": {
    "name": "ipython",
    "version": 3
   },
   "file_extension": ".py",
   "mimetype": "text/x-python",
   "name": "python",
   "nbconvert_exporter": "python",
   "pygments_lexer": "ipython3",
   "version": "3.12.3"
  }
 },
 "nbformat": 4,
 "nbformat_minor": 2
}
