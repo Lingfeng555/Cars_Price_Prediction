{
 "cells": [
  {
   "cell_type": "code",
   "execution_count": 8,
   "metadata": {},
   "outputs": [],
   "source": [
    "import re\n",
    "import os\n",
    "import json"
   ]
  },
  {
   "cell_type": "code",
   "execution_count": 9,
   "metadata": {},
   "outputs": [
    {
     "name": "stdout",
     "output_type": "stream",
     "text": [
      "ARCHIVOS PROCESADOS: 20 TOTAL: 17741\n"
     ]
    }
   ],
   "source": [
    "folder_path = 'data_cleaned'\n",
    "cars = []\n",
    "\n",
    "\n",
    "for filename in os.listdir(folder_path):\n",
    "    #print(\"Procesando archivo: \", filename)\n",
    "    if filename.endswith('.json'):\n",
    "        file_path = os.path.join(folder_path, filename)\n",
    "        with open(file_path, 'r', encoding='utf-8') as f:\n",
    "            try:\n",
    "                data = json.load(f)\n",
    "                #print(f'Hay {len(data)} coches')\n",
    "                cars.extend(data)\n",
    "            except json.JSONDecodeError as e:\n",
    "                print(f\"Error al procesar {filename}: {e}\")\n",
    "\n",
    "print(f'ARCHIVOS PROCESADOS: {len(os.listdir(folder_path))} TOTAL: {len(cars)}')"
   ]
  },
  {
   "cell_type": "code",
   "execution_count": 10,
   "metadata": {},
   "outputs": [
    {
     "name": "stdout",
     "output_type": "stream",
     "text": [
      "{None, 1, 2, 3, 4, 5, 6, 7, 8}\n"
     ]
    }
   ],
   "source": [
    "def process_technical_details(car):\n",
    "    for str in car[\"Ficha Técnica\"]:\n",
    "        if re.match(r'^Acabado', str):\n",
    "            car[\"jato_classification\"] = re.search(r'clasificación JATO: ([\\w\\s]+)', car[\"Ficha Técnica\"][0])\n",
    "    return car\n",
    "\n",
    "'''\n",
    "bodyType 1 = Berlina\n",
    "bodyType 2 = Coupe\n",
    "bodyType 3 = Cabrio\n",
    "bodyType 4 = Familiar\n",
    "bodyType 5 = Monovolumen\n",
    "bodyType 6 = SUV\n",
    "bodyType 7 = Pick Up\n",
    "bodyType 8 = \n",
    "'''\n",
    "my_set = []\n",
    "for car in cars:\n",
    "    if \"Ficha Técnica\" in car: process_technical_details(car)\n",
    "    my_set.append(car[\"bodyTypeId\"])\n",
    "print(set(my_set))\n"
   ]
  }
 ],
 "metadata": {
  "kernelspec": {
   "display_name": "Python 3",
   "language": "python",
   "name": "python3"
  },
  "language_info": {
   "codemirror_mode": {
    "name": "ipython",
    "version": 3
   },
   "file_extension": ".py",
   "mimetype": "text/x-python",
   "name": "python",
   "nbconvert_exporter": "python",
   "pygments_lexer": "ipython3",
   "version": "3.12.6"
  }
 },
 "nbformat": 4,
 "nbformat_minor": 2
}
