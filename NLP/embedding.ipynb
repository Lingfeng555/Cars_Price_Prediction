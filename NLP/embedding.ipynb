{
 "cells": [
  {
   "cell_type": "code",
   "execution_count": 23,
   "metadata": {},
   "outputs": [],
   "source": [
    "import sys\n",
    "sys.path.insert(1, '../') \n",
    "from utils.loader import Loader\n",
    "import tensorflow as tf\n",
    "import pandas as pd\n",
    "import numpy as np"
   ]
  },
  {
   "cell_type": "code",
   "execution_count": 24,
   "metadata": {},
   "outputs": [],
   "source": [
    "train = Loader.load_train()"
   ]
  },
  {
   "cell_type": "code",
   "execution_count": 25,
   "metadata": {},
   "outputs": [
    {
     "name": "stdout",
     "output_type": "stream",
     "text": [
      "['motor_description', 'transmission_description', 'parking_sensors_description', 'Exterior_Llantas_description', 'Exterior_Molduras_description', 'Exterior_Neumáticos_description', 'Exterior_Puerta_description', 'Exterior_Retrovisor_description', 'Confort_Volante_description', 'seat_description', 'head_supporter_description']\n"
     ]
    }
   ],
   "source": [
    "descriptions = [col for col in train.columns if \"description\" in col]\n",
    "\n",
    "print(descriptions)\n",
    "\n",
    "def custom_concat(row, cols):\n",
    "    # Construir la descripción con lógica condicional basada en el valor de la celda\n",
    "    parts = []\n",
    "    for col_name in cols:  # Cambio para iterar solo sobre las columnas especificadas\n",
    "        if col_name in row.index:  # Verificar que el nombre de la columna esté en el DataFrame\n",
    "            value = row[col_name]\n",
    "            if value == \"no tiene\" or not isinstance(value, str):\n",
    "                parts.append(f\"no tiene {col_name}\")\n",
    "            else:\n",
    "                parts.append(str(value))  # Convertir a string para evitar problemas al unir\n",
    "    # Unir todas las partes con espacios\n",
    "    return ' '.join(parts)\n",
    "\n",
    "# Aplicar la función al DataFrame\n",
    "train['full_description'] = train.apply(custom_concat, axis=1, args=(descriptions,))\n",
    "#train[descriptions].apply(lambda col: col.apply(lambda x: type(x).__name__).value_counts())\n",
    "\n",
    "#descriptions.append(\"idx\")\n",
    "#descriptions.append(\"price\")\n",
    "#descriptions.append(\"km\")"
   ]
  },
  {
   "cell_type": "code",
   "execution_count": 26,
   "metadata": {},
   "outputs": [
    {
     "data": {
      "text/plain": [
       "'Motor de 1,3 litros ( 1.332 cc ) , cuatro cilindros en línea con cuatro válvulas por cilindro, 72,2 mm de diámetro, 81,4 mm de carrera, relación de compresión: 10,5 y distribución variable ; código del motor: HRA2 10,5 Transmisión de tipo manual con cambio totalmente manual de seis marchas con palanca en el suelo, 3,687 :1 relación de la marcha atrás, 3,727 :1 relación de la primera velocidad, 1,947 :1 relación de la segunda velocidad, 1,323 :1 relación de la tercera velocidad, 0,975 :1 relación de la cuarta velocidad, 0,763 :1 relación de la quinta velocidad y 0,638 :1 relación de la sexta velocidad Sensores de aparcamiento delanteros con radar y cámara, sensores de aparcamiento traseros con radar y cámara, sensores de aparcamiento en los lados con cámara llantas delanteras traseras aleación ligera 19 pulgadas diámetro 7,0 pulgadas ancho bi-tono, 48,3 17,8 no tiene Exterior_Molduras_description neumáticos delanteros traseros 19 pulgadas diametro, 225 mm ancho, 45 % perfil índice velocidad: w ( w mínimo) índice carga: 96 (datos neumático oficiales marca) puerta conductor, trasera (lado conductor), pasajero trasera (lado pasajero) bisagras delanteras, puerta trasera portón retrovisor exterior conductor acompañante aleación ligera ajuste eléctrico desempañable intermitente integrado Volante multi-función de aleación y cuero ajustable en altura y en profundidad Asiento delantero del conductor y acompañante individual con ajuste eléctrico ( cinco ajustes eléctricos ) térmico, memorizado, memorizado y eléctrico de dos direcciones con ajuste memorizado del respaldo. Asientos traseros de tres plazas de tipo banco de orientación delantera con banqueta fija y respaldo abatible asimétrico Dos reposacabezas en asientos delanteros ajustables en altura, tres reposacabezas en asientos traseros ajustables en altura'"
      ]
     },
     "execution_count": 26,
     "metadata": {},
     "output_type": "execute_result"
    }
   ],
   "source": [
    "filtered_columns = [\"idx\", \"price\", \"km\", \"fuelType\", \"full_description\"]\n",
    "train = train[filtered_columns]\n",
    "train"
   ]
  },
  {
   "cell_type": "code",
   "execution_count": null,
   "metadata": {},
   "outputs": [],
   "source": []
  }
 ],
 "metadata": {
  "kernelspec": {
   "display_name": "Python 3",
   "language": "python",
   "name": "python3"
  },
  "language_info": {
   "codemirror_mode": {
    "name": "ipython",
    "version": 3
   },
   "file_extension": ".py",
   "mimetype": "text/x-python",
   "name": "python",
   "nbconvert_exporter": "python",
   "pygments_lexer": "ipython3",
   "version": "3.12.4"
  }
 },
 "nbformat": 4,
 "nbformat_minor": 2
}
