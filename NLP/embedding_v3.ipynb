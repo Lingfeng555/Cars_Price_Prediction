{
 "cells": [
  {
   "cell_type": "code",
   "execution_count": 10,
   "metadata": {},
   "outputs": [
    {
     "name": "stdout",
     "output_type": "stream",
     "text": [
      "¿GPU disponible?: [PhysicalDevice(name='/physical_device:GPU:0', device_type='GPU')]\n"
     ]
    },
    {
     "name": "stderr",
     "output_type": "stream",
     "text": [
      "[nltk_data] Downloading package stopwords to\n",
      "[nltk_data]     /home/lingfeng/nltk_data...\n",
      "[nltk_data]   Package stopwords is already up-to-date!\n"
     ]
    }
   ],
   "source": [
    "import sys\n",
    "sys.path.insert(1, '../') \n",
    "from utils.loader import Loader\n",
    "import tensorflow as tf\n",
    "import pandas as pd\n",
    "import numpy as np\n",
    "from gensim.models import Word2Vec\n",
    "import re\n",
    "from sklearn.model_selection import train_test_split\n",
    "from sklearn.preprocessing import StandardScaler\n",
    "from tensorflow.keras.models import Sequential, Model\n",
    "from tensorflow.keras.layers import Dense, Dropout, Embedding, Flatten, Input, Concatenate, BatchNormalization, LSTM\n",
    "from tensorflow.keras import regularizers\n",
    "from tensorflow.keras.preprocessing.text import Tokenizer\n",
    "from tensorflow.keras.preprocessing.sequence import pad_sequences\n",
    "import nltk\n",
    "from nltk.corpus import stopwords\n",
    "import matplotlib.pyplot as plt\n",
    "\n",
    "# Descargar la lista de stopwords si no está ya descargada\n",
    "nltk.download('stopwords')\n",
    "\n",
    "# Cargar las stopwords en español\n",
    "spanish_stopwords = set(stopwords.words('spanish'))\n",
    "\n",
    "\n",
    "print(\"¿GPU disponible?:\", tf.config.list_physical_devices('GPU'))"
   ]
  },
  {
   "cell_type": "code",
   "execution_count": 11,
   "metadata": {},
   "outputs": [
    {
     "name": "stderr",
     "output_type": "stream",
     "text": [
      "/home/lingfeng/Desktop/repos/Cars_Price_Prediction/NLP/../utils/loader.py:153: DtypeWarning: Columns (120) have mixed types. Specify dtype option on import or set low_memory=False.\n",
      "  df = pd.read_csv(file_path,\n",
      "/home/lingfeng/Desktop/repos/Cars_Price_Prediction/NLP/../utils/loader.py:153: DtypeWarning: Columns (120) have mixed types. Specify dtype option on import or set low_memory=False.\n",
      "  df = pd.read_csv(file_path,\n",
      "/home/lingfeng/Desktop/repos/Cars_Price_Prediction/NLP/../utils/loader.py:165: FutureWarning: A value is trying to be set on a copy of a DataFrame or Series through chained assignment using an inplace method.\n",
      "The behavior will change in pandas 3.0. This inplace method will never work because the intermediate object on which we are setting values always behaves as a copy.\n",
      "\n",
      "For example, when doing 'df[col].method(value, inplace=True)', try using 'df.method({col: value}, inplace=True)' or df[col] = df[col].method(value) instead, to perform the operation inplace on the original object.\n",
      "\n",
      "\n",
      "  merged_df[\"km\"].fillna(0, inplace=True)\n"
     ]
    }
   ],
   "source": [
    "train = Loader.load_NLP()[:80000]"
   ]
  },
  {
   "cell_type": "code",
   "execution_count": 12,
   "metadata": {},
   "outputs": [
    {
     "name": "stderr",
     "output_type": "stream",
     "text": [
      "/tmp/ipykernel_4453/3131217506.py:20: SettingWithCopyWarning: \n",
      "A value is trying to be set on a copy of a slice from a DataFrame\n",
      "\n",
      "See the caveats in the documentation: https://pandas.pydata.org/pandas-docs/stable/user_guide/indexing.html#returning-a-view-versus-a-copy\n",
      "  train.dropna(inplace=True)\n"
     ]
    }
   ],
   "source": [
    "def custom_concat(row, cols):\n",
    "    # Construir la descripción con lógica condicional basada en el valor de la celda\n",
    "    parts = []\n",
    "    for col_name in cols:  # Cambio para iterar solo sobre las columnas especificadas\n",
    "        if col_name in row.index:  # Verificar que el nombre de la columna esté en el DataFrame\n",
    "            value = row[col_name]\n",
    "            if value == \"no tiene\" or not isinstance(value, str):\n",
    "                parts.append(f\"no tiene {col_name}\")\n",
    "            else:\n",
    "                parts.append(str(value))  # Convertir a string para evitar problemas al unir\n",
    "    # Unir todas las partes con espacios\n",
    "    return ' '.join(parts)\n",
    "\n",
    "# Aplicar la función al DataFrame\n",
    "def filter_train_data(train):\n",
    "    descriptions = [col for col in train.columns if \"description\" in col]\n",
    "    train['full_description'] = train.apply(custom_concat, axis=1, args=(descriptions,))\n",
    "    filtered_columns = [\"price\", \"km\", \"fuelType\", \"full_description\"]\n",
    "    train = train[filtered_columns]\n",
    "    train.dropna(inplace=True)\n",
    "    return train\n",
    "\n",
    "train = filter_train_data(train)"
   ]
  },
  {
   "cell_type": "code",
   "execution_count": 13,
   "metadata": {},
   "outputs": [],
   "source": [
    "#Parameters\n",
    "verb_size = 150"
   ]
  },
  {
   "cell_type": "code",
   "execution_count": 15,
   "metadata": {},
   "outputs": [],
   "source": [
    "# Load data (assuming df is your DataFrame containing the required columns)\n",
    "texts = train['full_description'].values  # descriptions\n",
    "# Tokenization and sequence padding\n",
    "tokenizer = Tokenizer(num_words=verb_size)\n",
    "tokenizer.fit_on_texts(texts)\n",
    "sequences = tokenizer.texts_to_sequences(texts)\n",
    "data = pad_sequences(sequences,  maxlen=verb_size, padding='post')"
   ]
  },
  {
   "cell_type": "code",
   "execution_count": 16,
   "metadata": {},
   "outputs": [],
   "source": [
    "train_data, test_data, train_prices, test_prices, train_km, test_km = train_test_split(\n",
    "    data, train['price'], train['km'], test_size=0.2, random_state=42, stratify=train['fuelType'])"
   ]
  },
  {
   "cell_type": "code",
   "execution_count": 17,
   "metadata": {},
   "outputs": [
    {
     "name": "stdout",
     "output_type": "stream",
     "text": [
      "(8000,)\n",
      "(40000,)\n",
      "(32000,)\n",
      "(8000,)\n"
     ]
    }
   ],
   "source": [
    "print(test_prices.shape)\n",
    "print(train['km'].shape)\n",
    "print(train_km.shape)\n",
    "print(test_km.shape)"
   ]
  },
  {
   "cell_type": "code",
   "execution_count": 21,
   "metadata": {},
   "outputs": [
    {
     "name": "stderr",
     "output_type": "stream",
     "text": [
      "I0000 00:00:1730730222.114461    4453 cuda_executor.cc:1015] successful NUMA node read from SysFS had negative value (-1), but there must be at least one NUMA node, so returning NUMA node zero. See more at https://github.com/torvalds/linux/blob/v6.0/Documentation/ABI/testing/sysfs-bus-pci#L344-L355\n",
      "I0000 00:00:1730730222.114935    4453 cuda_executor.cc:1015] successful NUMA node read from SysFS had negative value (-1), but there must be at least one NUMA node, so returning NUMA node zero. See more at https://github.com/torvalds/linux/blob/v6.0/Documentation/ABI/testing/sysfs-bus-pci#L344-L355\n",
      "I0000 00:00:1730730222.115136    4453 cuda_executor.cc:1015] successful NUMA node read from SysFS had negative value (-1), but there must be at least one NUMA node, so returning NUMA node zero. See more at https://github.com/torvalds/linux/blob/v6.0/Documentation/ABI/testing/sysfs-bus-pci#L344-L355\n",
      "I0000 00:00:1730730222.200097    4453 cuda_executor.cc:1015] successful NUMA node read from SysFS had negative value (-1), but there must be at least one NUMA node, so returning NUMA node zero. See more at https://github.com/torvalds/linux/blob/v6.0/Documentation/ABI/testing/sysfs-bus-pci#L344-L355\n",
      "I0000 00:00:1730730222.200267    4453 cuda_executor.cc:1015] successful NUMA node read from SysFS had negative value (-1), but there must be at least one NUMA node, so returning NUMA node zero. See more at https://github.com/torvalds/linux/blob/v6.0/Documentation/ABI/testing/sysfs-bus-pci#L344-L355\n",
      "I0000 00:00:1730730222.200372    4453 cuda_executor.cc:1015] successful NUMA node read from SysFS had negative value (-1), but there must be at least one NUMA node, so returning NUMA node zero. See more at https://github.com/torvalds/linux/blob/v6.0/Documentation/ABI/testing/sysfs-bus-pci#L344-L355\n",
      "2024-11-04 15:23:42.200898: I tensorflow/core/common_runtime/gpu/gpu_device.cc:2021] Created device /job:localhost/replica:0/task:0/device:GPU:0 with 2279 MB memory:  -> device: 0, name: NVIDIA GeForce RTX 3050 Laptop GPU, pci bus id: 0000:01:00.0, compute capability: 8.6\n"
     ]
    }
   ],
   "source": [
    "train_data = tf.convert_to_tensor(train_data, dtype=tf.int32)\n",
    "test_data = tf.convert_to_tensor(test_data, dtype=tf.int32)"
   ]
  },
  {
   "cell_type": "code",
   "execution_count": 22,
   "metadata": {},
   "outputs": [],
   "source": [
    "train_prices = tf.convert_to_tensor(train_prices, dtype=tf.float32)\n",
    "test_prices = tf.convert_to_tensor(test_prices, dtype=tf.float32)"
   ]
  },
  {
   "cell_type": "code",
   "execution_count": 23,
   "metadata": {},
   "outputs": [],
   "source": [
    "train_km = tf.convert_to_tensor(train_km, dtype=tf.float32)\n",
    "train_km = tf.convert_to_tensor(train_km, dtype=tf.float32)"
   ]
  },
  {
   "cell_type": "code",
   "execution_count": 24,
   "metadata": {},
   "outputs": [
    {
     "data": {
      "text/plain": [
       "TensorShape([32000, 150])"
      ]
     },
     "execution_count": 24,
     "metadata": {},
     "output_type": "execute_result"
    }
   ],
   "source": [
    "train_data.shape"
   ]
  },
  {
   "cell_type": "code",
   "execution_count": 25,
   "metadata": {},
   "outputs": [
    {
     "name": "stderr",
     "output_type": "stream",
     "text": [
      "/home/lingfeng/Desktop/tensorflow/lib/python3.12/site-packages/keras/src/layers/core/embedding.py:90: UserWarning: Argument `input_length` is deprecated. Just remove it.\n",
      "  warnings.warn(\n"
     ]
    }
   ],
   "source": [
    "# Text input branch\n",
    "text_input = Input(shape=(train_data.shape[1],), dtype='int32')\n",
    "text_embed_layer = Embedding(input_dim=verb_size, output_dim=verb_size, input_length=train_data.shape[1])\n",
    "text_embed = text_embed_layer(text_input)\n",
    "lstm_out = LSTM(128)(text_embed)"
   ]
  },
  {
   "cell_type": "code",
   "execution_count": 26,
   "metadata": {},
   "outputs": [
    {
     "data": {
      "text/html": [
       "<pre style=\"white-space:pre;overflow-x:auto;line-height:normal;font-family:Menlo,'DejaVu Sans Mono',consolas,'Courier New',monospace\"><span style=\"font-weight: bold\">Model: \"functional\"</span>\n",
       "</pre>\n"
      ],
      "text/plain": [
       "\u001b[1mModel: \"functional\"\u001b[0m\n"
      ]
     },
     "metadata": {},
     "output_type": "display_data"
    },
    {
     "data": {
      "text/html": [
       "<pre style=\"white-space:pre;overflow-x:auto;line-height:normal;font-family:Menlo,'DejaVu Sans Mono',consolas,'Courier New',monospace\">┏━━━━━━━━━━━━━━━━━━━━━┳━━━━━━━━━━━━━━━━━━━┳━━━━━━━━━━━━┳━━━━━━━━━━━━━━━━━━━┓\n",
       "┃<span style=\"font-weight: bold\"> Layer (type)        </span>┃<span style=\"font-weight: bold\"> Output Shape      </span>┃<span style=\"font-weight: bold\">    Param # </span>┃<span style=\"font-weight: bold\"> Connected to      </span>┃\n",
       "┡━━━━━━━━━━━━━━━━━━━━━╇━━━━━━━━━━━━━━━━━━━╇━━━━━━━━━━━━╇━━━━━━━━━━━━━━━━━━━┩\n",
       "│ input_layer         │ (<span style=\"color: #00d7ff; text-decoration-color: #00d7ff\">None</span>, <span style=\"color: #00af00; text-decoration-color: #00af00\">150</span>)       │          <span style=\"color: #00af00; text-decoration-color: #00af00\">0</span> │ -                 │\n",
       "│ (<span style=\"color: #0087ff; text-decoration-color: #0087ff\">InputLayer</span>)        │                   │            │                   │\n",
       "├─────────────────────┼───────────────────┼────────────┼───────────────────┤\n",
       "│ embedding           │ (<span style=\"color: #00d7ff; text-decoration-color: #00d7ff\">None</span>, <span style=\"color: #00af00; text-decoration-color: #00af00\">150</span>, <span style=\"color: #00af00; text-decoration-color: #00af00\">150</span>)  │     <span style=\"color: #00af00; text-decoration-color: #00af00\">22,500</span> │ input_layer[<span style=\"color: #00af00; text-decoration-color: #00af00\">0</span>][<span style=\"color: #00af00; text-decoration-color: #00af00\">0</span>] │\n",
       "│ (<span style=\"color: #0087ff; text-decoration-color: #0087ff\">Embedding</span>)         │                   │            │                   │\n",
       "├─────────────────────┼───────────────────┼────────────┼───────────────────┤\n",
       "│ km_input            │ (<span style=\"color: #00d7ff; text-decoration-color: #00d7ff\">None</span>, <span style=\"color: #00af00; text-decoration-color: #00af00\">1</span>)         │          <span style=\"color: #00af00; text-decoration-color: #00af00\">0</span> │ -                 │\n",
       "│ (<span style=\"color: #0087ff; text-decoration-color: #0087ff\">InputLayer</span>)        │                   │            │                   │\n",
       "├─────────────────────┼───────────────────┼────────────┼───────────────────┤\n",
       "│ lstm (<span style=\"color: #0087ff; text-decoration-color: #0087ff\">LSTM</span>)         │ (<span style=\"color: #00d7ff; text-decoration-color: #00d7ff\">None</span>, <span style=\"color: #00af00; text-decoration-color: #00af00\">128</span>)       │    <span style=\"color: #00af00; text-decoration-color: #00af00\">142,848</span> │ embedding[<span style=\"color: #00af00; text-decoration-color: #00af00\">0</span>][<span style=\"color: #00af00; text-decoration-color: #00af00\">0</span>]   │\n",
       "├─────────────────────┼───────────────────┼────────────┼───────────────────┤\n",
       "│ dense (<span style=\"color: #0087ff; text-decoration-color: #0087ff\">Dense</span>)       │ (<span style=\"color: #00d7ff; text-decoration-color: #00d7ff\">None</span>, <span style=\"color: #00af00; text-decoration-color: #00af00\">32</span>)        │         <span style=\"color: #00af00; text-decoration-color: #00af00\">64</span> │ km_input[<span style=\"color: #00af00; text-decoration-color: #00af00\">0</span>][<span style=\"color: #00af00; text-decoration-color: #00af00\">0</span>]    │\n",
       "├─────────────────────┼───────────────────┼────────────┼───────────────────┤\n",
       "│ concatenate         │ (<span style=\"color: #00d7ff; text-decoration-color: #00d7ff\">None</span>, <span style=\"color: #00af00; text-decoration-color: #00af00\">160</span>)       │          <span style=\"color: #00af00; text-decoration-color: #00af00\">0</span> │ lstm[<span style=\"color: #00af00; text-decoration-color: #00af00\">0</span>][<span style=\"color: #00af00; text-decoration-color: #00af00\">0</span>],       │\n",
       "│ (<span style=\"color: #0087ff; text-decoration-color: #0087ff\">Concatenate</span>)       │                   │            │ dense[<span style=\"color: #00af00; text-decoration-color: #00af00\">0</span>][<span style=\"color: #00af00; text-decoration-color: #00af00\">0</span>]       │\n",
       "├─────────────────────┼───────────────────┼────────────┼───────────────────┤\n",
       "│ dense_1 (<span style=\"color: #0087ff; text-decoration-color: #0087ff\">Dense</span>)     │ (<span style=\"color: #00d7ff; text-decoration-color: #00d7ff\">None</span>, <span style=\"color: #00af00; text-decoration-color: #00af00\">256</span>)       │     <span style=\"color: #00af00; text-decoration-color: #00af00\">41,216</span> │ concatenate[<span style=\"color: #00af00; text-decoration-color: #00af00\">0</span>][<span style=\"color: #00af00; text-decoration-color: #00af00\">0</span>] │\n",
       "├─────────────────────┼───────────────────┼────────────┼───────────────────┤\n",
       "│ dense_2 (<span style=\"color: #0087ff; text-decoration-color: #0087ff\">Dense</span>)     │ (<span style=\"color: #00d7ff; text-decoration-color: #00d7ff\">None</span>, <span style=\"color: #00af00; text-decoration-color: #00af00\">1</span>)         │        <span style=\"color: #00af00; text-decoration-color: #00af00\">257</span> │ dense_1[<span style=\"color: #00af00; text-decoration-color: #00af00\">0</span>][<span style=\"color: #00af00; text-decoration-color: #00af00\">0</span>]     │\n",
       "└─────────────────────┴───────────────────┴────────────┴───────────────────┘\n",
       "</pre>\n"
      ],
      "text/plain": [
       "┏━━━━━━━━━━━━━━━━━━━━━┳━━━━━━━━━━━━━━━━━━━┳━━━━━━━━━━━━┳━━━━━━━━━━━━━━━━━━━┓\n",
       "┃\u001b[1m \u001b[0m\u001b[1mLayer (type)       \u001b[0m\u001b[1m \u001b[0m┃\u001b[1m \u001b[0m\u001b[1mOutput Shape     \u001b[0m\u001b[1m \u001b[0m┃\u001b[1m \u001b[0m\u001b[1m   Param #\u001b[0m\u001b[1m \u001b[0m┃\u001b[1m \u001b[0m\u001b[1mConnected to     \u001b[0m\u001b[1m \u001b[0m┃\n",
       "┡━━━━━━━━━━━━━━━━━━━━━╇━━━━━━━━━━━━━━━━━━━╇━━━━━━━━━━━━╇━━━━━━━━━━━━━━━━━━━┩\n",
       "│ input_layer         │ (\u001b[38;5;45mNone\u001b[0m, \u001b[38;5;34m150\u001b[0m)       │          \u001b[38;5;34m0\u001b[0m │ -                 │\n",
       "│ (\u001b[38;5;33mInputLayer\u001b[0m)        │                   │            │                   │\n",
       "├─────────────────────┼───────────────────┼────────────┼───────────────────┤\n",
       "│ embedding           │ (\u001b[38;5;45mNone\u001b[0m, \u001b[38;5;34m150\u001b[0m, \u001b[38;5;34m150\u001b[0m)  │     \u001b[38;5;34m22,500\u001b[0m │ input_layer[\u001b[38;5;34m0\u001b[0m][\u001b[38;5;34m0\u001b[0m] │\n",
       "│ (\u001b[38;5;33mEmbedding\u001b[0m)         │                   │            │                   │\n",
       "├─────────────────────┼───────────────────┼────────────┼───────────────────┤\n",
       "│ km_input            │ (\u001b[38;5;45mNone\u001b[0m, \u001b[38;5;34m1\u001b[0m)         │          \u001b[38;5;34m0\u001b[0m │ -                 │\n",
       "│ (\u001b[38;5;33mInputLayer\u001b[0m)        │                   │            │                   │\n",
       "├─────────────────────┼───────────────────┼────────────┼───────────────────┤\n",
       "│ lstm (\u001b[38;5;33mLSTM\u001b[0m)         │ (\u001b[38;5;45mNone\u001b[0m, \u001b[38;5;34m128\u001b[0m)       │    \u001b[38;5;34m142,848\u001b[0m │ embedding[\u001b[38;5;34m0\u001b[0m][\u001b[38;5;34m0\u001b[0m]   │\n",
       "├─────────────────────┼───────────────────┼────────────┼───────────────────┤\n",
       "│ dense (\u001b[38;5;33mDense\u001b[0m)       │ (\u001b[38;5;45mNone\u001b[0m, \u001b[38;5;34m32\u001b[0m)        │         \u001b[38;5;34m64\u001b[0m │ km_input[\u001b[38;5;34m0\u001b[0m][\u001b[38;5;34m0\u001b[0m]    │\n",
       "├─────────────────────┼───────────────────┼────────────┼───────────────────┤\n",
       "│ concatenate         │ (\u001b[38;5;45mNone\u001b[0m, \u001b[38;5;34m160\u001b[0m)       │          \u001b[38;5;34m0\u001b[0m │ lstm[\u001b[38;5;34m0\u001b[0m][\u001b[38;5;34m0\u001b[0m],       │\n",
       "│ (\u001b[38;5;33mConcatenate\u001b[0m)       │                   │            │ dense[\u001b[38;5;34m0\u001b[0m][\u001b[38;5;34m0\u001b[0m]       │\n",
       "├─────────────────────┼───────────────────┼────────────┼───────────────────┤\n",
       "│ dense_1 (\u001b[38;5;33mDense\u001b[0m)     │ (\u001b[38;5;45mNone\u001b[0m, \u001b[38;5;34m256\u001b[0m)       │     \u001b[38;5;34m41,216\u001b[0m │ concatenate[\u001b[38;5;34m0\u001b[0m][\u001b[38;5;34m0\u001b[0m] │\n",
       "├─────────────────────┼───────────────────┼────────────┼───────────────────┤\n",
       "│ dense_2 (\u001b[38;5;33mDense\u001b[0m)     │ (\u001b[38;5;45mNone\u001b[0m, \u001b[38;5;34m1\u001b[0m)         │        \u001b[38;5;34m257\u001b[0m │ dense_1[\u001b[38;5;34m0\u001b[0m][\u001b[38;5;34m0\u001b[0m]     │\n",
       "└─────────────────────┴───────────────────┴────────────┴───────────────────┘\n"
      ]
     },
     "metadata": {},
     "output_type": "display_data"
    },
    {
     "data": {
      "text/html": [
       "<pre style=\"white-space:pre;overflow-x:auto;line-height:normal;font-family:Menlo,'DejaVu Sans Mono',consolas,'Courier New',monospace\"><span style=\"font-weight: bold\"> Total params: </span><span style=\"color: #00af00; text-decoration-color: #00af00\">206,885</span> (808.14 KB)\n",
       "</pre>\n"
      ],
      "text/plain": [
       "\u001b[1m Total params: \u001b[0m\u001b[38;5;34m206,885\u001b[0m (808.14 KB)\n"
      ]
     },
     "metadata": {},
     "output_type": "display_data"
    },
    {
     "data": {
      "text/html": [
       "<pre style=\"white-space:pre;overflow-x:auto;line-height:normal;font-family:Menlo,'DejaVu Sans Mono',consolas,'Courier New',monospace\"><span style=\"font-weight: bold\"> Trainable params: </span><span style=\"color: #00af00; text-decoration-color: #00af00\">206,885</span> (808.14 KB)\n",
       "</pre>\n"
      ],
      "text/plain": [
       "\u001b[1m Trainable params: \u001b[0m\u001b[38;5;34m206,885\u001b[0m (808.14 KB)\n"
      ]
     },
     "metadata": {},
     "output_type": "display_data"
    },
    {
     "data": {
      "text/html": [
       "<pre style=\"white-space:pre;overflow-x:auto;line-height:normal;font-family:Menlo,'DejaVu Sans Mono',consolas,'Courier New',monospace\"><span style=\"font-weight: bold\"> Non-trainable params: </span><span style=\"color: #00af00; text-decoration-color: #00af00\">0</span> (0.00 B)\n",
       "</pre>\n"
      ],
      "text/plain": [
       "\u001b[1m Non-trainable params: \u001b[0m\u001b[38;5;34m0\u001b[0m (0.00 B)\n"
      ]
     },
     "metadata": {},
     "output_type": "display_data"
    }
   ],
   "source": [
    "# Embedding input branch\n",
    "\n",
    "# KM branch\n",
    "input_km = Input(shape=(1,), name='km_input')\n",
    "km_processed = Dense(32, activation='linear')(input_km)\n",
    "\n",
    "# Concatenate both branches\n",
    "concat = Concatenate()([lstm_out, km_processed])\n",
    "hidden = Dense(256, activation='relu')(concat)\n",
    "output = Dense(1, activation='linear')(hidden)  # Output layer for price prediction\n",
    "\n",
    "model = Model(inputs=[text_input, input_km], outputs=output)\n",
    "model.summary()"
   ]
  },
  {
   "cell_type": "code",
   "execution_count": 27,
   "metadata": {},
   "outputs": [
    {
     "name": "stdout",
     "output_type": "stream",
     "text": [
      "(32000, 150)\n",
      "(32000,)\n"
     ]
    }
   ],
   "source": [
    "print(train_data.shape)      # Should be (number of samples, sequence length)\n",
    "#print(train_embeddings.shape)\n",
    "print(train_km.shape)"
   ]
  },
  {
   "cell_type": "code",
   "execution_count": 28,
   "metadata": {},
   "outputs": [],
   "source": [
    "optimizer = tf.keras.optimizers.Adam(learning_rate=0.001)\n",
    "model.compile(optimizer=optimizer, loss='mean_absolute_error', metrics=['mean_absolute_error', \"mean_absolute_percentage_error\"])"
   ]
  },
  {
   "cell_type": "code",
   "execution_count": 29,
   "metadata": {},
   "outputs": [
    {
     "name": "stdout",
     "output_type": "stream",
     "text": [
      "COMIENZA EL ENTRENAMIENTO...\n",
      "Epoch 1/128\n"
     ]
    },
    {
     "name": "stderr",
     "output_type": "stream",
     "text": [
      "/home/lingfeng/Desktop/tensorflow/lib/python3.12/site-packages/keras/src/models/functional.py:225: UserWarning: The structure of `inputs` doesn't match the expected structure: ['keras_tensor', 'km_input']. Received: the structure of inputs=('*', '*')\n",
      "  warnings.warn(\n",
      "2024-11-04 15:23:45.001009: I external/local_xla/xla/stream_executor/cuda/cuda_dnn.cc:531] Loaded cuDNN version 8907\n"
     ]
    },
    {
     "name": "stdout",
     "output_type": "stream",
     "text": [
      "\u001b[1m 998/1000\u001b[0m \u001b[32m━━━━━━━━━━━━━━━━━━━\u001b[0m\u001b[37m━\u001b[0m \u001b[1m0s\u001b[0m 6ms/step - loss: 18468.7168 - mean_absolute_error: 18468.7168 - mean_absolute_percentage_error: 97.5901"
     ]
    },
    {
     "name": "stderr",
     "output_type": "stream",
     "text": [
      "/home/lingfeng/Desktop/tensorflow/lib/python3.12/site-packages/keras/src/models/functional.py:225: UserWarning: The structure of `inputs` doesn't match the expected structure: ['keras_tensor', 'km_input']. Received: the structure of inputs=('*', '*')\n",
      "  warnings.warn(\n"
     ]
    },
    {
     "name": "stdout",
     "output_type": "stream",
     "text": [
      "\u001b[1m1000/1000\u001b[0m \u001b[32m━━━━━━━━━━━━━━━━━━━━\u001b[0m\u001b[37m\u001b[0m \u001b[1m9s\u001b[0m 7ms/step - loss: 18468.0156 - mean_absolute_error: 18468.0156 - mean_absolute_percentage_error: 97.5801 - val_loss: 17108.0137 - val_mean_absolute_error: 17108.0137 - val_mean_absolute_percentage_error: 73.2092\n",
      "Epoch 2/128\n",
      "\u001b[1m1000/1000\u001b[0m \u001b[32m━━━━━━━━━━━━━━━━━━━━\u001b[0m\u001b[37m\u001b[0m \u001b[1m7s\u001b[0m 7ms/step - loss: 16321.1182 - mean_absolute_error: 16321.1182 - mean_absolute_percentage_error: 80.1866 - val_loss: 11807.1816 - val_mean_absolute_error: 11807.1816 - val_mean_absolute_percentage_error: 53.1655\n",
      "Epoch 3/128\n",
      "\u001b[1m1000/1000\u001b[0m \u001b[32m━━━━━━━━━━━━━━━━━━━━\u001b[0m\u001b[37m\u001b[0m \u001b[1m7s\u001b[0m 7ms/step - loss: 11172.6758 - mean_absolute_error: 11172.6758 - mean_absolute_percentage_error: 50.7582 - val_loss: 7383.0620 - val_mean_absolute_error: 7383.0620 - val_mean_absolute_percentage_error: 25.4873\n",
      "Epoch 4/128\n",
      "\u001b[1m1000/1000\u001b[0m \u001b[32m━━━━━━━━━━━━━━━━━━━━\u001b[0m\u001b[37m\u001b[0m \u001b[1m7s\u001b[0m 7ms/step - loss: 7825.0796 - mean_absolute_error: 7825.0796 - mean_absolute_percentage_error: 34.5802 - val_loss: 6532.1992 - val_mean_absolute_error: 6532.1992 - val_mean_absolute_percentage_error: 28.7907\n",
      "Epoch 5/128\n",
      "\u001b[1m1000/1000\u001b[0m \u001b[32m━━━━━━━━━━━━━━━━━━━━\u001b[0m\u001b[37m\u001b[0m \u001b[1m7s\u001b[0m 7ms/step - loss: 6626.7993 - mean_absolute_error: 6626.7993 - mean_absolute_percentage_error: 28.0626 - val_loss: 5716.0815 - val_mean_absolute_error: 5716.0815 - val_mean_absolute_percentage_error: 20.5043\n",
      "Epoch 6/128\n",
      "\u001b[1m1000/1000\u001b[0m \u001b[32m━━━━━━━━━━━━━━━━━━━━\u001b[0m\u001b[37m\u001b[0m \u001b[1m6s\u001b[0m 6ms/step - loss: 6159.6055 - mean_absolute_error: 6159.6055 - mean_absolute_percentage_error: 25.5964 - val_loss: 5654.9976 - val_mean_absolute_error: 5654.9976 - val_mean_absolute_percentage_error: 19.7866\n",
      "Epoch 7/128\n",
      "\u001b[1m1000/1000\u001b[0m \u001b[32m━━━━━━━━━━━━━━━━━━━━\u001b[0m\u001b[37m\u001b[0m \u001b[1m6s\u001b[0m 6ms/step - loss: 5665.9790 - mean_absolute_error: 5665.9790 - mean_absolute_percentage_error: 23.5746 - val_loss: 6117.7368 - val_mean_absolute_error: 6117.7368 - val_mean_absolute_percentage_error: 33.8041\n",
      "Epoch 8/128\n",
      "\u001b[1m1000/1000\u001b[0m \u001b[32m━━━━━━━━━━━━━━━━━━━━\u001b[0m\u001b[37m\u001b[0m \u001b[1m6s\u001b[0m 6ms/step - loss: 5183.7305 - mean_absolute_error: 5183.7305 - mean_absolute_percentage_error: 22.4223 - val_loss: 5053.2383 - val_mean_absolute_error: 5053.2383 - val_mean_absolute_percentage_error: 20.5453\n",
      "Epoch 9/128\n",
      "\u001b[1m1000/1000\u001b[0m \u001b[32m━━━━━━━━━━━━━━━━━━━━\u001b[0m\u001b[37m\u001b[0m \u001b[1m6s\u001b[0m 6ms/step - loss: 5103.9731 - mean_absolute_error: 5103.9731 - mean_absolute_percentage_error: 21.7615 - val_loss: 5248.4180 - val_mean_absolute_error: 5248.4180 - val_mean_absolute_percentage_error: 22.3834\n",
      "Epoch 10/128\n",
      "\u001b[1m1000/1000\u001b[0m \u001b[32m━━━━━━━━━━━━━━━━━━━━\u001b[0m\u001b[37m\u001b[0m \u001b[1m6s\u001b[0m 6ms/step - loss: 4817.1230 - mean_absolute_error: 4817.1230 - mean_absolute_percentage_error: 20.5345 - val_loss: 4744.9268 - val_mean_absolute_error: 4744.9268 - val_mean_absolute_percentage_error: 17.1242\n",
      "Epoch 11/128\n",
      "\u001b[1m1000/1000\u001b[0m \u001b[32m━━━━━━━━━━━━━━━━━━━━\u001b[0m\u001b[37m\u001b[0m \u001b[1m6s\u001b[0m 6ms/step - loss: 4619.9424 - mean_absolute_error: 4619.9424 - mean_absolute_percentage_error: 19.0597 - val_loss: 4391.0820 - val_mean_absolute_error: 4391.0820 - val_mean_absolute_percentage_error: 16.9845\n",
      "Epoch 12/128\n",
      "\u001b[1m1000/1000\u001b[0m \u001b[32m━━━━━━━━━━━━━━━━━━━━\u001b[0m\u001b[37m\u001b[0m \u001b[1m6s\u001b[0m 6ms/step - loss: 4450.5347 - mean_absolute_error: 4450.5347 - mean_absolute_percentage_error: 18.2213 - val_loss: 4253.8179 - val_mean_absolute_error: 4253.8179 - val_mean_absolute_percentage_error: 16.3786\n",
      "Epoch 13/128\n",
      "\u001b[1m1000/1000\u001b[0m \u001b[32m━━━━━━━━━━━━━━━━━━━━\u001b[0m\u001b[37m\u001b[0m \u001b[1m6s\u001b[0m 6ms/step - loss: 4178.2998 - mean_absolute_error: 4178.2998 - mean_absolute_percentage_error: 17.3364 - val_loss: 4284.7695 - val_mean_absolute_error: 4284.7695 - val_mean_absolute_percentage_error: 16.6762\n",
      "Epoch 14/128\n",
      "\u001b[1m1000/1000\u001b[0m \u001b[32m━━━━━━━━━━━━━━━━━━━━\u001b[0m\u001b[37m\u001b[0m \u001b[1m6s\u001b[0m 6ms/step - loss: 4108.2334 - mean_absolute_error: 4108.2334 - mean_absolute_percentage_error: 16.9383 - val_loss: 4032.7356 - val_mean_absolute_error: 4032.7356 - val_mean_absolute_percentage_error: 15.9952\n",
      "Epoch 15/128\n",
      "\u001b[1m1000/1000\u001b[0m \u001b[32m━━━━━━━━━━━━━━━━━━━━\u001b[0m\u001b[37m\u001b[0m \u001b[1m6s\u001b[0m 6ms/step - loss: 3974.4714 - mean_absolute_error: 3974.4714 - mean_absolute_percentage_error: 16.3393 - val_loss: 4025.5637 - val_mean_absolute_error: 4025.5637 - val_mean_absolute_percentage_error: 15.6446\n",
      "Epoch 16/128\n",
      "\u001b[1m1000/1000\u001b[0m \u001b[32m━━━━━━━━━━━━━━━━━━━━\u001b[0m\u001b[37m\u001b[0m \u001b[1m6s\u001b[0m 6ms/step - loss: 3798.0698 - mean_absolute_error: 3798.0698 - mean_absolute_percentage_error: 15.9141 - val_loss: 3962.9243 - val_mean_absolute_error: 3962.9243 - val_mean_absolute_percentage_error: 15.5019\n",
      "Epoch 17/128\n",
      "\u001b[1m1000/1000\u001b[0m \u001b[32m━━━━━━━━━━━━━━━━━━━━\u001b[0m\u001b[37m\u001b[0m \u001b[1m6s\u001b[0m 6ms/step - loss: 3837.9912 - mean_absolute_error: 3837.9912 - mean_absolute_percentage_error: 15.7684 - val_loss: 3873.2686 - val_mean_absolute_error: 3873.2686 - val_mean_absolute_percentage_error: 15.7036\n",
      "Epoch 18/128\n",
      "\u001b[1m1000/1000\u001b[0m \u001b[32m━━━━━━━━━━━━━━━━━━━━\u001b[0m\u001b[37m\u001b[0m \u001b[1m6s\u001b[0m 6ms/step - loss: 3754.9136 - mean_absolute_error: 3754.9136 - mean_absolute_percentage_error: 15.6964 - val_loss: 3898.5322 - val_mean_absolute_error: 3898.5322 - val_mean_absolute_percentage_error: 15.4944\n",
      "Epoch 19/128\n",
      "\u001b[1m1000/1000\u001b[0m \u001b[32m━━━━━━━━━━━━━━━━━━━━\u001b[0m\u001b[37m\u001b[0m \u001b[1m6s\u001b[0m 6ms/step - loss: 3722.3318 - mean_absolute_error: 3722.3318 - mean_absolute_percentage_error: 15.2836 - val_loss: 3732.3838 - val_mean_absolute_error: 3732.3838 - val_mean_absolute_percentage_error: 15.7017\n",
      "Epoch 20/128\n",
      "\u001b[1m1000/1000\u001b[0m \u001b[32m━━━━━━━━━━━━━━━━━━━━\u001b[0m\u001b[37m\u001b[0m \u001b[1m6s\u001b[0m 6ms/step - loss: 3650.9441 - mean_absolute_error: 3650.9441 - mean_absolute_percentage_error: 15.4912 - val_loss: 3853.4602 - val_mean_absolute_error: 3853.4602 - val_mean_absolute_percentage_error: 18.5367\n",
      "Epoch 21/128\n",
      "\u001b[1m1000/1000\u001b[0m \u001b[32m━━━━━━━━━━━━━━━━━━━━\u001b[0m\u001b[37m\u001b[0m \u001b[1m6s\u001b[0m 6ms/step - loss: 3495.8201 - mean_absolute_error: 3495.8201 - mean_absolute_percentage_error: 14.8498 - val_loss: 3550.6772 - val_mean_absolute_error: 3550.6772 - val_mean_absolute_percentage_error: 14.5364\n",
      "Epoch 22/128\n",
      "\u001b[1m1000/1000\u001b[0m \u001b[32m━━━━━━━━━━━━━━━━━━━━\u001b[0m\u001b[37m\u001b[0m \u001b[1m6s\u001b[0m 6ms/step - loss: 3430.2041 - mean_absolute_error: 3430.2041 - mean_absolute_percentage_error: 14.6818 - val_loss: 3598.5288 - val_mean_absolute_error: 3598.5288 - val_mean_absolute_percentage_error: 16.5146\n",
      "Epoch 23/128\n",
      "\u001b[1m1000/1000\u001b[0m \u001b[32m━━━━━━━━━━━━━━━━━━━━\u001b[0m\u001b[37m\u001b[0m \u001b[1m6s\u001b[0m 6ms/step - loss: 3357.7195 - mean_absolute_error: 3357.7195 - mean_absolute_percentage_error: 14.2974 - val_loss: 3474.8821 - val_mean_absolute_error: 3474.8821 - val_mean_absolute_percentage_error: 14.2045\n",
      "Epoch 24/128\n",
      "\u001b[1m1000/1000\u001b[0m \u001b[32m━━━━━━━━━━━━━━━━━━━━\u001b[0m\u001b[37m\u001b[0m \u001b[1m6s\u001b[0m 6ms/step - loss: 3367.3201 - mean_absolute_error: 3367.3201 - mean_absolute_percentage_error: 14.4298 - val_loss: 3477.0447 - val_mean_absolute_error: 3477.0447 - val_mean_absolute_percentage_error: 14.8629\n",
      "Epoch 25/128\n",
      "\u001b[1m1000/1000\u001b[0m \u001b[32m━━━━━━━━━━━━━━━━━━━━\u001b[0m\u001b[37m\u001b[0m \u001b[1m6s\u001b[0m 6ms/step - loss: 3249.1243 - mean_absolute_error: 3249.1243 - mean_absolute_percentage_error: 14.2517 - val_loss: 3487.5750 - val_mean_absolute_error: 3487.5750 - val_mean_absolute_percentage_error: 15.0806\n",
      "Epoch 26/128\n",
      "\u001b[1m1000/1000\u001b[0m \u001b[32m━━━━━━━━━━━━━━━━━━━━\u001b[0m\u001b[37m\u001b[0m \u001b[1m6s\u001b[0m 6ms/step - loss: 3295.6973 - mean_absolute_error: 3295.6973 - mean_absolute_percentage_error: 14.3350 - val_loss: 3350.5774 - val_mean_absolute_error: 3350.5774 - val_mean_absolute_percentage_error: 14.2330\n",
      "Epoch 27/128\n",
      "\u001b[1m1000/1000\u001b[0m \u001b[32m━━━━━━━━━━━━━━━━━━━━\u001b[0m\u001b[37m\u001b[0m \u001b[1m6s\u001b[0m 6ms/step - loss: 3164.1045 - mean_absolute_error: 3164.1045 - mean_absolute_percentage_error: 13.8586 - val_loss: 3392.2642 - val_mean_absolute_error: 3392.2642 - val_mean_absolute_percentage_error: 14.3578\n",
      "Epoch 28/128\n",
      "\u001b[1m1000/1000\u001b[0m \u001b[32m━━━━━━━━━━━━━━━━━━━━\u001b[0m\u001b[37m\u001b[0m \u001b[1m6s\u001b[0m 6ms/step - loss: 3203.3728 - mean_absolute_error: 3203.3728 - mean_absolute_percentage_error: 13.7334 - val_loss: 3463.2002 - val_mean_absolute_error: 3463.2002 - val_mean_absolute_percentage_error: 16.3666\n",
      "Epoch 29/128\n",
      "\u001b[1m1000/1000\u001b[0m \u001b[32m━━━━━━━━━━━━━━━━━━━━\u001b[0m\u001b[37m\u001b[0m \u001b[1m6s\u001b[0m 6ms/step - loss: 3201.8025 - mean_absolute_error: 3201.8025 - mean_absolute_percentage_error: 13.7445 - val_loss: 3324.7061 - val_mean_absolute_error: 3324.7061 - val_mean_absolute_percentage_error: 14.2661\n",
      "Epoch 30/128\n",
      "\u001b[1m1000/1000\u001b[0m \u001b[32m━━━━━━━━━━━━━━━━━━━━\u001b[0m\u001b[37m\u001b[0m \u001b[1m6s\u001b[0m 6ms/step - loss: 3080.8003 - mean_absolute_error: 3080.8003 - mean_absolute_percentage_error: 13.7430 - val_loss: 3361.2361 - val_mean_absolute_error: 3361.2361 - val_mean_absolute_percentage_error: 13.8863\n",
      "Epoch 31/128\n",
      "\u001b[1m1000/1000\u001b[0m \u001b[32m━━━━━━━━━━━━━━━━━━━━\u001b[0m\u001b[37m\u001b[0m \u001b[1m6s\u001b[0m 6ms/step - loss: 2962.6074 - mean_absolute_error: 2962.6074 - mean_absolute_percentage_error: 13.4204 - val_loss: 3269.9871 - val_mean_absolute_error: 3269.9871 - val_mean_absolute_percentage_error: 13.5711\n",
      "Epoch 32/128\n",
      "\u001b[1m1000/1000\u001b[0m \u001b[32m━━━━━━━━━━━━━━━━━━━━\u001b[0m\u001b[37m\u001b[0m \u001b[1m6s\u001b[0m 6ms/step - loss: 2967.8193 - mean_absolute_error: 2967.8193 - mean_absolute_percentage_error: 13.0965 - val_loss: 3262.0679 - val_mean_absolute_error: 3262.0679 - val_mean_absolute_percentage_error: 13.8745\n",
      "Epoch 33/128\n",
      "\u001b[1m1000/1000\u001b[0m \u001b[32m━━━━━━━━━━━━━━━━━━━━\u001b[0m\u001b[37m\u001b[0m \u001b[1m6s\u001b[0m 6ms/step - loss: 2906.4995 - mean_absolute_error: 2906.4995 - mean_absolute_percentage_error: 13.1417 - val_loss: 3216.0271 - val_mean_absolute_error: 3216.0271 - val_mean_absolute_percentage_error: 13.5394\n",
      "Epoch 34/128\n",
      "\u001b[1m1000/1000\u001b[0m \u001b[32m━━━━━━━━━━━━━━━━━━━━\u001b[0m\u001b[37m\u001b[0m \u001b[1m6s\u001b[0m 6ms/step - loss: 2961.4578 - mean_absolute_error: 2961.4578 - mean_absolute_percentage_error: 13.0926 - val_loss: 3230.5654 - val_mean_absolute_error: 3230.5654 - val_mean_absolute_percentage_error: 13.9201\n",
      "Epoch 35/128\n",
      "\u001b[1m1000/1000\u001b[0m \u001b[32m━━━━━━━━━━━━━━━━━━━━\u001b[0m\u001b[37m\u001b[0m \u001b[1m6s\u001b[0m 6ms/step - loss: 2861.1775 - mean_absolute_error: 2861.1775 - mean_absolute_percentage_error: 13.0720 - val_loss: 3230.8398 - val_mean_absolute_error: 3230.8398 - val_mean_absolute_percentage_error: 13.9588\n",
      "Epoch 36/128\n",
      "\u001b[1m1000/1000\u001b[0m \u001b[32m━━━━━━━━━━━━━━━━━━━━\u001b[0m\u001b[37m\u001b[0m \u001b[1m6s\u001b[0m 6ms/step - loss: 2908.5635 - mean_absolute_error: 2908.5635 - mean_absolute_percentage_error: 12.8278 - val_loss: 3174.0105 - val_mean_absolute_error: 3174.0105 - val_mean_absolute_percentage_error: 13.5918\n",
      "Epoch 37/128\n",
      "\u001b[1m1000/1000\u001b[0m \u001b[32m━━━━━━━━━━━━━━━━━━━━\u001b[0m\u001b[37m\u001b[0m \u001b[1m6s\u001b[0m 6ms/step - loss: 2983.3879 - mean_absolute_error: 2983.3879 - mean_absolute_percentage_error: 13.2522 - val_loss: 3178.6460 - val_mean_absolute_error: 3178.6460 - val_mean_absolute_percentage_error: 13.8263\n",
      "Epoch 38/128\n",
      "\u001b[1m1000/1000\u001b[0m \u001b[32m━━━━━━━━━━━━━━━━━━━━\u001b[0m\u001b[37m\u001b[0m \u001b[1m6s\u001b[0m 6ms/step - loss: 2841.7747 - mean_absolute_error: 2841.7747 - mean_absolute_percentage_error: 12.7020 - val_loss: 3269.2634 - val_mean_absolute_error: 3269.2634 - val_mean_absolute_percentage_error: 13.6510\n",
      "Epoch 39/128\n",
      "\u001b[1m1000/1000\u001b[0m \u001b[32m━━━━━━━━━━━━━━━━━━━━\u001b[0m\u001b[37m\u001b[0m \u001b[1m6s\u001b[0m 6ms/step - loss: 2959.8616 - mean_absolute_error: 2959.8616 - mean_absolute_percentage_error: 12.9571 - val_loss: 3200.1484 - val_mean_absolute_error: 3200.1484 - val_mean_absolute_percentage_error: 14.0431\n",
      "Epoch 40/128\n",
      "\u001b[1m1000/1000\u001b[0m \u001b[32m━━━━━━━━━━━━━━━━━━━━\u001b[0m\u001b[37m\u001b[0m \u001b[1m6s\u001b[0m 6ms/step - loss: 2750.6328 - mean_absolute_error: 2750.6328 - mean_absolute_percentage_error: 12.5509 - val_loss: 3148.0503 - val_mean_absolute_error: 3148.0503 - val_mean_absolute_percentage_error: 13.4496\n",
      "Epoch 41/128\n",
      "\u001b[1m1000/1000\u001b[0m \u001b[32m━━━━━━━━━━━━━━━━━━━━\u001b[0m\u001b[37m\u001b[0m \u001b[1m6s\u001b[0m 6ms/step - loss: 2731.9387 - mean_absolute_error: 2731.9387 - mean_absolute_percentage_error: 12.7267 - val_loss: 3172.7251 - val_mean_absolute_error: 3172.7251 - val_mean_absolute_percentage_error: 13.4071\n",
      "Epoch 42/128\n",
      "\u001b[1m1000/1000\u001b[0m \u001b[32m━━━━━━━━━━━━━━━━━━━━\u001b[0m\u001b[37m\u001b[0m \u001b[1m6s\u001b[0m 6ms/step - loss: 2779.7073 - mean_absolute_error: 2779.7073 - mean_absolute_percentage_error: 12.7696 - val_loss: 3222.0901 - val_mean_absolute_error: 3222.0901 - val_mean_absolute_percentage_error: 13.5791\n",
      "Epoch 43/128\n",
      "\u001b[1m1000/1000\u001b[0m \u001b[32m━━━━━━━━━━━━━━━━━━━━\u001b[0m\u001b[37m\u001b[0m \u001b[1m6s\u001b[0m 6ms/step - loss: 2617.2263 - mean_absolute_error: 2617.2263 - mean_absolute_percentage_error: 12.4516 - val_loss: 3096.9673 - val_mean_absolute_error: 3096.9673 - val_mean_absolute_percentage_error: 13.5023\n",
      "Epoch 44/128\n",
      "\u001b[1m1000/1000\u001b[0m \u001b[32m━━━━━━━━━━━━━━━━━━━━\u001b[0m\u001b[37m\u001b[0m \u001b[1m6s\u001b[0m 6ms/step - loss: 2711.6709 - mean_absolute_error: 2711.6709 - mean_absolute_percentage_error: 12.2246 - val_loss: 3124.4829 - val_mean_absolute_error: 3124.4829 - val_mean_absolute_percentage_error: 14.0419\n",
      "Epoch 45/128\n",
      "\u001b[1m1000/1000\u001b[0m \u001b[32m━━━━━━━━━━━━━━━━━━━━\u001b[0m\u001b[37m\u001b[0m \u001b[1m6s\u001b[0m 6ms/step - loss: 2681.8562 - mean_absolute_error: 2681.8562 - mean_absolute_percentage_error: 12.4822 - val_loss: 3047.5718 - val_mean_absolute_error: 3047.5718 - val_mean_absolute_percentage_error: 13.0436\n",
      "Epoch 46/128\n",
      "\u001b[1m1000/1000\u001b[0m \u001b[32m━━━━━━━━━━━━━━━━━━━━\u001b[0m\u001b[37m\u001b[0m \u001b[1m6s\u001b[0m 6ms/step - loss: 2616.1326 - mean_absolute_error: 2616.1326 - mean_absolute_percentage_error: 12.2548 - val_loss: 3217.4575 - val_mean_absolute_error: 3217.4575 - val_mean_absolute_percentage_error: 13.8837\n",
      "Epoch 47/128\n",
      "\u001b[1m1000/1000\u001b[0m \u001b[32m━━━━━━━━━━━━━━━━━━━━\u001b[0m\u001b[37m\u001b[0m \u001b[1m7s\u001b[0m 7ms/step - loss: 2628.8569 - mean_absolute_error: 2628.8569 - mean_absolute_percentage_error: 12.2681 - val_loss: 3087.1130 - val_mean_absolute_error: 3087.1130 - val_mean_absolute_percentage_error: 13.2678\n",
      "Epoch 48/128\n",
      "\u001b[1m1000/1000\u001b[0m \u001b[32m━━━━━━━━━━━━━━━━━━━━\u001b[0m\u001b[37m\u001b[0m \u001b[1m7s\u001b[0m 7ms/step - loss: 2801.1736 - mean_absolute_error: 2801.1736 - mean_absolute_percentage_error: 12.1674 - val_loss: 3109.0828 - val_mean_absolute_error: 3109.0828 - val_mean_absolute_percentage_error: 14.8134\n",
      "Epoch 49/128\n",
      "\u001b[1m1000/1000\u001b[0m \u001b[32m━━━━━━━━━━━━━━━━━━━━\u001b[0m\u001b[37m\u001b[0m \u001b[1m7s\u001b[0m 7ms/step - loss: 2780.0281 - mean_absolute_error: 2780.0281 - mean_absolute_percentage_error: 12.2602 - val_loss: 3053.0076 - val_mean_absolute_error: 3053.0076 - val_mean_absolute_percentage_error: 13.0565\n",
      "Epoch 50/128\n",
      "\u001b[1m1000/1000\u001b[0m \u001b[32m━━━━━━━━━━━━━━━━━━━━\u001b[0m\u001b[37m\u001b[0m \u001b[1m7s\u001b[0m 7ms/step - loss: 2658.9109 - mean_absolute_error: 2658.9109 - mean_absolute_percentage_error: 12.0788 - val_loss: 3017.9421 - val_mean_absolute_error: 3017.9421 - val_mean_absolute_percentage_error: 13.0604\n",
      "Epoch 51/128\n",
      "\u001b[1m1000/1000\u001b[0m \u001b[32m━━━━━━━━━━━━━━━━━━━━\u001b[0m\u001b[37m\u001b[0m \u001b[1m6s\u001b[0m 6ms/step - loss: 2580.2654 - mean_absolute_error: 2580.2654 - mean_absolute_percentage_error: 11.8059 - val_loss: 3014.7688 - val_mean_absolute_error: 3014.7688 - val_mean_absolute_percentage_error: 13.1813\n",
      "Epoch 52/128\n",
      "\u001b[1m1000/1000\u001b[0m \u001b[32m━━━━━━━━━━━━━━━━━━━━\u001b[0m\u001b[37m\u001b[0m \u001b[1m6s\u001b[0m 6ms/step - loss: 2604.7405 - mean_absolute_error: 2604.7405 - mean_absolute_percentage_error: 12.0436 - val_loss: 3159.5652 - val_mean_absolute_error: 3159.5652 - val_mean_absolute_percentage_error: 13.3075\n",
      "Epoch 53/128\n",
      "\u001b[1m1000/1000\u001b[0m \u001b[32m━━━━━━━━━━━━━━━━━━━━\u001b[0m\u001b[37m\u001b[0m \u001b[1m6s\u001b[0m 6ms/step - loss: 2602.6748 - mean_absolute_error: 2602.6748 - mean_absolute_percentage_error: 11.9956 - val_loss: 2953.6912 - val_mean_absolute_error: 2953.6912 - val_mean_absolute_percentage_error: 12.8211\n",
      "Epoch 54/128\n",
      "\u001b[1m1000/1000\u001b[0m \u001b[32m━━━━━━━━━━━━━━━━━━━━\u001b[0m\u001b[37m\u001b[0m \u001b[1m6s\u001b[0m 6ms/step - loss: 2486.0037 - mean_absolute_error: 2486.0037 - mean_absolute_percentage_error: 11.6913 - val_loss: 2991.1589 - val_mean_absolute_error: 2991.1589 - val_mean_absolute_percentage_error: 12.8828\n",
      "Epoch 55/128\n",
      "\u001b[1m1000/1000\u001b[0m \u001b[32m━━━━━━━━━━━━━━━━━━━━\u001b[0m\u001b[37m\u001b[0m \u001b[1m6s\u001b[0m 6ms/step - loss: 2582.8176 - mean_absolute_error: 2582.8176 - mean_absolute_percentage_error: 12.0398 - val_loss: 3007.7952 - val_mean_absolute_error: 3007.7952 - val_mean_absolute_percentage_error: 13.3961\n",
      "Epoch 56/128\n",
      "\u001b[1m1000/1000\u001b[0m \u001b[32m━━━━━━━━━━━━━━━━━━━━\u001b[0m\u001b[37m\u001b[0m \u001b[1m6s\u001b[0m 6ms/step - loss: 2513.0864 - mean_absolute_error: 2513.0864 - mean_absolute_percentage_error: 11.7062 - val_loss: 2948.2681 - val_mean_absolute_error: 2948.2681 - val_mean_absolute_percentage_error: 12.8475\n",
      "Epoch 57/128\n",
      "\u001b[1m1000/1000\u001b[0m \u001b[32m━━━━━━━━━━━━━━━━━━━━\u001b[0m\u001b[37m\u001b[0m \u001b[1m6s\u001b[0m 6ms/step - loss: 2678.7178 - mean_absolute_error: 2678.7178 - mean_absolute_percentage_error: 11.9245 - val_loss: 2931.5254 - val_mean_absolute_error: 2931.5254 - val_mean_absolute_percentage_error: 12.6125\n",
      "Epoch 58/128\n",
      "\u001b[1m1000/1000\u001b[0m \u001b[32m━━━━━━━━━━━━━━━━━━━━\u001b[0m\u001b[37m\u001b[0m \u001b[1m6s\u001b[0m 6ms/step - loss: 2627.8477 - mean_absolute_error: 2627.8477 - mean_absolute_percentage_error: 11.9556 - val_loss: 2978.9326 - val_mean_absolute_error: 2978.9326 - val_mean_absolute_percentage_error: 12.8253\n",
      "Epoch 59/128\n",
      "\u001b[1m1000/1000\u001b[0m \u001b[32m━━━━━━━━━━━━━━━━━━━━\u001b[0m\u001b[37m\u001b[0m \u001b[1m6s\u001b[0m 6ms/step - loss: 2509.6155 - mean_absolute_error: 2509.6155 - mean_absolute_percentage_error: 11.6890 - val_loss: 2996.6843 - val_mean_absolute_error: 2996.6843 - val_mean_absolute_percentage_error: 12.8865\n",
      "Epoch 60/128\n",
      "\u001b[1m1000/1000\u001b[0m \u001b[32m━━━━━━━━━━━━━━━━━━━━\u001b[0m\u001b[37m\u001b[0m \u001b[1m6s\u001b[0m 6ms/step - loss: 2506.2583 - mean_absolute_error: 2506.2583 - mean_absolute_percentage_error: 11.4798 - val_loss: 3053.9065 - val_mean_absolute_error: 3053.9065 - val_mean_absolute_percentage_error: 14.2846\n",
      "Epoch 61/128\n",
      "\u001b[1m1000/1000\u001b[0m \u001b[32m━━━━━━━━━━━━━━━━━━━━\u001b[0m\u001b[37m\u001b[0m \u001b[1m6s\u001b[0m 6ms/step - loss: 2490.3701 - mean_absolute_error: 2490.3701 - mean_absolute_percentage_error: 11.4967 - val_loss: 2948.6917 - val_mean_absolute_error: 2948.6917 - val_mean_absolute_percentage_error: 12.7167\n",
      "Epoch 62/128\n",
      "\u001b[1m1000/1000\u001b[0m \u001b[32m━━━━━━━━━━━━━━━━━━━━\u001b[0m\u001b[37m\u001b[0m \u001b[1m6s\u001b[0m 6ms/step - loss: 2482.7422 - mean_absolute_error: 2482.7422 - mean_absolute_percentage_error: 11.5912 - val_loss: 2939.2261 - val_mean_absolute_error: 2939.2261 - val_mean_absolute_percentage_error: 12.7094\n",
      "Epoch 63/128\n",
      "\u001b[1m1000/1000\u001b[0m \u001b[32m━━━━━━━━━━━━━━━━━━━━\u001b[0m\u001b[37m\u001b[0m \u001b[1m6s\u001b[0m 6ms/step - loss: 2602.0869 - mean_absolute_error: 2602.0869 - mean_absolute_percentage_error: 11.5660 - val_loss: 2877.2004 - val_mean_absolute_error: 2877.2004 - val_mean_absolute_percentage_error: 12.5440\n",
      "Epoch 64/128\n",
      "\u001b[1m1000/1000\u001b[0m \u001b[32m━━━━━━━━━━━━━━━━━━━━\u001b[0m\u001b[37m\u001b[0m \u001b[1m6s\u001b[0m 6ms/step - loss: 2489.0596 - mean_absolute_error: 2489.0596 - mean_absolute_percentage_error: 11.5041 - val_loss: 2946.0620 - val_mean_absolute_error: 2946.0620 - val_mean_absolute_percentage_error: 12.6583\n",
      "Epoch 65/128\n",
      "\u001b[1m1000/1000\u001b[0m \u001b[32m━━━━━━━━━━━━━━━━━━━━\u001b[0m\u001b[37m\u001b[0m \u001b[1m6s\u001b[0m 6ms/step - loss: 2525.9070 - mean_absolute_error: 2525.9070 - mean_absolute_percentage_error: 11.6407 - val_loss: 2887.1943 - val_mean_absolute_error: 2887.1943 - val_mean_absolute_percentage_error: 12.3618\n",
      "Epoch 66/128\n",
      "\u001b[1m1000/1000\u001b[0m \u001b[32m━━━━━━━━━━━━━━━━━━━━\u001b[0m\u001b[37m\u001b[0m \u001b[1m6s\u001b[0m 6ms/step - loss: 2428.2529 - mean_absolute_error: 2428.2529 - mean_absolute_percentage_error: 11.2700 - val_loss: 2919.8994 - val_mean_absolute_error: 2919.8994 - val_mean_absolute_percentage_error: 13.5261\n",
      "Epoch 67/128\n",
      "\u001b[1m1000/1000\u001b[0m \u001b[32m━━━━━━━━━━━━━━━━━━━━\u001b[0m\u001b[37m\u001b[0m \u001b[1m6s\u001b[0m 6ms/step - loss: 2460.2246 - mean_absolute_error: 2460.2246 - mean_absolute_percentage_error: 11.4168 - val_loss: 2872.2161 - val_mean_absolute_error: 2872.2161 - val_mean_absolute_percentage_error: 13.0439\n",
      "Epoch 68/128\n",
      "\u001b[1m1000/1000\u001b[0m \u001b[32m━━━━━━━━━━━━━━━━━━━━\u001b[0m\u001b[37m\u001b[0m \u001b[1m6s\u001b[0m 6ms/step - loss: 2428.5054 - mean_absolute_error: 2428.5054 - mean_absolute_percentage_error: 11.3448 - val_loss: 2875.2085 - val_mean_absolute_error: 2875.2085 - val_mean_absolute_percentage_error: 12.9908\n",
      "Epoch 69/128\n",
      "\u001b[1m1000/1000\u001b[0m \u001b[32m━━━━━━━━━━━━━━━━━━━━\u001b[0m\u001b[37m\u001b[0m \u001b[1m6s\u001b[0m 6ms/step - loss: 2410.0063 - mean_absolute_error: 2410.0063 - mean_absolute_percentage_error: 11.4931 - val_loss: 3042.4573 - val_mean_absolute_error: 3042.4573 - val_mean_absolute_percentage_error: 13.3142\n",
      "Epoch 70/128\n",
      "\u001b[1m1000/1000\u001b[0m \u001b[32m━━━━━━━━━━━━━━━━━━━━\u001b[0m\u001b[37m\u001b[0m \u001b[1m6s\u001b[0m 6ms/step - loss: 2436.1350 - mean_absolute_error: 2436.1350 - mean_absolute_percentage_error: 11.3850 - val_loss: 2941.2998 - val_mean_absolute_error: 2941.2998 - val_mean_absolute_percentage_error: 12.6947\n",
      "Epoch 71/128\n",
      "\u001b[1m1000/1000\u001b[0m \u001b[32m━━━━━━━━━━━━━━━━━━━━\u001b[0m\u001b[37m\u001b[0m \u001b[1m6s\u001b[0m 6ms/step - loss: 2457.5845 - mean_absolute_error: 2457.5845 - mean_absolute_percentage_error: 11.4021 - val_loss: 2880.3989 - val_mean_absolute_error: 2880.3989 - val_mean_absolute_percentage_error: 12.4392\n",
      "Epoch 72/128\n",
      "\u001b[1m1000/1000\u001b[0m \u001b[32m━━━━━━━━━━━━━━━━━━━━\u001b[0m\u001b[37m\u001b[0m \u001b[1m6s\u001b[0m 6ms/step - loss: 2473.3494 - mean_absolute_error: 2473.3494 - mean_absolute_percentage_error: 11.1216 - val_loss: 2849.8923 - val_mean_absolute_error: 2849.8923 - val_mean_absolute_percentage_error: 12.4865\n",
      "Epoch 73/128\n",
      "\u001b[1m1000/1000\u001b[0m \u001b[32m━━━━━━━━━━━━━━━━━━━━\u001b[0m\u001b[37m\u001b[0m \u001b[1m6s\u001b[0m 6ms/step - loss: 2472.5662 - mean_absolute_error: 2472.5662 - mean_absolute_percentage_error: 11.2853 - val_loss: 2884.6821 - val_mean_absolute_error: 2884.6821 - val_mean_absolute_percentage_error: 12.8565\n",
      "Epoch 74/128\n",
      "\u001b[1m1000/1000\u001b[0m \u001b[32m━━━━━━━━━━━━━━━━━━━━\u001b[0m\u001b[37m\u001b[0m \u001b[1m6s\u001b[0m 6ms/step - loss: 2391.8579 - mean_absolute_error: 2391.8579 - mean_absolute_percentage_error: 11.1476 - val_loss: 2859.2122 - val_mean_absolute_error: 2859.2122 - val_mean_absolute_percentage_error: 12.4811\n",
      "Epoch 75/128\n",
      "\u001b[1m1000/1000\u001b[0m \u001b[32m━━━━━━━━━━━━━━━━━━━━\u001b[0m\u001b[37m\u001b[0m \u001b[1m6s\u001b[0m 6ms/step - loss: 2361.6360 - mean_absolute_error: 2361.6360 - mean_absolute_percentage_error: 11.0875 - val_loss: 2872.1494 - val_mean_absolute_error: 2872.1494 - val_mean_absolute_percentage_error: 12.5151\n",
      "Epoch 76/128\n",
      "\u001b[1m1000/1000\u001b[0m \u001b[32m━━━━━━━━━━━━━━━━━━━━\u001b[0m\u001b[37m\u001b[0m \u001b[1m6s\u001b[0m 6ms/step - loss: 2313.7302 - mean_absolute_error: 2313.7302 - mean_absolute_percentage_error: 11.1169 - val_loss: 2850.4778 - val_mean_absolute_error: 2850.4778 - val_mean_absolute_percentage_error: 12.3490\n",
      "Epoch 77/128\n",
      "\u001b[1m1000/1000\u001b[0m \u001b[32m━━━━━━━━━━━━━━━━━━━━\u001b[0m\u001b[37m\u001b[0m \u001b[1m6s\u001b[0m 6ms/step - loss: 2347.1050 - mean_absolute_error: 2347.1050 - mean_absolute_percentage_error: 11.2822 - val_loss: 2873.4419 - val_mean_absolute_error: 2873.4419 - val_mean_absolute_percentage_error: 12.6725\n",
      "Epoch 78/128\n",
      "\u001b[1m1000/1000\u001b[0m \u001b[32m━━━━━━━━━━━━━━━━━━━━\u001b[0m\u001b[37m\u001b[0m \u001b[1m6s\u001b[0m 6ms/step - loss: 2395.1370 - mean_absolute_error: 2395.1370 - mean_absolute_percentage_error: 11.0770 - val_loss: 2896.2375 - val_mean_absolute_error: 2896.2375 - val_mean_absolute_percentage_error: 13.4991\n",
      "Epoch 79/128\n",
      "\u001b[1m1000/1000\u001b[0m \u001b[32m━━━━━━━━━━━━━━━━━━━━\u001b[0m\u001b[37m\u001b[0m \u001b[1m6s\u001b[0m 6ms/step - loss: 2423.5210 - mean_absolute_error: 2423.5210 - mean_absolute_percentage_error: 11.2128 - val_loss: 2843.7415 - val_mean_absolute_error: 2843.7415 - val_mean_absolute_percentage_error: 12.3797\n",
      "Epoch 80/128\n",
      "\u001b[1m1000/1000\u001b[0m \u001b[32m━━━━━━━━━━━━━━━━━━━━\u001b[0m\u001b[37m\u001b[0m \u001b[1m6s\u001b[0m 6ms/step - loss: 2405.0044 - mean_absolute_error: 2405.0044 - mean_absolute_percentage_error: 11.2257 - val_loss: 2893.9819 - val_mean_absolute_error: 2893.9819 - val_mean_absolute_percentage_error: 12.7111\n",
      "Epoch 81/128\n",
      "\u001b[1m1000/1000\u001b[0m \u001b[32m━━━━━━━━━━━━━━━━━━━━\u001b[0m\u001b[37m\u001b[0m \u001b[1m6s\u001b[0m 6ms/step - loss: 2380.2102 - mean_absolute_error: 2380.2102 - mean_absolute_percentage_error: 11.2587 - val_loss: 2866.5977 - val_mean_absolute_error: 2866.5977 - val_mean_absolute_percentage_error: 12.4742\n",
      "Epoch 82/128\n",
      "\u001b[1m1000/1000\u001b[0m \u001b[32m━━━━━━━━━━━━━━━━━━━━\u001b[0m\u001b[37m\u001b[0m \u001b[1m6s\u001b[0m 6ms/step - loss: 2371.3474 - mean_absolute_error: 2371.3474 - mean_absolute_percentage_error: 11.0607 - val_loss: 2921.4553 - val_mean_absolute_error: 2921.4553 - val_mean_absolute_percentage_error: 13.2149\n",
      "Epoch 83/128\n",
      "\u001b[1m1000/1000\u001b[0m \u001b[32m━━━━━━━━━━━━━━━━━━━━\u001b[0m\u001b[37m\u001b[0m \u001b[1m6s\u001b[0m 6ms/step - loss: 2314.1965 - mean_absolute_error: 2314.1965 - mean_absolute_percentage_error: 11.1722 - val_loss: 2903.0359 - val_mean_absolute_error: 2903.0359 - val_mean_absolute_percentage_error: 12.9675\n",
      "Epoch 84/128\n",
      "\u001b[1m1000/1000\u001b[0m \u001b[32m━━━━━━━━━━━━━━━━━━━━\u001b[0m\u001b[37m\u001b[0m \u001b[1m6s\u001b[0m 6ms/step - loss: 2394.5544 - mean_absolute_error: 2394.5544 - mean_absolute_percentage_error: 11.0093 - val_loss: 2849.7598 - val_mean_absolute_error: 2849.7598 - val_mean_absolute_percentage_error: 12.3669\n",
      "Epoch 85/128\n",
      "\u001b[1m1000/1000\u001b[0m \u001b[32m━━━━━━━━━━━━━━━━━━━━\u001b[0m\u001b[37m\u001b[0m \u001b[1m6s\u001b[0m 6ms/step - loss: 2348.5178 - mean_absolute_error: 2348.5178 - mean_absolute_percentage_error: 10.7818 - val_loss: 2857.2883 - val_mean_absolute_error: 2857.2883 - val_mean_absolute_percentage_error: 12.3760\n",
      "Epoch 86/128\n",
      "\u001b[1m1000/1000\u001b[0m \u001b[32m━━━━━━━━━━━━━━━━━━━━\u001b[0m\u001b[37m\u001b[0m \u001b[1m6s\u001b[0m 6ms/step - loss: 2301.5935 - mean_absolute_error: 2301.5935 - mean_absolute_percentage_error: 11.1417 - val_loss: 3259.7520 - val_mean_absolute_error: 3259.7520 - val_mean_absolute_percentage_error: 17.3547\n",
      "Epoch 87/128\n",
      "\u001b[1m1000/1000\u001b[0m \u001b[32m━━━━━━━━━━━━━━━━━━━━\u001b[0m\u001b[37m\u001b[0m \u001b[1m6s\u001b[0m 6ms/step - loss: 2321.6123 - mean_absolute_error: 2321.6123 - mean_absolute_percentage_error: 11.1167 - val_loss: 3122.1348 - val_mean_absolute_error: 3122.1348 - val_mean_absolute_percentage_error: 13.3318\n",
      "Epoch 88/128\n",
      "\u001b[1m1000/1000\u001b[0m \u001b[32m━━━━━━━━━━━━━━━━━━━━\u001b[0m\u001b[37m\u001b[0m \u001b[1m6s\u001b[0m 6ms/step - loss: 2308.9348 - mean_absolute_error: 2308.9348 - mean_absolute_percentage_error: 11.0299 - val_loss: 2859.6802 - val_mean_absolute_error: 2859.6802 - val_mean_absolute_percentage_error: 12.2571\n",
      "Epoch 89/128\n",
      "\u001b[1m1000/1000\u001b[0m \u001b[32m━━━━━━━━━━━━━━━━━━━━\u001b[0m\u001b[37m\u001b[0m \u001b[1m6s\u001b[0m 6ms/step - loss: 2253.4392 - mean_absolute_error: 2253.4392 - mean_absolute_percentage_error: 10.8167 - val_loss: 2821.4353 - val_mean_absolute_error: 2821.4353 - val_mean_absolute_percentage_error: 12.3707\n",
      "Epoch 90/128\n",
      "\u001b[1m1000/1000\u001b[0m \u001b[32m━━━━━━━━━━━━━━━━━━━━\u001b[0m\u001b[37m\u001b[0m \u001b[1m6s\u001b[0m 6ms/step - loss: 2250.7480 - mean_absolute_error: 2250.7480 - mean_absolute_percentage_error: 10.7418 - val_loss: 2897.1035 - val_mean_absolute_error: 2897.1035 - val_mean_absolute_percentage_error: 12.3853\n",
      "Epoch 91/128\n",
      "\u001b[1m1000/1000\u001b[0m \u001b[32m━━━━━━━━━━━━━━━━━━━━\u001b[0m\u001b[37m\u001b[0m \u001b[1m6s\u001b[0m 6ms/step - loss: 2365.8657 - mean_absolute_error: 2365.8657 - mean_absolute_percentage_error: 10.8713 - val_loss: 2946.8647 - val_mean_absolute_error: 2946.8647 - val_mean_absolute_percentage_error: 13.7155\n",
      "Epoch 92/128\n",
      "\u001b[1m1000/1000\u001b[0m \u001b[32m━━━━━━━━━━━━━━━━━━━━\u001b[0m\u001b[37m\u001b[0m \u001b[1m6s\u001b[0m 6ms/step - loss: 2299.7200 - mean_absolute_error: 2299.7200 - mean_absolute_percentage_error: 10.9232 - val_loss: 2820.5032 - val_mean_absolute_error: 2820.5032 - val_mean_absolute_percentage_error: 12.5721\n",
      "Epoch 93/128\n",
      "\u001b[1m1000/1000\u001b[0m \u001b[32m━━━━━━━━━━━━━━━━━━━━\u001b[0m\u001b[37m\u001b[0m \u001b[1m6s\u001b[0m 6ms/step - loss: 2299.1487 - mean_absolute_error: 2299.1487 - mean_absolute_percentage_error: 10.7258 - val_loss: 2832.4048 - val_mean_absolute_error: 2832.4048 - val_mean_absolute_percentage_error: 12.5106\n",
      "Epoch 94/128\n",
      "\u001b[1m1000/1000\u001b[0m \u001b[32m━━━━━━━━━━━━━━━━━━━━\u001b[0m\u001b[37m\u001b[0m \u001b[1m6s\u001b[0m 6ms/step - loss: 2237.7078 - mean_absolute_error: 2237.7078 - mean_absolute_percentage_error: 10.8193 - val_loss: 2849.1174 - val_mean_absolute_error: 2849.1174 - val_mean_absolute_percentage_error: 12.7683\n",
      "Epoch 95/128\n",
      "\u001b[1m1000/1000\u001b[0m \u001b[32m━━━━━━━━━━━━━━━━━━━━\u001b[0m\u001b[37m\u001b[0m \u001b[1m6s\u001b[0m 6ms/step - loss: 2294.5205 - mean_absolute_error: 2294.5205 - mean_absolute_percentage_error: 10.9833 - val_loss: 2845.1765 - val_mean_absolute_error: 2845.1765 - val_mean_absolute_percentage_error: 12.6187\n",
      "Epoch 96/128\n",
      "\u001b[1m1000/1000\u001b[0m \u001b[32m━━━━━━━━━━━━━━━━━━━━\u001b[0m\u001b[37m\u001b[0m \u001b[1m6s\u001b[0m 6ms/step - loss: 2243.4963 - mean_absolute_error: 2243.4963 - mean_absolute_percentage_error: 10.8782 - val_loss: 2843.9272 - val_mean_absolute_error: 2843.9272 - val_mean_absolute_percentage_error: 12.3284\n",
      "Epoch 97/128\n",
      "\u001b[1m1000/1000\u001b[0m \u001b[32m━━━━━━━━━━━━━━━━━━━━\u001b[0m\u001b[37m\u001b[0m \u001b[1m7s\u001b[0m 7ms/step - loss: 2267.4561 - mean_absolute_error: 2267.4561 - mean_absolute_percentage_error: 10.7745 - val_loss: 2929.7998 - val_mean_absolute_error: 2929.7998 - val_mean_absolute_percentage_error: 13.1286\n",
      "Epoch 98/128\n",
      "\u001b[1m1000/1000\u001b[0m \u001b[32m━━━━━━━━━━━━━━━━━━━━\u001b[0m\u001b[37m\u001b[0m \u001b[1m6s\u001b[0m 6ms/step - loss: 2367.5234 - mean_absolute_error: 2367.5234 - mean_absolute_percentage_error: 10.8236 - val_loss: 2877.7561 - val_mean_absolute_error: 2877.7561 - val_mean_absolute_percentage_error: 12.4209\n",
      "Epoch 99/128\n",
      "\u001b[1m1000/1000\u001b[0m \u001b[32m━━━━━━━━━━━━━━━━━━━━\u001b[0m\u001b[37m\u001b[0m \u001b[1m7s\u001b[0m 7ms/step - loss: 2275.0422 - mean_absolute_error: 2275.0422 - mean_absolute_percentage_error: 10.7692 - val_loss: 2874.2659 - val_mean_absolute_error: 2874.2659 - val_mean_absolute_percentage_error: 12.4966\n",
      "Epoch 100/128\n",
      "\u001b[1m1000/1000\u001b[0m \u001b[32m━━━━━━━━━━━━━━━━━━━━\u001b[0m\u001b[37m\u001b[0m \u001b[1m6s\u001b[0m 6ms/step - loss: 2266.1169 - mean_absolute_error: 2266.1169 - mean_absolute_percentage_error: 10.8082 - val_loss: 2901.4199 - val_mean_absolute_error: 2901.4199 - val_mean_absolute_percentage_error: 13.2950\n",
      "Epoch 101/128\n",
      "\u001b[1m1000/1000\u001b[0m \u001b[32m━━━━━━━━━━━━━━━━━━━━\u001b[0m\u001b[37m\u001b[0m \u001b[1m6s\u001b[0m 6ms/step - loss: 2319.1890 - mean_absolute_error: 2319.1890 - mean_absolute_percentage_error: 10.6298 - val_loss: 2819.9504 - val_mean_absolute_error: 2819.9504 - val_mean_absolute_percentage_error: 12.6088\n",
      "Epoch 102/128\n",
      "\u001b[1m1000/1000\u001b[0m \u001b[32m━━━━━━━━━━━━━━━━━━━━\u001b[0m\u001b[37m\u001b[0m \u001b[1m6s\u001b[0m 6ms/step - loss: 2204.2241 - mean_absolute_error: 2204.2241 - mean_absolute_percentage_error: 10.5955 - val_loss: 2863.2122 - val_mean_absolute_error: 2863.2122 - val_mean_absolute_percentage_error: 12.4932\n",
      "Epoch 103/128\n",
      "\u001b[1m1000/1000\u001b[0m \u001b[32m━━━━━━━━━━━━━━━━━━━━\u001b[0m\u001b[37m\u001b[0m \u001b[1m6s\u001b[0m 6ms/step - loss: 2299.5168 - mean_absolute_error: 2299.5168 - mean_absolute_percentage_error: 10.8601 - val_loss: 2923.6736 - val_mean_absolute_error: 2923.6736 - val_mean_absolute_percentage_error: 12.3249\n",
      "Epoch 104/128\n",
      "\u001b[1m1000/1000\u001b[0m \u001b[32m━━━━━━━━━━━━━━━━━━━━\u001b[0m\u001b[37m\u001b[0m \u001b[1m6s\u001b[0m 6ms/step - loss: 2335.8621 - mean_absolute_error: 2335.8621 - mean_absolute_percentage_error: 10.8645 - val_loss: 2848.7937 - val_mean_absolute_error: 2848.7937 - val_mean_absolute_percentage_error: 12.2120\n",
      "Epoch 105/128\n",
      "\u001b[1m1000/1000\u001b[0m \u001b[32m━━━━━━━━━━━━━━━━━━━━\u001b[0m\u001b[37m\u001b[0m \u001b[1m6s\u001b[0m 6ms/step - loss: 2180.5413 - mean_absolute_error: 2180.5413 - mean_absolute_percentage_error: 10.5136 - val_loss: 2794.4626 - val_mean_absolute_error: 2794.4626 - val_mean_absolute_percentage_error: 12.3044\n",
      "Epoch 106/128\n",
      "\u001b[1m1000/1000\u001b[0m \u001b[32m━━━━━━━━━━━━━━━━━━━━\u001b[0m\u001b[37m\u001b[0m \u001b[1m6s\u001b[0m 6ms/step - loss: 2245.1741 - mean_absolute_error: 2245.1741 - mean_absolute_percentage_error: 10.7017 - val_loss: 2889.7922 - val_mean_absolute_error: 2889.7922 - val_mean_absolute_percentage_error: 12.9902\n",
      "Epoch 107/128\n",
      "\u001b[1m1000/1000\u001b[0m \u001b[32m━━━━━━━━━━━━━━━━━━━━\u001b[0m\u001b[37m\u001b[0m \u001b[1m6s\u001b[0m 6ms/step - loss: 2258.1338 - mean_absolute_error: 2258.1338 - mean_absolute_percentage_error: 10.9244 - val_loss: 2823.7688 - val_mean_absolute_error: 2823.7688 - val_mean_absolute_percentage_error: 12.4084\n",
      "Epoch 108/128\n",
      "\u001b[1m1000/1000\u001b[0m \u001b[32m━━━━━━━━━━━━━━━━━━━━\u001b[0m\u001b[37m\u001b[0m \u001b[1m6s\u001b[0m 6ms/step - loss: 2258.8955 - mean_absolute_error: 2258.8955 - mean_absolute_percentage_error: 10.7156 - val_loss: 2845.6948 - val_mean_absolute_error: 2845.6948 - val_mean_absolute_percentage_error: 12.6924\n",
      "Epoch 109/128\n",
      "\u001b[1m1000/1000\u001b[0m \u001b[32m━━━━━━━━━━━━━━━━━━━━\u001b[0m\u001b[37m\u001b[0m \u001b[1m6s\u001b[0m 6ms/step - loss: 2260.2412 - mean_absolute_error: 2260.2412 - mean_absolute_percentage_error: 10.6898 - val_loss: 2817.4368 - val_mean_absolute_error: 2817.4368 - val_mean_absolute_percentage_error: 12.2821\n",
      "Epoch 110/128\n",
      "\u001b[1m1000/1000\u001b[0m \u001b[32m━━━━━━━━━━━━━━━━━━━━\u001b[0m\u001b[37m\u001b[0m \u001b[1m6s\u001b[0m 6ms/step - loss: 2180.9146 - mean_absolute_error: 2180.9146 - mean_absolute_percentage_error: 10.6589 - val_loss: 2852.9880 - val_mean_absolute_error: 2852.9880 - val_mean_absolute_percentage_error: 12.3846\n",
      "Epoch 111/128\n",
      "\u001b[1m1000/1000\u001b[0m \u001b[32m━━━━━━━━━━━━━━━━━━━━\u001b[0m\u001b[37m\u001b[0m \u001b[1m6s\u001b[0m 6ms/step - loss: 2241.8840 - mean_absolute_error: 2241.8840 - mean_absolute_percentage_error: 10.6891 - val_loss: 2920.6233 - val_mean_absolute_error: 2920.6233 - val_mean_absolute_percentage_error: 13.3442\n",
      "Epoch 112/128\n",
      "\u001b[1m1000/1000\u001b[0m \u001b[32m━━━━━━━━━━━━━━━━━━━━\u001b[0m\u001b[37m\u001b[0m \u001b[1m6s\u001b[0m 6ms/step - loss: 2201.5239 - mean_absolute_error: 2201.5239 - mean_absolute_percentage_error: 10.5919 - val_loss: 2815.9172 - val_mean_absolute_error: 2815.9172 - val_mean_absolute_percentage_error: 12.2829\n",
      "Epoch 113/128\n",
      "\u001b[1m1000/1000\u001b[0m \u001b[32m━━━━━━━━━━━━━━━━━━━━\u001b[0m\u001b[37m\u001b[0m \u001b[1m6s\u001b[0m 6ms/step - loss: 2192.8257 - mean_absolute_error: 2192.8257 - mean_absolute_percentage_error: 10.5612 - val_loss: 2777.4797 - val_mean_absolute_error: 2777.4797 - val_mean_absolute_percentage_error: 12.3697\n",
      "Epoch 114/128\n",
      "\u001b[1m1000/1000\u001b[0m \u001b[32m━━━━━━━━━━━━━━━━━━━━\u001b[0m\u001b[37m\u001b[0m \u001b[1m7s\u001b[0m 7ms/step - loss: 2220.8794 - mean_absolute_error: 2220.8794 - mean_absolute_percentage_error: 10.5982 - val_loss: 2807.0242 - val_mean_absolute_error: 2807.0242 - val_mean_absolute_percentage_error: 12.5466\n",
      "Epoch 115/128\n",
      "\u001b[1m1000/1000\u001b[0m \u001b[32m━━━━━━━━━━━━━━━━━━━━\u001b[0m\u001b[37m\u001b[0m \u001b[1m7s\u001b[0m 7ms/step - loss: 2215.4221 - mean_absolute_error: 2215.4221 - mean_absolute_percentage_error: 10.5786 - val_loss: 2889.5623 - val_mean_absolute_error: 2889.5623 - val_mean_absolute_percentage_error: 12.7588\n",
      "Epoch 116/128\n",
      "\u001b[1m1000/1000\u001b[0m \u001b[32m━━━━━━━━━━━━━━━━━━━━\u001b[0m\u001b[37m\u001b[0m \u001b[1m7s\u001b[0m 7ms/step - loss: 2192.2244 - mean_absolute_error: 2192.2244 - mean_absolute_percentage_error: 10.7862 - val_loss: 2752.9045 - val_mean_absolute_error: 2752.9045 - val_mean_absolute_percentage_error: 12.2719\n",
      "Epoch 117/128\n",
      "\u001b[1m1000/1000\u001b[0m \u001b[32m━━━━━━━━━━━━━━━━━━━━\u001b[0m\u001b[37m\u001b[0m \u001b[1m7s\u001b[0m 6ms/step - loss: 2306.6360 - mean_absolute_error: 2306.6360 - mean_absolute_percentage_error: 10.8495 - val_loss: 2788.9158 - val_mean_absolute_error: 2788.9158 - val_mean_absolute_percentage_error: 12.3851\n",
      "Epoch 118/128\n",
      "\u001b[1m1000/1000\u001b[0m \u001b[32m━━━━━━━━━━━━━━━━━━━━\u001b[0m\u001b[37m\u001b[0m \u001b[1m7s\u001b[0m 7ms/step - loss: 2201.8066 - mean_absolute_error: 2201.8066 - mean_absolute_percentage_error: 10.4173 - val_loss: 2767.4639 - val_mean_absolute_error: 2767.4639 - val_mean_absolute_percentage_error: 12.2523\n",
      "Epoch 119/128\n",
      "\u001b[1m1000/1000\u001b[0m \u001b[32m━━━━━━━━━━━━━━━━━━━━\u001b[0m\u001b[37m\u001b[0m \u001b[1m6s\u001b[0m 6ms/step - loss: 2166.4072 - mean_absolute_error: 2166.4072 - mean_absolute_percentage_error: 10.4318 - val_loss: 2932.3149 - val_mean_absolute_error: 2932.3149 - val_mean_absolute_percentage_error: 15.4497\n",
      "Epoch 120/128\n",
      "\u001b[1m1000/1000\u001b[0m \u001b[32m━━━━━━━━━━━━━━━━━━━━\u001b[0m\u001b[37m\u001b[0m \u001b[1m6s\u001b[0m 6ms/step - loss: 2186.8445 - mean_absolute_error: 2186.8445 - mean_absolute_percentage_error: 10.6904 - val_loss: 2808.7600 - val_mean_absolute_error: 2808.7600 - val_mean_absolute_percentage_error: 12.2930\n",
      "Epoch 121/128\n",
      "\u001b[1m1000/1000\u001b[0m \u001b[32m━━━━━━━━━━━━━━━━━━━━\u001b[0m\u001b[37m\u001b[0m \u001b[1m7s\u001b[0m 7ms/step - loss: 2188.3662 - mean_absolute_error: 2188.3662 - mean_absolute_percentage_error: 10.4074 - val_loss: 2795.7556 - val_mean_absolute_error: 2795.7556 - val_mean_absolute_percentage_error: 12.2631\n",
      "Epoch 122/128\n",
      "\u001b[1m1000/1000\u001b[0m \u001b[32m━━━━━━━━━━━━━━━━━━━━\u001b[0m\u001b[37m\u001b[0m \u001b[1m7s\u001b[0m 7ms/step - loss: 2183.9062 - mean_absolute_error: 2183.9062 - mean_absolute_percentage_error: 10.6047 - val_loss: 2781.9817 - val_mean_absolute_error: 2781.9817 - val_mean_absolute_percentage_error: 12.2965\n",
      "Epoch 123/128\n",
      "\u001b[1m1000/1000\u001b[0m \u001b[32m━━━━━━━━━━━━━━━━━━━━\u001b[0m\u001b[37m\u001b[0m \u001b[1m7s\u001b[0m 7ms/step - loss: 2261.0540 - mean_absolute_error: 2261.0540 - mean_absolute_percentage_error: 10.7773 - val_loss: 2749.1252 - val_mean_absolute_error: 2749.1252 - val_mean_absolute_percentage_error: 12.2121\n",
      "Epoch 124/128\n",
      "\u001b[1m1000/1000\u001b[0m \u001b[32m━━━━━━━━━━━━━━━━━━━━\u001b[0m\u001b[37m\u001b[0m \u001b[1m6s\u001b[0m 6ms/step - loss: 2220.7339 - mean_absolute_error: 2220.7339 - mean_absolute_percentage_error: 10.5949 - val_loss: 2795.6184 - val_mean_absolute_error: 2795.6184 - val_mean_absolute_percentage_error: 12.2423\n",
      "Epoch 125/128\n",
      "\u001b[1m1000/1000\u001b[0m \u001b[32m━━━━━━━━━━━━━━━━━━━━\u001b[0m\u001b[37m\u001b[0m \u001b[1m6s\u001b[0m 6ms/step - loss: 2229.5359 - mean_absolute_error: 2229.5359 - mean_absolute_percentage_error: 10.5013 - val_loss: 2859.0686 - val_mean_absolute_error: 2859.0686 - val_mean_absolute_percentage_error: 13.1239\n",
      "Epoch 126/128\n",
      "\u001b[1m1000/1000\u001b[0m \u001b[32m━━━━━━━━━━━━━━━━━━━━\u001b[0m\u001b[37m\u001b[0m \u001b[1m6s\u001b[0m 6ms/step - loss: 2162.0911 - mean_absolute_error: 2162.0911 - mean_absolute_percentage_error: 10.4148 - val_loss: 2779.0159 - val_mean_absolute_error: 2779.0159 - val_mean_absolute_percentage_error: 12.1389\n",
      "Epoch 127/128\n",
      "\u001b[1m1000/1000\u001b[0m \u001b[32m━━━━━━━━━━━━━━━━━━━━\u001b[0m\u001b[37m\u001b[0m \u001b[1m6s\u001b[0m 6ms/step - loss: 2160.7988 - mean_absolute_error: 2160.7988 - mean_absolute_percentage_error: 10.5900 - val_loss: 2757.8760 - val_mean_absolute_error: 2757.8760 - val_mean_absolute_percentage_error: 12.2586\n",
      "Epoch 128/128\n",
      "\u001b[1m1000/1000\u001b[0m \u001b[32m━━━━━━━━━━━━━━━━━━━━\u001b[0m\u001b[37m\u001b[0m \u001b[1m6s\u001b[0m 6ms/step - loss: 2138.9832 - mean_absolute_error: 2138.9832 - mean_absolute_percentage_error: 10.3894 - val_loss: 2793.6245 - val_mean_absolute_error: 2793.6245 - val_mean_absolute_percentage_error: 12.9873\n",
      "TERMINA EL ENTRENAMIENTO...\n"
     ]
    }
   ],
   "source": [
    "# Train the model\n",
    "print(\"COMIENZA EL ENTRENAMIENTO...\")\n",
    "history = model.fit([train_data, train_km], train_prices,\n",
    "          validation_data=([test_data, test_km], test_prices),\n",
    "          epochs=128, batch_size=32)\n",
    "print(\"TERMINA EL ENTRENAMIENTO...\")"
   ]
  },
  {
   "cell_type": "code",
   "execution_count": 30,
   "metadata": {},
   "outputs": [
    {
     "data": {
      "text/plain": [
       "[<matplotlib.lines.Line2D at 0x73a101f90110>]"
      ]
     },
     "execution_count": 30,
     "metadata": {},
     "output_type": "execute_result"
    },
    {
     "data": {
      "image/png": "[encoded data removed]",
      "text/plain": [
       "<Figure size 640x480 with 1 Axes>"
      ]
     },
     "metadata": {},
     "output_type": "display_data"
    }
   ],
   "source": [
    "plt.xlabel(\"# Epoca\")\n",
    "plt.ylabel(\"Loss magnitude\")\n",
    "plt.plot(history.history[\"loss\"])"
   ]
  },
  {
   "cell_type": "code",
   "execution_count": 32,
   "metadata": {},
   "outputs": [
    {
     "name": "stdout",
     "output_type": "stream",
     "text": [
      "\u001b[1m 34/250\u001b[0m \u001b[32m━━\u001b[0m\u001b[37m━━━━━━━━━━━━━━━━━━\u001b[0m \u001b[1m0s\u001b[0m 3ms/step"
     ]
    },
    {
     "name": "stderr",
     "output_type": "stream",
     "text": [
      "/home/lingfeng/Desktop/tensorflow/lib/python3.12/site-packages/keras/src/models/functional.py:225: UserWarning: The structure of `inputs` doesn't match the expected structure: ['keras_tensor', 'km_input']. Received: the structure of inputs=('*', '*')\n",
      "  warnings.warn(\n"
     ]
    },
    {
     "name": "stdout",
     "output_type": "stream",
     "text": [
      "\u001b[1m250/250\u001b[0m \u001b[32m━━━━━━━━━━━━━━━━━━━━\u001b[0m\u001b[37m\u001b[0m \u001b[1m1s\u001b[0m 3ms/step\n",
      "        Actual Price  Predicted Price        km\n",
      "idx                                            \n",
      "63552        16200.0     18615.005859   99999.0\n",
      "123771       65900.0     50581.660156   63800.0\n",
      "128011       21500.0     22131.556641       0.0\n",
      "119993       12600.0     13932.817383   50191.0\n",
      "65724        10999.0     11200.119141  122279.0\n"
     ]
    }
   ],
   "source": [
    "predicted_prices = model.predict([test_data, test_km])\n",
    "\n",
    "# Assuming test_prices is a 1D array, we can convert it to a DataFrame\n",
    "results_df = pd.DataFrame({\n",
    "    'Actual Price': test_prices,\n",
    "    'Predicted Price': predicted_prices.flatten(),  # Flatten in case it's a 2D array\n",
    "    'km' : test_km\n",
    "})\n",
    "\n",
    "# Display the first few rows of the DataFrame\n",
    "print(results_df.head())"
   ]
  }
 ],
 "metadata": {
  "kernelspec": {
   "display_name": "tensorflow",
   "language": "python",
   "name": "python3"
  },
  "language_info": {
   "codemirror_mode": {
    "name": "ipython",
    "version": 3
   },
   "file_extension": ".py",
   "mimetype": "text/x-python",
   "name": "python",
   "nbconvert_exporter": "python",
   "pygments_lexer": "ipython3",
   "version": "3.12.3"
  }
 },
 "nbformat": 4,
 "nbformat_minor": 2
}
