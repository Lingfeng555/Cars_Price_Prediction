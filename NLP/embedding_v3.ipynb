{
 "cells": [
  {
   "cell_type": "code",
   "execution_count": 1,
   "metadata": {},
   "outputs": [
    {
     "name": "stderr",
     "output_type": "stream",
     "text": [
      "2024-11-04 10:12:17.173082: I tensorflow/core/util/port.cc:153] oneDNN custom operations are on. You may see slightly different numerical results due to floating-point round-off errors from different computation orders. To turn them off, set the environment variable `TF_ENABLE_ONEDNN_OPTS=0`.\n",
      "2024-11-04 10:12:17.184979: E external/local_xla/xla/stream_executor/cuda/cuda_fft.cc:485] Unable to register cuFFT factory: Attempting to register factory for plugin cuFFT when one has already been registered\n",
      "2024-11-04 10:12:17.197977: E external/local_xla/xla/stream_executor/cuda/cuda_dnn.cc:8454] Unable to register cuDNN factory: Attempting to register factory for plugin cuDNN when one has already been registered\n",
      "2024-11-04 10:12:17.203136: E external/local_xla/xla/stream_executor/cuda/cuda_blas.cc:1452] Unable to register cuBLAS factory: Attempting to register factory for plugin cuBLAS when one has already been registered\n",
      "2024-11-04 10:12:17.214726: I tensorflow/core/platform/cpu_feature_guard.cc:210] This TensorFlow binary is optimized to use available CPU instructions in performance-critical operations.\n",
      "To enable the following instructions: AVX2 AVX512F AVX512_VNNI FMA, in other operations, rebuild TensorFlow with the appropriate compiler flags.\n",
      "2024-11-04 10:12:18.231316: W tensorflow/compiler/tf2tensorrt/utils/py_utils.cc:38] TF-TRT Warning: Could not find TensorRT\n",
      "[nltk_data] Downloading package stopwords to\n",
      "[nltk_data]     /home/lingfeng/nltk_data...\n",
      "[nltk_data]   Package stopwords is already up-to-date!\n",
      "WARNING: All log messages before absl::InitializeLog() is called are written to STDERR\n",
      "I0000 00:00:1730711540.223734    6124 cuda_executor.cc:1015] successful NUMA node read from SysFS had negative value (-1), but there must be at least one NUMA node, so returning NUMA node zero. See more at https://github.com/torvalds/linux/blob/v6.0/Documentation/ABI/testing/sysfs-bus-pci#L344-L355\n"
     ]
    },
    {
     "name": "stdout",
     "output_type": "stream",
     "text": [
      "¿GPU disponible?: [PhysicalDevice(name='/physical_device:GPU:0', device_type='GPU')]\n"
     ]
    },
    {
     "name": "stderr",
     "output_type": "stream",
     "text": [
      "I0000 00:00:1730711540.256226    6124 cuda_executor.cc:1015] successful NUMA node read from SysFS had negative value (-1), but there must be at least one NUMA node, so returning NUMA node zero. See more at https://github.com/torvalds/linux/blob/v6.0/Documentation/ABI/testing/sysfs-bus-pci#L344-L355\n",
      "I0000 00:00:1730711540.256411    6124 cuda_executor.cc:1015] successful NUMA node read from SysFS had negative value (-1), but there must be at least one NUMA node, so returning NUMA node zero. See more at https://github.com/torvalds/linux/blob/v6.0/Documentation/ABI/testing/sysfs-bus-pci#L344-L355\n"
     ]
    }
   ],
   "source": [
    "import sys\n",
    "sys.path.insert(1, '../') \n",
    "from utils.loader import Loader\n",
    "import tensorflow as tf\n",
    "import pandas as pd\n",
    "import numpy as np\n",
    "from gensim.models import Word2Vec\n",
    "import re\n",
    "from sklearn.model_selection import train_test_split\n",
    "from sklearn.preprocessing import StandardScaler\n",
    "from tensorflow.keras.models import Sequential, Model\n",
    "from tensorflow.keras.layers import Dense, Dropout, Embedding, Flatten, Input, Concatenate, BatchNormalization, LSTM\n",
    "from tensorflow.keras import regularizers\n",
    "from tensorflow.keras.preprocessing.text import Tokenizer\n",
    "from tensorflow.keras.preprocessing.sequence import pad_sequences\n",
    "import nltk\n",
    "from nltk.corpus import stopwords\n",
    "import matplotlib.pyplot as plt\n",
    "\n",
    "# Descargar la lista de stopwords si no está ya descargada\n",
    "nltk.download('stopwords')\n",
    "\n",
    "# Cargar las stopwords en español\n",
    "spanish_stopwords = set(stopwords.words('spanish'))\n",
    "\n",
    "\n",
    "print(\"¿GPU disponible?:\", tf.config.list_physical_devices('GPU'))"
   ]
  },
  {
   "cell_type": "code",
   "execution_count": 2,
   "metadata": {},
   "outputs": [
    {
     "name": "stderr",
     "output_type": "stream",
     "text": [
      "/home/lingfeng/Desktop/repos/Cars_Price_Prediction/NLP/../utils/loader.py:153: DtypeWarning: Columns (120) have mixed types. Specify dtype option on import or set low_memory=False.\n",
      "  df = pd.read_csv(file_path,\n",
      "/home/lingfeng/Desktop/repos/Cars_Price_Prediction/NLP/../utils/loader.py:153: DtypeWarning: Columns (120) have mixed types. Specify dtype option on import or set low_memory=False.\n",
      "  df = pd.read_csv(file_path,\n",
      "/home/lingfeng/Desktop/repos/Cars_Price_Prediction/NLP/../utils/loader.py:165: FutureWarning: A value is trying to be set on a copy of a DataFrame or Series through chained assignment using an inplace method.\n",
      "The behavior will change in pandas 3.0. This inplace method will never work because the intermediate object on which we are setting values always behaves as a copy.\n",
      "\n",
      "For example, when doing 'df[col].method(value, inplace=True)', try using 'df.method({col: value}, inplace=True)' or df[col] = df[col].method(value) instead, to perform the operation inplace on the original object.\n",
      "\n",
      "\n",
      "  merged_df[\"km\"].fillna(0, inplace=True)\n"
     ]
    }
   ],
   "source": [
    "train = Loader.load_NLP()[:40000]"
   ]
  },
  {
   "cell_type": "code",
   "execution_count": 3,
   "metadata": {},
   "outputs": [
    {
     "name": "stdout",
     "output_type": "stream",
     "text": [
      "['motor_description', 'transmission_description', 'parking_sensors_description', 'Exterior_Llantas_description', 'Exterior_Molduras_description', 'Exterior_Neumáticos_description', 'Exterior_Puerta_description', 'Exterior_Retrovisor_description', 'Confort_Volante_description', 'seat_description', 'head_supporter_description']\n"
     ]
    }
   ],
   "source": [
    "descriptions = [col for col in train.columns if \"description\" in col]\n",
    "\n",
    "print(descriptions)\n",
    "\n",
    "def custom_concat(row, cols):\n",
    "    # Construir la descripción con lógica condicional basada en el valor de la celda\n",
    "    parts = []\n",
    "    for col_name in cols:  # Cambio para iterar solo sobre las columnas especificadas\n",
    "        if col_name in row.index:  # Verificar que el nombre de la columna esté en el DataFrame\n",
    "            value = row[col_name]\n",
    "            if value == \"no tiene\" or not isinstance(value, str):\n",
    "                parts.append(f\"no tiene {col_name}\")\n",
    "            else:\n",
    "                parts.append(str(value))  # Convertir a string para evitar problemas al unir\n",
    "    # Unir todas las partes con espacios\n",
    "    return ' '.join(parts)\n",
    "\n",
    "# Aplicar la función al DataFrame\n",
    "train['full_description'] = train.apply(custom_concat, axis=1, args=(descriptions,))\n",
    "#train[descriptions].apply(lambda col: col.apply(lambda x: type(x).__name__).value_counts())\n",
    "\n",
    "#descriptions.append(\"idx\")\n",
    "#descriptions.append(\"price\")\n",
    "#descriptions.append(\"km\")"
   ]
  },
  {
   "cell_type": "code",
   "execution_count": 4,
   "metadata": {},
   "outputs": [
    {
     "data": {
      "text/html": [
       "<div>\n",
       "<style scoped>\n",
       "    .dataframe tbody tr th:only-of-type {\n",
       "        vertical-align: middle;\n",
       "    }\n",
       "\n",
       "    .dataframe tbody tr th {\n",
       "        vertical-align: top;\n",
       "    }\n",
       "\n",
       "    .dataframe thead th {\n",
       "        text-align: right;\n",
       "    }\n",
       "</style>\n",
       "<table border=\"1\" class=\"dataframe\">\n",
       "  <thead>\n",
       "    <tr style=\"text-align: right;\">\n",
       "      <th></th>\n",
       "      <th>price</th>\n",
       "      <th>km</th>\n",
       "      <th>fuelType</th>\n",
       "      <th>full_description</th>\n",
       "    </tr>\n",
       "    <tr>\n",
       "      <th>idx</th>\n",
       "      <th></th>\n",
       "      <th></th>\n",
       "      <th></th>\n",
       "      <th></th>\n",
       "    </tr>\n",
       "  </thead>\n",
       "  <tbody>\n",
       "    <tr>\n",
       "      <th>47257</th>\n",
       "      <td>8490</td>\n",
       "      <td>82801.0</td>\n",
       "      <td>Diésel</td>\n",
       "      <td>Motor de 1,5 litros ( 1.461 cc ) , 4 cilindros...</td>\n",
       "    </tr>\n",
       "    <tr>\n",
       "      <th>47258</th>\n",
       "      <td>51000</td>\n",
       "      <td>112000.0</td>\n",
       "      <td>Diésel</td>\n",
       "      <td>Motor de 2,0 litros ( 1.950 cc ) , cuatro cili...</td>\n",
       "    </tr>\n",
       "    <tr>\n",
       "      <th>47259</th>\n",
       "      <td>11950</td>\n",
       "      <td>223700.0</td>\n",
       "      <td>Diésel</td>\n",
       "      <td>Motor de 2,7 litros ( 2.720 cc ) , 6 cilindros...</td>\n",
       "    </tr>\n",
       "    <tr>\n",
       "      <th>47260</th>\n",
       "      <td>17000</td>\n",
       "      <td>150000.0</td>\n",
       "      <td>Diésel</td>\n",
       "      <td>Motor de 2,0 litros ( 1.999 cc ) , cuatro cili...</td>\n",
       "    </tr>\n",
       "    <tr>\n",
       "      <th>47261</th>\n",
       "      <td>21990</td>\n",
       "      <td>130000.0</td>\n",
       "      <td>Gasolina</td>\n",
       "      <td>Motor de 2,0 litros ( 1.984 cc ) , cuatro cili...</td>\n",
       "    </tr>\n",
       "    <tr>\n",
       "      <th>...</th>\n",
       "      <td>...</td>\n",
       "      <td>...</td>\n",
       "      <td>...</td>\n",
       "      <td>...</td>\n",
       "    </tr>\n",
       "    <tr>\n",
       "      <th>134622</th>\n",
       "      <td>27900</td>\n",
       "      <td>156000.0</td>\n",
       "      <td>Diésel</td>\n",
       "      <td>Motor de 2,0 litros ( 1.968 cc ) , cuatro cili...</td>\n",
       "    </tr>\n",
       "    <tr>\n",
       "      <th>134623</th>\n",
       "      <td>38900</td>\n",
       "      <td>12454.0</td>\n",
       "      <td>Híbrido</td>\n",
       "      <td>Motor de 1,2 litros ( 1.199 cc ) , tres cilind...</td>\n",
       "    </tr>\n",
       "    <tr>\n",
       "      <th>134624</th>\n",
       "      <td>36750</td>\n",
       "      <td>20602.0</td>\n",
       "      <td>Gasolina</td>\n",
       "      <td>Motor de 1,5 litros ( 1.498 cc ) , cuatro cili...</td>\n",
       "    </tr>\n",
       "    <tr>\n",
       "      <th>134625</th>\n",
       "      <td>25840</td>\n",
       "      <td>0.0</td>\n",
       "      <td>Gasolina</td>\n",
       "      <td>Motor de 1,0 litros ( 999 cc ) , tres cilindro...</td>\n",
       "    </tr>\n",
       "    <tr>\n",
       "      <th>134626</th>\n",
       "      <td>28900</td>\n",
       "      <td>24000.0</td>\n",
       "      <td>Híbrido</td>\n",
       "      <td>Motor de 2,0 litros ( 1.998 cc ) , cuatro cili...</td>\n",
       "    </tr>\n",
       "  </tbody>\n",
       "</table>\n",
       "<p>40000 rows × 4 columns</p>\n",
       "</div>"
      ],
      "text/plain": [
       "        price        km  fuelType  \\\n",
       "idx                                 \n",
       "47257    8490   82801.0    Diésel   \n",
       "47258   51000  112000.0    Diésel   \n",
       "47259   11950  223700.0    Diésel   \n",
       "47260   17000  150000.0    Diésel   \n",
       "47261   21990  130000.0  Gasolina   \n",
       "...       ...       ...       ...   \n",
       "134622  27900  156000.0    Diésel   \n",
       "134623  38900   12454.0   Híbrido   \n",
       "134624  36750   20602.0  Gasolina   \n",
       "134625  25840       0.0  Gasolina   \n",
       "134626  28900   24000.0   Híbrido   \n",
       "\n",
       "                                         full_description  \n",
       "idx                                                        \n",
       "47257   Motor de 1,5 litros ( 1.461 cc ) , 4 cilindros...  \n",
       "47258   Motor de 2,0 litros ( 1.950 cc ) , cuatro cili...  \n",
       "47259   Motor de 2,7 litros ( 2.720 cc ) , 6 cilindros...  \n",
       "47260   Motor de 2,0 litros ( 1.999 cc ) , cuatro cili...  \n",
       "47261   Motor de 2,0 litros ( 1.984 cc ) , cuatro cili...  \n",
       "...                                                   ...  \n",
       "134622  Motor de 2,0 litros ( 1.968 cc ) , cuatro cili...  \n",
       "134623  Motor de 1,2 litros ( 1.199 cc ) , tres cilind...  \n",
       "134624  Motor de 1,5 litros ( 1.498 cc ) , cuatro cili...  \n",
       "134625  Motor de 1,0 litros ( 999 cc ) , tres cilindro...  \n",
       "134626  Motor de 2,0 litros ( 1.998 cc ) , cuatro cili...  \n",
       "\n",
       "[40000 rows x 4 columns]"
      ]
     },
     "execution_count": 4,
     "metadata": {},
     "output_type": "execute_result"
    }
   ],
   "source": [
    "filtered_columns = [\"price\", \"km\", \"fuelType\", \"full_description\"]\n",
    "train = train[filtered_columns]\n",
    "train.dropna(inplace=True)\n",
    "train"
   ]
  },
  {
   "cell_type": "code",
   "execution_count": 5,
   "metadata": {},
   "outputs": [],
   "source": [
    "#Parameters\n",
    "verb_size = 150"
   ]
  },
  {
   "cell_type": "code",
   "execution_count": 6,
   "metadata": {},
   "outputs": [],
   "source": [
    "def preprocess_text(text):\n",
    "    # Convertir a minúsculas y eliminar caracteres especiales (pero mantener los números)\n",
    "    text = text.lower()\n",
    "    text = re.sub(r'[^\\w\\s\\d]', '', text)  # Eliminar signos de puntuación, pero mantener números\n",
    "    tokens = text.split()\n",
    "    \n",
    "    # Filtrar tokens, eliminando las stopwords\n",
    "    filtered_tokens = [token for token in tokens if token not in spanish_stopwords]\n",
    "    \n",
    "    return filtered_tokens\n",
    "\n",
    "train['tokens'] = train['full_description'].apply(preprocess_text)\n",
    "model_w2v = Word2Vec(sentences=train['tokens'], vector_size=verb_size, window=1, min_count=3, workers=8)\n",
    "word_vectors = model_w2v.wv\n",
    "\n",
    "def get_average_embedding(tokens, model):\n",
    "    embeddings = [model[word] for word in tokens if word in model]\n",
    "    if embeddings:\n",
    "        return np.mean(embeddings, axis=0)\n",
    "    else:\n",
    "        return np.zeros(model.vector_size) \n",
    "train['embedding'] = train['tokens'].apply(lambda x: get_average_embedding(x, word_vectors))"
   ]
  },
  {
   "cell_type": "code",
   "execution_count": 8,
   "metadata": {},
   "outputs": [],
   "source": [
    "# Load data (assuming df is your DataFrame containing the required columns)\n",
    "texts = train['full_description'].values  # descriptions\n",
    "embeddings = train['embedding'].values  # embeddings\n",
    "\n",
    "# Tokenization and sequence padding\n",
    "tokenizer = Tokenizer(num_words=verb_size)\n",
    "tokenizer.fit_on_texts(texts)\n",
    "sequences = tokenizer.texts_to_sequences(texts)\n",
    "data = pad_sequences(sequences,  maxlen=verb_size, padding='post')"
   ]
  },
  {
   "cell_type": "code",
   "execution_count": 9,
   "metadata": {},
   "outputs": [],
   "source": [
    "# Split data into training and testing sets\n",
    "train_data, test_data, train_embeddings, test_embeddings, train_prices, test_prices, train_km, test_km = train_test_split(\n",
    "    data, embeddings, train['price'], train['km'], test_size=0.2, random_state=42, stratify=train['fuelType'])\n",
    "\n",
    "# Normalize embeddings\n",
    "train_embeddings = tf.keras.utils.normalize(train_embeddings)\n",
    "test_embeddings = tf.keras.utils.normalize(test_embeddings)\n",
    "train_embeddings = np.transpose(train_embeddings)\n",
    "test_embeddings = np.transpose(test_embeddings)"
   ]
  },
  {
   "cell_type": "code",
   "execution_count": 10,
   "metadata": {},
   "outputs": [
    {
     "name": "stdout",
     "output_type": "stream",
     "text": [
      "(8000,)\n",
      "(40000,)\n",
      "(32000,)\n",
      "(8000,)\n"
     ]
    }
   ],
   "source": [
    "print(test_prices.shape)\n",
    "print(train['km'].shape)\n",
    "print(train_km.shape)\n",
    "print(test_km.shape)"
   ]
  },
  {
   "cell_type": "code",
   "execution_count": 11,
   "metadata": {},
   "outputs": [],
   "source": [
    "def process_embedding(embed):\n",
    "    standard_length = verb_size\n",
    "    flat_embed = np.concatenate([np.array(e).flatten() for e in embed])  # Flatten\n",
    "    # Pad with zeros or truncate to the standard length\n",
    "    if len(flat_embed) > standard_length:\n",
    "        return flat_embed[:standard_length]\n",
    "    elif len(flat_embed) < standard_length:\n",
    "        return np.pad(flat_embed, (0, standard_length - len(flat_embed)), mode='constant')\n",
    "    return flat_embed"
   ]
  },
  {
   "cell_type": "code",
   "execution_count": 12,
   "metadata": {},
   "outputs": [
    {
     "name": "stderr",
     "output_type": "stream",
     "text": [
      "I0000 00:00:1730711595.325652    6124 cuda_executor.cc:1015] successful NUMA node read from SysFS had negative value (-1), but there must be at least one NUMA node, so returning NUMA node zero. See more at https://github.com/torvalds/linux/blob/v6.0/Documentation/ABI/testing/sysfs-bus-pci#L344-L355\n",
      "I0000 00:00:1730711595.325868    6124 cuda_executor.cc:1015] successful NUMA node read from SysFS had negative value (-1), but there must be at least one NUMA node, so returning NUMA node zero. See more at https://github.com/torvalds/linux/blob/v6.0/Documentation/ABI/testing/sysfs-bus-pci#L344-L355\n",
      "I0000 00:00:1730711595.325950    6124 cuda_executor.cc:1015] successful NUMA node read from SysFS had negative value (-1), but there must be at least one NUMA node, so returning NUMA node zero. See more at https://github.com/torvalds/linux/blob/v6.0/Documentation/ABI/testing/sysfs-bus-pci#L344-L355\n",
      "I0000 00:00:1730711595.382835    6124 cuda_executor.cc:1015] successful NUMA node read from SysFS had negative value (-1), but there must be at least one NUMA node, so returning NUMA node zero. See more at https://github.com/torvalds/linux/blob/v6.0/Documentation/ABI/testing/sysfs-bus-pci#L344-L355\n",
      "I0000 00:00:1730711595.382998    6124 cuda_executor.cc:1015] successful NUMA node read from SysFS had negative value (-1), but there must be at least one NUMA node, so returning NUMA node zero. See more at https://github.com/torvalds/linux/blob/v6.0/Documentation/ABI/testing/sysfs-bus-pci#L344-L355\n",
      "I0000 00:00:1730711595.383086    6124 cuda_executor.cc:1015] successful NUMA node read from SysFS had negative value (-1), but there must be at least one NUMA node, so returning NUMA node zero. See more at https://github.com/torvalds/linux/blob/v6.0/Documentation/ABI/testing/sysfs-bus-pci#L344-L355\n",
      "2024-11-04 10:13:15.383168: I tensorflow/core/common_runtime/gpu/gpu_device.cc:2021] Created device /job:localhost/replica:0/task:0/device:GPU:0 with 2279 MB memory:  -> device: 0, name: NVIDIA GeForce RTX 3050 Laptop GPU, pci bus id: 0000:01:00.0, compute capability: 8.6\n"
     ]
    }
   ],
   "source": [
    "train_embeddings = np.array([process_embedding(e) for e in train_embeddings], dtype=np.float32)\n",
    "train_embeddings = tf.convert_to_tensor(train_embeddings, dtype=tf.float32)"
   ]
  },
  {
   "cell_type": "code",
   "execution_count": 13,
   "metadata": {},
   "outputs": [],
   "source": [
    "test_embeddings = np.array([process_embedding(e) for e in test_embeddings], dtype=np.float32)\n",
    "test_embeddings = tf.convert_to_tensor(test_embeddings, dtype=tf.float32)"
   ]
  },
  {
   "cell_type": "code",
   "execution_count": 14,
   "metadata": {},
   "outputs": [],
   "source": [
    "train_data = tf.convert_to_tensor(train_data, dtype=tf.int32)\n",
    "test_data = tf.convert_to_tensor(test_data, dtype=tf.int32)"
   ]
  },
  {
   "cell_type": "code",
   "execution_count": 15,
   "metadata": {},
   "outputs": [],
   "source": [
    "train_prices = tf.convert_to_tensor(train_prices, dtype=tf.float32)\n",
    "test_prices = tf.convert_to_tensor(test_prices, dtype=tf.float32)"
   ]
  },
  {
   "cell_type": "code",
   "execution_count": 16,
   "metadata": {},
   "outputs": [],
   "source": [
    "train_km = tf.convert_to_tensor(train_km, dtype=tf.float32)\n",
    "train_km = tf.convert_to_tensor(train_km, dtype=tf.float32)"
   ]
  },
  {
   "cell_type": "code",
   "execution_count": 17,
   "metadata": {},
   "outputs": [
    {
     "data": {
      "text/plain": [
       "TensorShape([32000, 150])"
      ]
     },
     "execution_count": 17,
     "metadata": {},
     "output_type": "execute_result"
    }
   ],
   "source": [
    "train_data.shape"
   ]
  },
  {
   "cell_type": "code",
   "execution_count": 18,
   "metadata": {},
   "outputs": [
    {
     "name": "stderr",
     "output_type": "stream",
     "text": [
      "/home/lingfeng/Desktop/tensorflow/lib/python3.12/site-packages/keras/src/layers/core/embedding.py:90: UserWarning: Argument `input_length` is deprecated. Just remove it.\n",
      "  warnings.warn(\n"
     ]
    }
   ],
   "source": [
    "# Text input branch\n",
    "text_input = Input(shape=(train_data.shape[1],), dtype='int32')\n",
    "text_embed_layer = Embedding(input_dim=verb_size, output_dim=verb_size, input_length=train_data.shape[1])\n",
    "text_embed = text_embed_layer(text_input)\n",
    "lstm_out = LSTM(128)(text_embed)"
   ]
  },
  {
   "cell_type": "code",
   "execution_count": 19,
   "metadata": {},
   "outputs": [
    {
     "data": {
      "text/html": [
       "<pre style=\"white-space:pre;overflow-x:auto;line-height:normal;font-family:Menlo,'DejaVu Sans Mono',consolas,'Courier New',monospace\"><span style=\"font-weight: bold\">Model: \"functional\"</span>\n",
       "</pre>\n"
      ],
      "text/plain": [
       "\u001b[1mModel: \"functional\"\u001b[0m\n"
      ]
     },
     "metadata": {},
     "output_type": "display_data"
    },
    {
     "data": {
      "text/html": [
       "<pre style=\"white-space:pre;overflow-x:auto;line-height:normal;font-family:Menlo,'DejaVu Sans Mono',consolas,'Courier New',monospace\">┏━━━━━━━━━━━━━━━━━━━━━┳━━━━━━━━━━━━━━━━━━━┳━━━━━━━━━━━━┳━━━━━━━━━━━━━━━━━━━┓\n",
       "┃<span style=\"font-weight: bold\"> Layer (type)        </span>┃<span style=\"font-weight: bold\"> Output Shape      </span>┃<span style=\"font-weight: bold\">    Param # </span>┃<span style=\"font-weight: bold\"> Connected to      </span>┃\n",
       "┡━━━━━━━━━━━━━━━━━━━━━╇━━━━━━━━━━━━━━━━━━━╇━━━━━━━━━━━━╇━━━━━━━━━━━━━━━━━━━┩\n",
       "│ input_layer         │ (<span style=\"color: #00d7ff; text-decoration-color: #00d7ff\">None</span>, <span style=\"color: #00af00; text-decoration-color: #00af00\">150</span>)       │          <span style=\"color: #00af00; text-decoration-color: #00af00\">0</span> │ -                 │\n",
       "│ (<span style=\"color: #0087ff; text-decoration-color: #0087ff\">InputLayer</span>)        │                   │            │                   │\n",
       "├─────────────────────┼───────────────────┼────────────┼───────────────────┤\n",
       "│ embedding           │ (<span style=\"color: #00d7ff; text-decoration-color: #00d7ff\">None</span>, <span style=\"color: #00af00; text-decoration-color: #00af00\">150</span>, <span style=\"color: #00af00; text-decoration-color: #00af00\">150</span>)  │     <span style=\"color: #00af00; text-decoration-color: #00af00\">22,500</span> │ input_layer[<span style=\"color: #00af00; text-decoration-color: #00af00\">0</span>][<span style=\"color: #00af00; text-decoration-color: #00af00\">0</span>] │\n",
       "│ (<span style=\"color: #0087ff; text-decoration-color: #0087ff\">Embedding</span>)         │                   │            │                   │\n",
       "├─────────────────────┼───────────────────┼────────────┼───────────────────┤\n",
       "│ input_layer_1       │ (<span style=\"color: #00d7ff; text-decoration-color: #00d7ff\">None</span>, <span style=\"color: #00af00; text-decoration-color: #00af00\">150</span>)       │          <span style=\"color: #00af00; text-decoration-color: #00af00\">0</span> │ -                 │\n",
       "│ (<span style=\"color: #0087ff; text-decoration-color: #0087ff\">InputLayer</span>)        │                   │            │                   │\n",
       "├─────────────────────┼───────────────────┼────────────┼───────────────────┤\n",
       "│ km_input            │ (<span style=\"color: #00d7ff; text-decoration-color: #00d7ff\">None</span>, <span style=\"color: #00af00; text-decoration-color: #00af00\">1</span>)         │          <span style=\"color: #00af00; text-decoration-color: #00af00\">0</span> │ -                 │\n",
       "│ (<span style=\"color: #0087ff; text-decoration-color: #0087ff\">InputLayer</span>)        │                   │            │                   │\n",
       "├─────────────────────┼───────────────────┼────────────┼───────────────────┤\n",
       "│ lstm (<span style=\"color: #0087ff; text-decoration-color: #0087ff\">LSTM</span>)         │ (<span style=\"color: #00d7ff; text-decoration-color: #00d7ff\">None</span>, <span style=\"color: #00af00; text-decoration-color: #00af00\">128</span>)       │    <span style=\"color: #00af00; text-decoration-color: #00af00\">142,848</span> │ embedding[<span style=\"color: #00af00; text-decoration-color: #00af00\">0</span>][<span style=\"color: #00af00; text-decoration-color: #00af00\">0</span>]   │\n",
       "├─────────────────────┼───────────────────┼────────────┼───────────────────┤\n",
       "│ dense (<span style=\"color: #0087ff; text-decoration-color: #0087ff\">Dense</span>)       │ (<span style=\"color: #00d7ff; text-decoration-color: #00d7ff\">None</span>, <span style=\"color: #00af00; text-decoration-color: #00af00\">128</span>)       │     <span style=\"color: #00af00; text-decoration-color: #00af00\">19,328</span> │ input_layer_1[<span style=\"color: #00af00; text-decoration-color: #00af00\">0</span>]… │\n",
       "├─────────────────────┼───────────────────┼────────────┼───────────────────┤\n",
       "│ dense_1 (<span style=\"color: #0087ff; text-decoration-color: #0087ff\">Dense</span>)     │ (<span style=\"color: #00d7ff; text-decoration-color: #00d7ff\">None</span>, <span style=\"color: #00af00; text-decoration-color: #00af00\">32</span>)        │         <span style=\"color: #00af00; text-decoration-color: #00af00\">64</span> │ km_input[<span style=\"color: #00af00; text-decoration-color: #00af00\">0</span>][<span style=\"color: #00af00; text-decoration-color: #00af00\">0</span>]    │\n",
       "├─────────────────────┼───────────────────┼────────────┼───────────────────┤\n",
       "│ concatenate         │ (<span style=\"color: #00d7ff; text-decoration-color: #00d7ff\">None</span>, <span style=\"color: #00af00; text-decoration-color: #00af00\">288</span>)       │          <span style=\"color: #00af00; text-decoration-color: #00af00\">0</span> │ lstm[<span style=\"color: #00af00; text-decoration-color: #00af00\">0</span>][<span style=\"color: #00af00; text-decoration-color: #00af00\">0</span>],       │\n",
       "│ (<span style=\"color: #0087ff; text-decoration-color: #0087ff\">Concatenate</span>)       │                   │            │ dense[<span style=\"color: #00af00; text-decoration-color: #00af00\">0</span>][<span style=\"color: #00af00; text-decoration-color: #00af00\">0</span>],      │\n",
       "│                     │                   │            │ dense_1[<span style=\"color: #00af00; text-decoration-color: #00af00\">0</span>][<span style=\"color: #00af00; text-decoration-color: #00af00\">0</span>]     │\n",
       "├─────────────────────┼───────────────────┼────────────┼───────────────────┤\n",
       "│ dense_2 (<span style=\"color: #0087ff; text-decoration-color: #0087ff\">Dense</span>)     │ (<span style=\"color: #00d7ff; text-decoration-color: #00d7ff\">None</span>, <span style=\"color: #00af00; text-decoration-color: #00af00\">256</span>)       │     <span style=\"color: #00af00; text-decoration-color: #00af00\">73,984</span> │ concatenate[<span style=\"color: #00af00; text-decoration-color: #00af00\">0</span>][<span style=\"color: #00af00; text-decoration-color: #00af00\">0</span>] │\n",
       "├─────────────────────┼───────────────────┼────────────┼───────────────────┤\n",
       "│ dense_3 (<span style=\"color: #0087ff; text-decoration-color: #0087ff\">Dense</span>)     │ (<span style=\"color: #00d7ff; text-decoration-color: #00d7ff\">None</span>, <span style=\"color: #00af00; text-decoration-color: #00af00\">1</span>)         │        <span style=\"color: #00af00; text-decoration-color: #00af00\">257</span> │ dense_2[<span style=\"color: #00af00; text-decoration-color: #00af00\">0</span>][<span style=\"color: #00af00; text-decoration-color: #00af00\">0</span>]     │\n",
       "└─────────────────────┴───────────────────┴────────────┴───────────────────┘\n",
       "</pre>\n"
      ],
      "text/plain": [
       "┏━━━━━━━━━━━━━━━━━━━━━┳━━━━━━━━━━━━━━━━━━━┳━━━━━━━━━━━━┳━━━━━━━━━━━━━━━━━━━┓\n",
       "┃\u001b[1m \u001b[0m\u001b[1mLayer (type)       \u001b[0m\u001b[1m \u001b[0m┃\u001b[1m \u001b[0m\u001b[1mOutput Shape     \u001b[0m\u001b[1m \u001b[0m┃\u001b[1m \u001b[0m\u001b[1m   Param #\u001b[0m\u001b[1m \u001b[0m┃\u001b[1m \u001b[0m\u001b[1mConnected to     \u001b[0m\u001b[1m \u001b[0m┃\n",
       "┡━━━━━━━━━━━━━━━━━━━━━╇━━━━━━━━━━━━━━━━━━━╇━━━━━━━━━━━━╇━━━━━━━━━━━━━━━━━━━┩\n",
       "│ input_layer         │ (\u001b[38;5;45mNone\u001b[0m, \u001b[38;5;34m150\u001b[0m)       │          \u001b[38;5;34m0\u001b[0m │ -                 │\n",
       "│ (\u001b[38;5;33mInputLayer\u001b[0m)        │                   │            │                   │\n",
       "├─────────────────────┼───────────────────┼────────────┼───────────────────┤\n",
       "│ embedding           │ (\u001b[38;5;45mNone\u001b[0m, \u001b[38;5;34m150\u001b[0m, \u001b[38;5;34m150\u001b[0m)  │     \u001b[38;5;34m22,500\u001b[0m │ input_layer[\u001b[38;5;34m0\u001b[0m][\u001b[38;5;34m0\u001b[0m] │\n",
       "│ (\u001b[38;5;33mEmbedding\u001b[0m)         │                   │            │                   │\n",
       "├─────────────────────┼───────────────────┼────────────┼───────────────────┤\n",
       "│ input_layer_1       │ (\u001b[38;5;45mNone\u001b[0m, \u001b[38;5;34m150\u001b[0m)       │          \u001b[38;5;34m0\u001b[0m │ -                 │\n",
       "│ (\u001b[38;5;33mInputLayer\u001b[0m)        │                   │            │                   │\n",
       "├─────────────────────┼───────────────────┼────────────┼───────────────────┤\n",
       "│ km_input            │ (\u001b[38;5;45mNone\u001b[0m, \u001b[38;5;34m1\u001b[0m)         │          \u001b[38;5;34m0\u001b[0m │ -                 │\n",
       "│ (\u001b[38;5;33mInputLayer\u001b[0m)        │                   │            │                   │\n",
       "├─────────────────────┼───────────────────┼────────────┼───────────────────┤\n",
       "│ lstm (\u001b[38;5;33mLSTM\u001b[0m)         │ (\u001b[38;5;45mNone\u001b[0m, \u001b[38;5;34m128\u001b[0m)       │    \u001b[38;5;34m142,848\u001b[0m │ embedding[\u001b[38;5;34m0\u001b[0m][\u001b[38;5;34m0\u001b[0m]   │\n",
       "├─────────────────────┼───────────────────┼────────────┼───────────────────┤\n",
       "│ dense (\u001b[38;5;33mDense\u001b[0m)       │ (\u001b[38;5;45mNone\u001b[0m, \u001b[38;5;34m128\u001b[0m)       │     \u001b[38;5;34m19,328\u001b[0m │ input_layer_1[\u001b[38;5;34m0\u001b[0m]… │\n",
       "├─────────────────────┼───────────────────┼────────────┼───────────────────┤\n",
       "│ dense_1 (\u001b[38;5;33mDense\u001b[0m)     │ (\u001b[38;5;45mNone\u001b[0m, \u001b[38;5;34m32\u001b[0m)        │         \u001b[38;5;34m64\u001b[0m │ km_input[\u001b[38;5;34m0\u001b[0m][\u001b[38;5;34m0\u001b[0m]    │\n",
       "├─────────────────────┼───────────────────┼────────────┼───────────────────┤\n",
       "│ concatenate         │ (\u001b[38;5;45mNone\u001b[0m, \u001b[38;5;34m288\u001b[0m)       │          \u001b[38;5;34m0\u001b[0m │ lstm[\u001b[38;5;34m0\u001b[0m][\u001b[38;5;34m0\u001b[0m],       │\n",
       "│ (\u001b[38;5;33mConcatenate\u001b[0m)       │                   │            │ dense[\u001b[38;5;34m0\u001b[0m][\u001b[38;5;34m0\u001b[0m],      │\n",
       "│                     │                   │            │ dense_1[\u001b[38;5;34m0\u001b[0m][\u001b[38;5;34m0\u001b[0m]     │\n",
       "├─────────────────────┼───────────────────┼────────────┼───────────────────┤\n",
       "│ dense_2 (\u001b[38;5;33mDense\u001b[0m)     │ (\u001b[38;5;45mNone\u001b[0m, \u001b[38;5;34m256\u001b[0m)       │     \u001b[38;5;34m73,984\u001b[0m │ concatenate[\u001b[38;5;34m0\u001b[0m][\u001b[38;5;34m0\u001b[0m] │\n",
       "├─────────────────────┼───────────────────┼────────────┼───────────────────┤\n",
       "│ dense_3 (\u001b[38;5;33mDense\u001b[0m)     │ (\u001b[38;5;45mNone\u001b[0m, \u001b[38;5;34m1\u001b[0m)         │        \u001b[38;5;34m257\u001b[0m │ dense_2[\u001b[38;5;34m0\u001b[0m][\u001b[38;5;34m0\u001b[0m]     │\n",
       "└─────────────────────┴───────────────────┴────────────┴───────────────────┘\n"
      ]
     },
     "metadata": {},
     "output_type": "display_data"
    },
    {
     "data": {
      "text/html": [
       "<pre style=\"white-space:pre;overflow-x:auto;line-height:normal;font-family:Menlo,'DejaVu Sans Mono',consolas,'Courier New',monospace\"><span style=\"font-weight: bold\"> Total params: </span><span style=\"color: #00af00; text-decoration-color: #00af00\">258,981</span> (1011.64 KB)\n",
       "</pre>\n"
      ],
      "text/plain": [
       "\u001b[1m Total params: \u001b[0m\u001b[38;5;34m258,981\u001b[0m (1011.64 KB)\n"
      ]
     },
     "metadata": {},
     "output_type": "display_data"
    },
    {
     "data": {
      "text/html": [
       "<pre style=\"white-space:pre;overflow-x:auto;line-height:normal;font-family:Menlo,'DejaVu Sans Mono',consolas,'Courier New',monospace\"><span style=\"font-weight: bold\"> Trainable params: </span><span style=\"color: #00af00; text-decoration-color: #00af00\">258,981</span> (1011.64 KB)\n",
       "</pre>\n"
      ],
      "text/plain": [
       "\u001b[1m Trainable params: \u001b[0m\u001b[38;5;34m258,981\u001b[0m (1011.64 KB)\n"
      ]
     },
     "metadata": {},
     "output_type": "display_data"
    },
    {
     "data": {
      "text/html": [
       "<pre style=\"white-space:pre;overflow-x:auto;line-height:normal;font-family:Menlo,'DejaVu Sans Mono',consolas,'Courier New',monospace\"><span style=\"font-weight: bold\"> Non-trainable params: </span><span style=\"color: #00af00; text-decoration-color: #00af00\">0</span> (0.00 B)\n",
       "</pre>\n"
      ],
      "text/plain": [
       "\u001b[1m Non-trainable params: \u001b[0m\u001b[38;5;34m0\u001b[0m (0.00 B)\n"
      ]
     },
     "metadata": {},
     "output_type": "display_data"
    }
   ],
   "source": [
    "# Embedding input branch\n",
    "embed_input = Input(shape=(train_embeddings.shape[1],), dtype = 'int32')\n",
    "dense_embed = Dense(128, activation='relu')(embed_input)\n",
    "\n",
    "# KM branch\n",
    "input_km = Input(shape=(1,), name='km_input')\n",
    "km_processed = Dense(32, activation='linear')(input_km)\n",
    "\n",
    "# Concatenate both branches\n",
    "concat = Concatenate()([lstm_out, dense_embed, km_processed])\n",
    "hidden = Dense(256, activation='relu')(concat)\n",
    "output = Dense(1, activation='linear')(hidden)  # Output layer for price prediction\n",
    "\n",
    "model = Model(inputs=[text_input, embed_input, input_km], outputs=output)\n",
    "model.summary()"
   ]
  },
  {
   "cell_type": "code",
   "execution_count": 20,
   "metadata": {},
   "outputs": [
    {
     "name": "stdout",
     "output_type": "stream",
     "text": [
      "(32000, 150)\n",
      "(32000, 150)\n",
      "(32000,)\n"
     ]
    }
   ],
   "source": [
    "print(train_data.shape)      # Should be (number of samples, sequence length)\n",
    "print(train_embeddings.shape)\n",
    "print(train_km.shape)"
   ]
  },
  {
   "cell_type": "code",
   "execution_count": 21,
   "metadata": {},
   "outputs": [],
   "source": [
    "optimizer = tf.keras.optimizers.Adam(learning_rate=0.001)\n",
    "model.compile(optimizer=optimizer, loss='mean_absolute_error', metrics=['mean_absolute_error', \"mean_absolute_percentage_error\"])"
   ]
  },
  {
   "cell_type": "code",
   "execution_count": 22,
   "metadata": {},
   "outputs": [
    {
     "name": "stdout",
     "output_type": "stream",
     "text": [
      "COMIENZA EL ENTRENAMIENTO...\n",
      "Epoch 1/128\n"
     ]
    },
    {
     "name": "stderr",
     "output_type": "stream",
     "text": [
      "/home/lingfeng/Desktop/tensorflow/lib/python3.12/site-packages/keras/src/models/functional.py:225: UserWarning: The structure of `inputs` doesn't match the expected structure: ['keras_tensor', 'keras_tensor_3', 'km_input']. Received: the structure of inputs=('*', '*', '*')\n",
      "  warnings.warn(\n"
     ]
    },
    {
     "name": "stdout",
     "output_type": "stream",
     "text": [
      "\u001b[1m   2/1000\u001b[0m \u001b[37m━━━━━━━━━━━━━━━━━━━━\u001b[0m \u001b[1m9s\u001b[0m 9ms/step - loss: 24307.4668 - mean_absolute_error: 24307.4668 - mean_absolute_percentage_error: 100.3689  "
     ]
    },
    {
     "name": "stderr",
     "output_type": "stream",
     "text": [
      "2024-11-04 10:13:19.626688: I external/local_xla/xla/stream_executor/cuda/cuda_dnn.cc:531] Loaded cuDNN version 8907\n"
     ]
    },
    {
     "name": "stdout",
     "output_type": "stream",
     "text": [
      "\u001b[1m 993/1000\u001b[0m \u001b[32m━━━━━━━━━━━━━━━━━━━\u001b[0m\u001b[37m━\u001b[0m \u001b[1m0s\u001b[0m 6ms/step - loss: 18300.9160 - mean_absolute_error: 18300.9160 - mean_absolute_percentage_error: 96.1455"
     ]
    },
    {
     "name": "stderr",
     "output_type": "stream",
     "text": [
      "/home/lingfeng/Desktop/tensorflow/lib/python3.12/site-packages/keras/src/models/functional.py:225: UserWarning: The structure of `inputs` doesn't match the expected structure: ['keras_tensor', 'keras_tensor_3', 'km_input']. Received: the structure of inputs=('*', '*', '*')\n",
      "  warnings.warn(\n"
     ]
    },
    {
     "name": "stdout",
     "output_type": "stream",
     "text": [
      "\u001b[1m1000/1000\u001b[0m \u001b[32m━━━━━━━━━━━━━━━━━━━━\u001b[0m\u001b[37m\u001b[0m \u001b[1m9s\u001b[0m 7ms/step - loss: 18299.6289 - mean_absolute_error: 18299.6289 - mean_absolute_percentage_error: 96.1291 - val_loss: 16885.2637 - val_mean_absolute_error: 16885.2637 - val_mean_absolute_percentage_error: 71.9595\n",
      "Epoch 2/128\n",
      "\u001b[1m1000/1000\u001b[0m \u001b[32m━━━━━━━━━━━━━━━━━━━━\u001b[0m\u001b[37m\u001b[0m \u001b[1m7s\u001b[0m 7ms/step - loss: 15895.3516 - mean_absolute_error: 15895.3516 - mean_absolute_percentage_error: 79.7844 - val_loss: 10526.2363 - val_mean_absolute_error: 10526.2363 - val_mean_absolute_percentage_error: 46.4088\n",
      "Epoch 3/128\n",
      "\u001b[1m1000/1000\u001b[0m \u001b[32m━━━━━━━━━━━━━━━━━━━━\u001b[0m\u001b[37m\u001b[0m \u001b[1m7s\u001b[0m 7ms/step - loss: 10183.7949 - mean_absolute_error: 10183.7949 - mean_absolute_percentage_error: 46.8617 - val_loss: 9440.4150 - val_mean_absolute_error: 9440.4150 - val_mean_absolute_percentage_error: 38.1216\n",
      "Epoch 4/128\n",
      "\u001b[1m1000/1000\u001b[0m \u001b[32m━━━━━━━━━━━━━━━━━━━━\u001b[0m\u001b[37m\u001b[0m \u001b[1m7s\u001b[0m 7ms/step - loss: 8723.9873 - mean_absolute_error: 8723.9873 - mean_absolute_percentage_error: 39.6756 - val_loss: 7084.3550 - val_mean_absolute_error: 7084.3550 - val_mean_absolute_percentage_error: 25.4190\n",
      "Epoch 5/128\n",
      "\u001b[1m1000/1000\u001b[0m \u001b[32m━━━━━━━━━━━━━━━━━━━━\u001b[0m\u001b[37m\u001b[0m \u001b[1m7s\u001b[0m 7ms/step - loss: 7064.9062 - mean_absolute_error: 7064.9062 - mean_absolute_percentage_error: 28.4712 - val_loss: 6479.4375 - val_mean_absolute_error: 6479.4375 - val_mean_absolute_percentage_error: 24.5476\n",
      "Epoch 6/128\n",
      "\u001b[1m1000/1000\u001b[0m \u001b[32m━━━━━━━━━━━━━━━━━━━━\u001b[0m\u001b[37m\u001b[0m \u001b[1m7s\u001b[0m 7ms/step - loss: 6415.8979 - mean_absolute_error: 6415.8979 - mean_absolute_percentage_error: 26.1141 - val_loss: 5857.3970 - val_mean_absolute_error: 5857.3970 - val_mean_absolute_percentage_error: 22.0413\n",
      "Epoch 7/128\n",
      "\u001b[1m1000/1000\u001b[0m \u001b[32m━━━━━━━━━━━━━━━━━━━━\u001b[0m\u001b[37m\u001b[0m \u001b[1m7s\u001b[0m 7ms/step - loss: 5777.6934 - mean_absolute_error: 5777.6934 - mean_absolute_percentage_error: 23.3351 - val_loss: 5600.7749 - val_mean_absolute_error: 5600.7749 - val_mean_absolute_percentage_error: 21.1518\n",
      "Epoch 8/128\n",
      "\u001b[1m1000/1000\u001b[0m \u001b[32m━━━━━━━━━━━━━━━━━━━━\u001b[0m\u001b[37m\u001b[0m \u001b[1m7s\u001b[0m 7ms/step - loss: 5642.0430 - mean_absolute_error: 5642.0430 - mean_absolute_percentage_error: 22.4171 - val_loss: 5202.1875 - val_mean_absolute_error: 5202.1875 - val_mean_absolute_percentage_error: 20.4109\n",
      "Epoch 9/128\n",
      "\u001b[1m1000/1000\u001b[0m \u001b[32m━━━━━━━━━━━━━━━━━━━━\u001b[0m\u001b[37m\u001b[0m \u001b[1m7s\u001b[0m 7ms/step - loss: 5221.5034 - mean_absolute_error: 5221.5034 - mean_absolute_percentage_error: 21.6991 - val_loss: 5148.2646 - val_mean_absolute_error: 5148.2646 - val_mean_absolute_percentage_error: 19.7813\n",
      "Epoch 10/128\n",
      "\u001b[1m1000/1000\u001b[0m \u001b[32m━━━━━━━━━━━━━━━━━━━━\u001b[0m\u001b[37m\u001b[0m \u001b[1m7s\u001b[0m 7ms/step - loss: 5114.9858 - mean_absolute_error: 5114.9858 - mean_absolute_percentage_error: 20.7819 - val_loss: 4869.5288 - val_mean_absolute_error: 4869.5288 - val_mean_absolute_percentage_error: 18.5865\n",
      "Epoch 11/128\n",
      "\u001b[1m1000/1000\u001b[0m \u001b[32m━━━━━━━━━━━━━━━━━━━━\u001b[0m\u001b[37m\u001b[0m \u001b[1m7s\u001b[0m 7ms/step - loss: 4753.4878 - mean_absolute_error: 4753.4878 - mean_absolute_percentage_error: 20.2749 - val_loss: 4838.8843 - val_mean_absolute_error: 4838.8843 - val_mean_absolute_percentage_error: 18.8926\n",
      "Epoch 12/128\n",
      "\u001b[1m1000/1000\u001b[0m \u001b[32m━━━━━━━━━━━━━━━━━━━━\u001b[0m\u001b[37m\u001b[0m \u001b[1m7s\u001b[0m 7ms/step - loss: 4721.8237 - mean_absolute_error: 4721.8237 - mean_absolute_percentage_error: 19.9270 - val_loss: 4574.2563 - val_mean_absolute_error: 4574.2563 - val_mean_absolute_percentage_error: 17.7785\n",
      "Epoch 13/128\n",
      "\u001b[1m1000/1000\u001b[0m \u001b[32m━━━━━━━━━━━━━━━━━━━━\u001b[0m\u001b[37m\u001b[0m \u001b[1m7s\u001b[0m 7ms/step - loss: 4608.2114 - mean_absolute_error: 4608.2114 - mean_absolute_percentage_error: 19.0632 - val_loss: 4613.0752 - val_mean_absolute_error: 4613.0752 - val_mean_absolute_percentage_error: 17.0874\n",
      "Epoch 14/128\n",
      "\u001b[1m1000/1000\u001b[0m \u001b[32m━━━━━━━━━━━━━━━━━━━━\u001b[0m\u001b[37m\u001b[0m \u001b[1m7s\u001b[0m 7ms/step - loss: 4481.2041 - mean_absolute_error: 4481.2041 - mean_absolute_percentage_error: 18.3043 - val_loss: 4451.7710 - val_mean_absolute_error: 4451.7710 - val_mean_absolute_percentage_error: 17.8643\n",
      "Epoch 15/128\n",
      "\u001b[1m1000/1000\u001b[0m \u001b[32m━━━━━━━━━━━━━━━━━━━━\u001b[0m\u001b[37m\u001b[0m \u001b[1m7s\u001b[0m 7ms/step - loss: 4237.2129 - mean_absolute_error: 4237.2129 - mean_absolute_percentage_error: 17.9766 - val_loss: 4156.6987 - val_mean_absolute_error: 4156.6987 - val_mean_absolute_percentage_error: 16.4005\n",
      "Epoch 16/128\n",
      "\u001b[1m1000/1000\u001b[0m \u001b[32m━━━━━━━━━━━━━━━━━━━━\u001b[0m\u001b[37m\u001b[0m \u001b[1m7s\u001b[0m 7ms/step - loss: 4047.7266 - mean_absolute_error: 4047.7266 - mean_absolute_percentage_error: 17.2118 - val_loss: 4228.0308 - val_mean_absolute_error: 4228.0308 - val_mean_absolute_percentage_error: 17.1174\n",
      "Epoch 17/128\n",
      "\u001b[1m1000/1000\u001b[0m \u001b[32m━━━━━━━━━━━━━━━━━━━━\u001b[0m\u001b[37m\u001b[0m \u001b[1m7s\u001b[0m 7ms/step - loss: 4012.4163 - mean_absolute_error: 4012.4163 - mean_absolute_percentage_error: 17.0072 - val_loss: 4035.7920 - val_mean_absolute_error: 4035.7920 - val_mean_absolute_percentage_error: 16.7549\n",
      "Epoch 18/128\n",
      "\u001b[1m1000/1000\u001b[0m \u001b[32m━━━━━━━━━━━━━━━━━━━━\u001b[0m\u001b[37m\u001b[0m \u001b[1m7s\u001b[0m 7ms/step - loss: 3998.0032 - mean_absolute_error: 3998.0032 - mean_absolute_percentage_error: 16.9134 - val_loss: 3983.8877 - val_mean_absolute_error: 3983.8877 - val_mean_absolute_percentage_error: 15.6687\n",
      "Epoch 19/128\n",
      "\u001b[1m1000/1000\u001b[0m \u001b[32m━━━━━━━━━━━━━━━━━━━━\u001b[0m\u001b[37m\u001b[0m \u001b[1m7s\u001b[0m 7ms/step - loss: 3857.3862 - mean_absolute_error: 3857.3862 - mean_absolute_percentage_error: 16.5131 - val_loss: 4081.5222 - val_mean_absolute_error: 4081.5222 - val_mean_absolute_percentage_error: 16.6694\n",
      "Epoch 20/128\n",
      "\u001b[1m1000/1000\u001b[0m \u001b[32m━━━━━━━━━━━━━━━━━━━━\u001b[0m\u001b[37m\u001b[0m \u001b[1m7s\u001b[0m 7ms/step - loss: 3903.4287 - mean_absolute_error: 3903.4287 - mean_absolute_percentage_error: 16.0248 - val_loss: 3826.2036 - val_mean_absolute_error: 3826.2036 - val_mean_absolute_percentage_error: 16.3963\n",
      "Epoch 21/128\n",
      "\u001b[1m1000/1000\u001b[0m \u001b[32m━━━━━━━━━━━━━━━━━━━━\u001b[0m\u001b[37m\u001b[0m \u001b[1m7s\u001b[0m 7ms/step - loss: 3745.9368 - mean_absolute_error: 3745.9368 - mean_absolute_percentage_error: 16.0644 - val_loss: 3812.9480 - val_mean_absolute_error: 3812.9480 - val_mean_absolute_percentage_error: 15.9296\n",
      "Epoch 22/128\n",
      "\u001b[1m1000/1000\u001b[0m \u001b[32m━━━━━━━━━━━━━━━━━━━━\u001b[0m\u001b[37m\u001b[0m \u001b[1m7s\u001b[0m 7ms/step - loss: 3608.0474 - mean_absolute_error: 3608.0474 - mean_absolute_percentage_error: 15.5615 - val_loss: 3699.6335 - val_mean_absolute_error: 3699.6335 - val_mean_absolute_percentage_error: 15.3084\n",
      "Epoch 23/128\n",
      "\u001b[1m1000/1000\u001b[0m \u001b[32m━━━━━━━━━━━━━━━━━━━━\u001b[0m\u001b[37m\u001b[0m \u001b[1m7s\u001b[0m 7ms/step - loss: 3617.5396 - mean_absolute_error: 3617.5396 - mean_absolute_percentage_error: 15.4772 - val_loss: 3711.4888 - val_mean_absolute_error: 3711.4888 - val_mean_absolute_percentage_error: 14.9919\n",
      "Epoch 24/128\n",
      "\u001b[1m1000/1000\u001b[0m \u001b[32m━━━━━━━━━━━━━━━━━━━━\u001b[0m\u001b[37m\u001b[0m \u001b[1m7s\u001b[0m 7ms/step - loss: 3473.1807 - mean_absolute_error: 3473.1807 - mean_absolute_percentage_error: 14.9404 - val_loss: 3624.4963 - val_mean_absolute_error: 3624.4963 - val_mean_absolute_percentage_error: 15.2786\n",
      "Epoch 25/128\n",
      "\u001b[1m1000/1000\u001b[0m \u001b[32m━━━━━━━━━━━━━━━━━━━━\u001b[0m\u001b[37m\u001b[0m \u001b[1m7s\u001b[0m 7ms/step - loss: 3456.7090 - mean_absolute_error: 3456.7090 - mean_absolute_percentage_error: 14.9197 - val_loss: 3868.0562 - val_mean_absolute_error: 3868.0562 - val_mean_absolute_percentage_error: 17.5407\n",
      "Epoch 26/128\n",
      "\u001b[1m1000/1000\u001b[0m \u001b[32m━━━━━━━━━━━━━━━━━━━━\u001b[0m\u001b[37m\u001b[0m \u001b[1m7s\u001b[0m 7ms/step - loss: 3465.1331 - mean_absolute_error: 3465.1331 - mean_absolute_percentage_error: 14.7700 - val_loss: 3630.6968 - val_mean_absolute_error: 3630.6968 - val_mean_absolute_percentage_error: 14.7688\n",
      "Epoch 27/128\n",
      "\u001b[1m1000/1000\u001b[0m \u001b[32m━━━━━━━━━━━━━━━━━━━━\u001b[0m\u001b[37m\u001b[0m \u001b[1m7s\u001b[0m 7ms/step - loss: 3309.7747 - mean_absolute_error: 3309.7747 - mean_absolute_percentage_error: 14.5230 - val_loss: 3551.7646 - val_mean_absolute_error: 3551.7646 - val_mean_absolute_percentage_error: 15.8389\n",
      "Epoch 28/128\n",
      "\u001b[1m1000/1000\u001b[0m \u001b[32m━━━━━━━━━━━━━━━━━━━━\u001b[0m\u001b[37m\u001b[0m \u001b[1m7s\u001b[0m 7ms/step - loss: 3352.2014 - mean_absolute_error: 3352.2014 - mean_absolute_percentage_error: 14.4536 - val_loss: 3482.6838 - val_mean_absolute_error: 3482.6838 - val_mean_absolute_percentage_error: 14.8246\n",
      "Epoch 29/128\n",
      "\u001b[1m1000/1000\u001b[0m \u001b[32m━━━━━━━━━━━━━━━━━━━━\u001b[0m\u001b[37m\u001b[0m \u001b[1m7s\u001b[0m 7ms/step - loss: 3373.2424 - mean_absolute_error: 3373.2424 - mean_absolute_percentage_error: 14.2532 - val_loss: 3557.0696 - val_mean_absolute_error: 3557.0696 - val_mean_absolute_percentage_error: 14.6754\n",
      "Epoch 30/128\n",
      "\u001b[1m1000/1000\u001b[0m \u001b[32m━━━━━━━━━━━━━━━━━━━━\u001b[0m\u001b[37m\u001b[0m \u001b[1m7s\u001b[0m 7ms/step - loss: 3301.7573 - mean_absolute_error: 3301.7573 - mean_absolute_percentage_error: 14.0637 - val_loss: 3538.7964 - val_mean_absolute_error: 3538.7964 - val_mean_absolute_percentage_error: 14.4130\n",
      "Epoch 31/128\n",
      "\u001b[1m1000/1000\u001b[0m \u001b[32m━━━━━━━━━━━━━━━━━━━━\u001b[0m\u001b[37m\u001b[0m \u001b[1m7s\u001b[0m 7ms/step - loss: 3096.6631 - mean_absolute_error: 3096.6631 - mean_absolute_percentage_error: 13.9316 - val_loss: 3500.7595 - val_mean_absolute_error: 3500.7595 - val_mean_absolute_percentage_error: 14.5492\n",
      "Epoch 32/128\n",
      "\u001b[1m1000/1000\u001b[0m \u001b[32m━━━━━━━━━━━━━━━━━━━━\u001b[0m\u001b[37m\u001b[0m \u001b[1m7s\u001b[0m 7ms/step - loss: 3095.3625 - mean_absolute_error: 3095.3625 - mean_absolute_percentage_error: 13.9626 - val_loss: 3283.2893 - val_mean_absolute_error: 3283.2893 - val_mean_absolute_percentage_error: 14.0005\n",
      "Epoch 33/128\n",
      "\u001b[1m1000/1000\u001b[0m \u001b[32m━━━━━━━━━━━━━━━━━━━━\u001b[0m\u001b[37m\u001b[0m \u001b[1m7s\u001b[0m 7ms/step - loss: 3084.5715 - mean_absolute_error: 3084.5715 - mean_absolute_percentage_error: 13.5913 - val_loss: 3304.2317 - val_mean_absolute_error: 3304.2317 - val_mean_absolute_percentage_error: 14.5887\n",
      "Epoch 34/128\n",
      "\u001b[1m1000/1000\u001b[0m \u001b[32m━━━━━━━━━━━━━━━━━━━━\u001b[0m\u001b[37m\u001b[0m \u001b[1m7s\u001b[0m 7ms/step - loss: 3101.5078 - mean_absolute_error: 3101.5078 - mean_absolute_percentage_error: 13.7510 - val_loss: 3527.6106 - val_mean_absolute_error: 3527.6106 - val_mean_absolute_percentage_error: 14.5694\n",
      "Epoch 35/128\n",
      "\u001b[1m1000/1000\u001b[0m \u001b[32m━━━━━━━━━━━━━━━━━━━━\u001b[0m\u001b[37m\u001b[0m \u001b[1m7s\u001b[0m 7ms/step - loss: 3109.9998 - mean_absolute_error: 3109.9998 - mean_absolute_percentage_error: 13.6759 - val_loss: 3387.6350 - val_mean_absolute_error: 3387.6350 - val_mean_absolute_percentage_error: 13.8196\n",
      "Epoch 36/128\n",
      "\u001b[1m1000/1000\u001b[0m \u001b[32m━━━━━━━━━━━━━━━━━━━━\u001b[0m\u001b[37m\u001b[0m \u001b[1m7s\u001b[0m 7ms/step - loss: 2972.8687 - mean_absolute_error: 2972.8687 - mean_absolute_percentage_error: 13.4476 - val_loss: 3297.7383 - val_mean_absolute_error: 3297.7383 - val_mean_absolute_percentage_error: 14.0572\n",
      "Epoch 37/128\n",
      "\u001b[1m1000/1000\u001b[0m \u001b[32m━━━━━━━━━━━━━━━━━━━━\u001b[0m\u001b[37m\u001b[0m \u001b[1m7s\u001b[0m 7ms/step - loss: 2982.5720 - mean_absolute_error: 2982.5720 - mean_absolute_percentage_error: 13.4506 - val_loss: 3321.1252 - val_mean_absolute_error: 3321.1252 - val_mean_absolute_percentage_error: 13.6433\n",
      "Epoch 38/128\n",
      "\u001b[1m1000/1000\u001b[0m \u001b[32m━━━━━━━━━━━━━━━━━━━━\u001b[0m\u001b[37m\u001b[0m \u001b[1m7s\u001b[0m 7ms/step - loss: 3042.5715 - mean_absolute_error: 3042.5715 - mean_absolute_percentage_error: 13.4343 - val_loss: 3237.3767 - val_mean_absolute_error: 3237.3767 - val_mean_absolute_percentage_error: 14.1211\n",
      "Epoch 39/128\n",
      "\u001b[1m1000/1000\u001b[0m \u001b[32m━━━━━━━━━━━━━━━━━━━━\u001b[0m\u001b[37m\u001b[0m \u001b[1m7s\u001b[0m 7ms/step - loss: 2867.3347 - mean_absolute_error: 2867.3347 - mean_absolute_percentage_error: 13.1403 - val_loss: 3224.9341 - val_mean_absolute_error: 3224.9341 - val_mean_absolute_percentage_error: 13.7774\n",
      "Epoch 40/128\n",
      "\u001b[1m1000/1000\u001b[0m \u001b[32m━━━━━━━━━━━━━━━━━━━━\u001b[0m\u001b[37m\u001b[0m \u001b[1m7s\u001b[0m 7ms/step - loss: 2906.9302 - mean_absolute_error: 2906.9302 - mean_absolute_percentage_error: 12.9903 - val_loss: 3202.5459 - val_mean_absolute_error: 3202.5459 - val_mean_absolute_percentage_error: 13.9752\n",
      "Epoch 41/128\n",
      "\u001b[1m1000/1000\u001b[0m \u001b[32m━━━━━━━━━━━━━━━━━━━━\u001b[0m\u001b[37m\u001b[0m \u001b[1m7s\u001b[0m 7ms/step - loss: 2902.4392 - mean_absolute_error: 2902.4392 - mean_absolute_percentage_error: 12.8060 - val_loss: 3173.5562 - val_mean_absolute_error: 3173.5562 - val_mean_absolute_percentage_error: 13.9741\n",
      "Epoch 42/128\n",
      "\u001b[1m1000/1000\u001b[0m \u001b[32m━━━━━━━━━━━━━━━━━━━━\u001b[0m\u001b[37m\u001b[0m \u001b[1m7s\u001b[0m 7ms/step - loss: 2851.2666 - mean_absolute_error: 2851.2666 - mean_absolute_percentage_error: 13.0399 - val_loss: 3214.8799 - val_mean_absolute_error: 3214.8799 - val_mean_absolute_percentage_error: 14.6808\n",
      "Epoch 43/128\n",
      "\u001b[1m1000/1000\u001b[0m \u001b[32m━━━━━━━━━━━━━━━━━━━━\u001b[0m\u001b[37m\u001b[0m \u001b[1m7s\u001b[0m 7ms/step - loss: 2969.2122 - mean_absolute_error: 2969.2122 - mean_absolute_percentage_error: 13.0044 - val_loss: 3168.5200 - val_mean_absolute_error: 3168.5200 - val_mean_absolute_percentage_error: 13.5818\n",
      "Epoch 44/128\n",
      "\u001b[1m1000/1000\u001b[0m \u001b[32m━━━━━━━━━━━━━━━━━━━━\u001b[0m\u001b[37m\u001b[0m \u001b[1m7s\u001b[0m 7ms/step - loss: 2835.9124 - mean_absolute_error: 2835.9124 - mean_absolute_percentage_error: 12.7053 - val_loss: 3257.5361 - val_mean_absolute_error: 3257.5361 - val_mean_absolute_percentage_error: 13.6525\n",
      "Epoch 45/128\n",
      "\u001b[1m1000/1000\u001b[0m \u001b[32m━━━━━━━━━━━━━━━━━━━━\u001b[0m\u001b[37m\u001b[0m \u001b[1m7s\u001b[0m 7ms/step - loss: 2709.7708 - mean_absolute_error: 2709.7708 - mean_absolute_percentage_error: 12.6223 - val_loss: 3213.2651 - val_mean_absolute_error: 3213.2651 - val_mean_absolute_percentage_error: 13.8571\n",
      "Epoch 46/128\n",
      "\u001b[1m1000/1000\u001b[0m \u001b[32m━━━━━━━━━━━━━━━━━━━━\u001b[0m\u001b[37m\u001b[0m \u001b[1m7s\u001b[0m 7ms/step - loss: 2781.7598 - mean_absolute_error: 2781.7598 - mean_absolute_percentage_error: 12.7257 - val_loss: 3149.9915 - val_mean_absolute_error: 3149.9915 - val_mean_absolute_percentage_error: 13.3540\n",
      "Epoch 47/128\n",
      "\u001b[1m1000/1000\u001b[0m \u001b[32m━━━━━━━━━━━━━━━━━━━━\u001b[0m\u001b[37m\u001b[0m \u001b[1m7s\u001b[0m 7ms/step - loss: 2782.4922 - mean_absolute_error: 2782.4922 - mean_absolute_percentage_error: 12.4638 - val_loss: 3094.3477 - val_mean_absolute_error: 3094.3477 - val_mean_absolute_percentage_error: 13.5894\n",
      "Epoch 48/128\n",
      "\u001b[1m1000/1000\u001b[0m \u001b[32m━━━━━━━━━━━━━━━━━━━━\u001b[0m\u001b[37m\u001b[0m \u001b[1m7s\u001b[0m 7ms/step - loss: 2731.4724 - mean_absolute_error: 2731.4724 - mean_absolute_percentage_error: 12.4072 - val_loss: 3170.1104 - val_mean_absolute_error: 3170.1104 - val_mean_absolute_percentage_error: 13.8605\n",
      "Epoch 49/128\n",
      "\u001b[1m1000/1000\u001b[0m \u001b[32m━━━━━━━━━━━━━━━━━━━━\u001b[0m\u001b[37m\u001b[0m \u001b[1m7s\u001b[0m 7ms/step - loss: 2685.9058 - mean_absolute_error: 2685.9058 - mean_absolute_percentage_error: 12.1663 - val_loss: 3215.6902 - val_mean_absolute_error: 3215.6902 - val_mean_absolute_percentage_error: 14.9149\n",
      "Epoch 50/128\n",
      "\u001b[1m1000/1000\u001b[0m \u001b[32m━━━━━━━━━━━━━━━━━━━━\u001b[0m\u001b[37m\u001b[0m \u001b[1m7s\u001b[0m 7ms/step - loss: 2730.5066 - mean_absolute_error: 2730.5066 - mean_absolute_percentage_error: 12.3063 - val_loss: 3259.2664 - val_mean_absolute_error: 3259.2664 - val_mean_absolute_percentage_error: 15.7763\n",
      "Epoch 51/128\n",
      "\u001b[1m1000/1000\u001b[0m \u001b[32m━━━━━━━━━━━━━━━━━━━━\u001b[0m\u001b[37m\u001b[0m \u001b[1m7s\u001b[0m 7ms/step - loss: 2700.2170 - mean_absolute_error: 2700.2170 - mean_absolute_percentage_error: 12.1827 - val_loss: 3085.4316 - val_mean_absolute_error: 3085.4316 - val_mean_absolute_percentage_error: 13.3110\n",
      "Epoch 52/128\n",
      "\u001b[1m1000/1000\u001b[0m \u001b[32m━━━━━━━━━━━━━━━━━━━━\u001b[0m\u001b[37m\u001b[0m \u001b[1m7s\u001b[0m 7ms/step - loss: 2729.9373 - mean_absolute_error: 2729.9373 - mean_absolute_percentage_error: 12.2797 - val_loss: 3053.9944 - val_mean_absolute_error: 3053.9944 - val_mean_absolute_percentage_error: 12.8774\n",
      "Epoch 53/128\n",
      "\u001b[1m1000/1000\u001b[0m \u001b[32m━━━━━━━━━━━━━━━━━━━━\u001b[0m\u001b[37m\u001b[0m \u001b[1m7s\u001b[0m 7ms/step - loss: 2645.4788 - mean_absolute_error: 2645.4788 - mean_absolute_percentage_error: 12.2490 - val_loss: 3013.3706 - val_mean_absolute_error: 3013.3706 - val_mean_absolute_percentage_error: 12.9725\n",
      "Epoch 54/128\n",
      "\u001b[1m1000/1000\u001b[0m \u001b[32m━━━━━━━━━━━━━━━━━━━━\u001b[0m\u001b[37m\u001b[0m \u001b[1m7s\u001b[0m 7ms/step - loss: 2633.7434 - mean_absolute_error: 2633.7434 - mean_absolute_percentage_error: 12.3511 - val_loss: 3265.6467 - val_mean_absolute_error: 3265.6467 - val_mean_absolute_percentage_error: 16.0942\n",
      "Epoch 55/128\n",
      "\u001b[1m1000/1000\u001b[0m \u001b[32m━━━━━━━━━━━━━━━━━━━━\u001b[0m\u001b[37m\u001b[0m \u001b[1m7s\u001b[0m 7ms/step - loss: 2658.4258 - mean_absolute_error: 2658.4258 - mean_absolute_percentage_error: 11.8710 - val_loss: 2995.9099 - val_mean_absolute_error: 2995.9099 - val_mean_absolute_percentage_error: 12.7494\n",
      "Epoch 56/128\n",
      "\u001b[1m1000/1000\u001b[0m \u001b[32m━━━━━━━━━━━━━━━━━━━━\u001b[0m\u001b[37m\u001b[0m \u001b[1m7s\u001b[0m 7ms/step - loss: 2617.0974 - mean_absolute_error: 2617.0974 - mean_absolute_percentage_error: 12.0000 - val_loss: 3000.0862 - val_mean_absolute_error: 3000.0862 - val_mean_absolute_percentage_error: 13.2013\n",
      "Epoch 57/128\n",
      "\u001b[1m1000/1000\u001b[0m \u001b[32m━━━━━━━━━━━━━━━━━━━━\u001b[0m\u001b[37m\u001b[0m \u001b[1m7s\u001b[0m 7ms/step - loss: 2625.3250 - mean_absolute_error: 2625.3250 - mean_absolute_percentage_error: 11.9658 - val_loss: 3007.2886 - val_mean_absolute_error: 3007.2886 - val_mean_absolute_percentage_error: 13.2822\n",
      "Epoch 58/128\n",
      "\u001b[1m1000/1000\u001b[0m \u001b[32m━━━━━━━━━━━━━━━━━━━━\u001b[0m\u001b[37m\u001b[0m \u001b[1m7s\u001b[0m 7ms/step - loss: 2590.7366 - mean_absolute_error: 2590.7366 - mean_absolute_percentage_error: 11.8776 - val_loss: 2994.3828 - val_mean_absolute_error: 2994.3828 - val_mean_absolute_percentage_error: 13.6101\n",
      "Epoch 59/128\n",
      "\u001b[1m1000/1000\u001b[0m \u001b[32m━━━━━━━━━━━━━━━━━━━━\u001b[0m\u001b[37m\u001b[0m \u001b[1m7s\u001b[0m 7ms/step - loss: 2598.3518 - mean_absolute_error: 2598.3518 - mean_absolute_percentage_error: 11.7093 - val_loss: 3032.6943 - val_mean_absolute_error: 3032.6943 - val_mean_absolute_percentage_error: 13.6189\n",
      "Epoch 60/128\n",
      "\u001b[1m1000/1000\u001b[0m \u001b[32m━━━━━━━━━━━━━━━━━━━━\u001b[0m\u001b[37m\u001b[0m \u001b[1m7s\u001b[0m 7ms/step - loss: 2553.2922 - mean_absolute_error: 2553.2922 - mean_absolute_percentage_error: 11.6369 - val_loss: 3086.5176 - val_mean_absolute_error: 3086.5176 - val_mean_absolute_percentage_error: 14.9794\n",
      "Epoch 61/128\n",
      "\u001b[1m1000/1000\u001b[0m \u001b[32m━━━━━━━━━━━━━━━━━━━━\u001b[0m\u001b[37m\u001b[0m \u001b[1m7s\u001b[0m 7ms/step - loss: 2625.5967 - mean_absolute_error: 2625.5967 - mean_absolute_percentage_error: 11.9292 - val_loss: 3010.6672 - val_mean_absolute_error: 3010.6672 - val_mean_absolute_percentage_error: 13.3823\n",
      "Epoch 62/128\n",
      "\u001b[1m1000/1000\u001b[0m \u001b[32m━━━━━━━━━━━━━━━━━━━━\u001b[0m\u001b[37m\u001b[0m \u001b[1m7s\u001b[0m 7ms/step - loss: 2625.3589 - mean_absolute_error: 2625.3589 - mean_absolute_percentage_error: 11.8957 - val_loss: 3031.2834 - val_mean_absolute_error: 3031.2834 - val_mean_absolute_percentage_error: 14.0390\n",
      "Epoch 63/128\n",
      "\u001b[1m1000/1000\u001b[0m \u001b[32m━━━━━━━━━━━━━━━━━━━━\u001b[0m\u001b[37m\u001b[0m \u001b[1m7s\u001b[0m 7ms/step - loss: 2589.0208 - mean_absolute_error: 2589.0208 - mean_absolute_percentage_error: 11.9135 - val_loss: 2992.9487 - val_mean_absolute_error: 2992.9487 - val_mean_absolute_percentage_error: 12.8746\n",
      "Epoch 64/128\n",
      "\u001b[1m1000/1000\u001b[0m \u001b[32m━━━━━━━━━━━━━━━━━━━━\u001b[0m\u001b[37m\u001b[0m \u001b[1m7s\u001b[0m 7ms/step - loss: 2548.9331 - mean_absolute_error: 2548.9331 - mean_absolute_percentage_error: 11.5088 - val_loss: 2955.0610 - val_mean_absolute_error: 2955.0610 - val_mean_absolute_percentage_error: 12.9501\n",
      "Epoch 65/128\n",
      "\u001b[1m1000/1000\u001b[0m \u001b[32m━━━━━━━━━━━━━━━━━━━━\u001b[0m\u001b[37m\u001b[0m \u001b[1m7s\u001b[0m 7ms/step - loss: 2505.2117 - mean_absolute_error: 2505.2117 - mean_absolute_percentage_error: 11.5341 - val_loss: 2959.3743 - val_mean_absolute_error: 2959.3743 - val_mean_absolute_percentage_error: 12.7927\n",
      "Epoch 66/128\n",
      "\u001b[1m1000/1000\u001b[0m \u001b[32m━━━━━━━━━━━━━━━━━━━━\u001b[0m\u001b[37m\u001b[0m \u001b[1m7s\u001b[0m 7ms/step - loss: 2476.8628 - mean_absolute_error: 2476.8628 - mean_absolute_percentage_error: 11.6739 - val_loss: 2998.5686 - val_mean_absolute_error: 2998.5686 - val_mean_absolute_percentage_error: 13.4254\n",
      "Epoch 67/128\n",
      "\u001b[1m1000/1000\u001b[0m \u001b[32m━━━━━━━━━━━━━━━━━━━━\u001b[0m\u001b[37m\u001b[0m \u001b[1m7s\u001b[0m 7ms/step - loss: 2524.0574 - mean_absolute_error: 2524.0574 - mean_absolute_percentage_error: 11.6581 - val_loss: 2972.8186 - val_mean_absolute_error: 2972.8186 - val_mean_absolute_percentage_error: 13.5934\n",
      "Epoch 68/128\n",
      "\u001b[1m1000/1000\u001b[0m \u001b[32m━━━━━━━━━━━━━━━━━━━━\u001b[0m\u001b[37m\u001b[0m \u001b[1m7s\u001b[0m 7ms/step - loss: 2487.1323 - mean_absolute_error: 2487.1323 - mean_absolute_percentage_error: 11.4119 - val_loss: 2945.8574 - val_mean_absolute_error: 2945.8574 - val_mean_absolute_percentage_error: 12.8088\n",
      "Epoch 69/128\n",
      "\u001b[1m1000/1000\u001b[0m \u001b[32m━━━━━━━━━━━━━━━━━━━━\u001b[0m\u001b[37m\u001b[0m \u001b[1m7s\u001b[0m 7ms/step - loss: 2459.0496 - mean_absolute_error: 2459.0496 - mean_absolute_percentage_error: 11.5580 - val_loss: 3005.1631 - val_mean_absolute_error: 3005.1631 - val_mean_absolute_percentage_error: 12.8955\n",
      "Epoch 70/128\n",
      "\u001b[1m1000/1000\u001b[0m \u001b[32m━━━━━━━━━━━━━━━━━━━━\u001b[0m\u001b[37m\u001b[0m \u001b[1m7s\u001b[0m 7ms/step - loss: 2466.0361 - mean_absolute_error: 2466.0361 - mean_absolute_percentage_error: 11.7212 - val_loss: 3004.0027 - val_mean_absolute_error: 3004.0027 - val_mean_absolute_percentage_error: 14.2693\n",
      "Epoch 71/128\n",
      "\u001b[1m1000/1000\u001b[0m \u001b[32m━━━━━━━━━━━━━━━━━━━━\u001b[0m\u001b[37m\u001b[0m \u001b[1m7s\u001b[0m 7ms/step - loss: 2464.9326 - mean_absolute_error: 2464.9326 - mean_absolute_percentage_error: 11.3126 - val_loss: 2997.1243 - val_mean_absolute_error: 2997.1243 - val_mean_absolute_percentage_error: 13.3125\n",
      "Epoch 72/128\n",
      "\u001b[1m1000/1000\u001b[0m \u001b[32m━━━━━━━━━━━━━━━━━━━━\u001b[0m\u001b[37m\u001b[0m \u001b[1m7s\u001b[0m 7ms/step - loss: 2519.5083 - mean_absolute_error: 2519.5083 - mean_absolute_percentage_error: 11.5223 - val_loss: 2918.7776 - val_mean_absolute_error: 2918.7776 - val_mean_absolute_percentage_error: 12.5891\n",
      "Epoch 73/128\n",
      "\u001b[1m1000/1000\u001b[0m \u001b[32m━━━━━━━━━━━━━━━━━━━━\u001b[0m\u001b[37m\u001b[0m \u001b[1m7s\u001b[0m 7ms/step - loss: 2446.4514 - mean_absolute_error: 2446.4514 - mean_absolute_percentage_error: 11.4504 - val_loss: 2987.1277 - val_mean_absolute_error: 2987.1277 - val_mean_absolute_percentage_error: 12.9454\n",
      "Epoch 74/128\n",
      "\u001b[1m1000/1000\u001b[0m \u001b[32m━━━━━━━━━━━━━━━━━━━━\u001b[0m\u001b[37m\u001b[0m \u001b[1m7s\u001b[0m 7ms/step - loss: 2458.3000 - mean_absolute_error: 2458.3000 - mean_absolute_percentage_error: 11.4939 - val_loss: 2983.3577 - val_mean_absolute_error: 2983.3577 - val_mean_absolute_percentage_error: 13.1186\n",
      "Epoch 75/128\n",
      "\u001b[1m1000/1000\u001b[0m \u001b[32m━━━━━━━━━━━━━━━━━━━━\u001b[0m\u001b[37m\u001b[0m \u001b[1m7s\u001b[0m 7ms/step - loss: 2407.0310 - mean_absolute_error: 2407.0310 - mean_absolute_percentage_error: 11.4553 - val_loss: 2891.2463 - val_mean_absolute_error: 2891.2463 - val_mean_absolute_percentage_error: 12.7788\n",
      "Epoch 76/128\n",
      "\u001b[1m1000/1000\u001b[0m \u001b[32m━━━━━━━━━━━━━━━━━━━━\u001b[0m\u001b[37m\u001b[0m \u001b[1m7s\u001b[0m 7ms/step - loss: 2394.8406 - mean_absolute_error: 2394.8406 - mean_absolute_percentage_error: 11.1981 - val_loss: 2991.7007 - val_mean_absolute_error: 2991.7007 - val_mean_absolute_percentage_error: 14.2351\n",
      "Epoch 77/128\n",
      "\u001b[1m1000/1000\u001b[0m \u001b[32m━━━━━━━━━━━━━━━━━━━━\u001b[0m\u001b[37m\u001b[0m \u001b[1m7s\u001b[0m 7ms/step - loss: 2425.5210 - mean_absolute_error: 2425.5210 - mean_absolute_percentage_error: 11.5159 - val_loss: 2939.8943 - val_mean_absolute_error: 2939.8943 - val_mean_absolute_percentage_error: 12.6899\n",
      "Epoch 78/128\n",
      "\u001b[1m1000/1000\u001b[0m \u001b[32m━━━━━━━━━━━━━━━━━━━━\u001b[0m\u001b[37m\u001b[0m \u001b[1m7s\u001b[0m 7ms/step - loss: 2463.6125 - mean_absolute_error: 2463.6125 - mean_absolute_percentage_error: 11.1432 - val_loss: 3039.9026 - val_mean_absolute_error: 3039.9026 - val_mean_absolute_percentage_error: 12.6913\n",
      "Epoch 79/128\n",
      "\u001b[1m1000/1000\u001b[0m \u001b[32m━━━━━━━━━━━━━━━━━━━━\u001b[0m\u001b[37m\u001b[0m \u001b[1m7s\u001b[0m 7ms/step - loss: 2504.8027 - mean_absolute_error: 2504.8027 - mean_absolute_percentage_error: 11.2639 - val_loss: 2923.9185 - val_mean_absolute_error: 2923.9185 - val_mean_absolute_percentage_error: 12.8839\n",
      "Epoch 80/128\n",
      "\u001b[1m1000/1000\u001b[0m \u001b[32m━━━━━━━━━━━━━━━━━━━━\u001b[0m\u001b[37m\u001b[0m \u001b[1m7s\u001b[0m 7ms/step - loss: 2524.6824 - mean_absolute_error: 2524.6824 - mean_absolute_percentage_error: 11.4540 - val_loss: 2947.6016 - val_mean_absolute_error: 2947.6016 - val_mean_absolute_percentage_error: 13.1181\n",
      "Epoch 81/128\n",
      "\u001b[1m1000/1000\u001b[0m \u001b[32m━━━━━━━━━━━━━━━━━━━━\u001b[0m\u001b[37m\u001b[0m \u001b[1m7s\u001b[0m 7ms/step - loss: 2378.2454 - mean_absolute_error: 2378.2454 - mean_absolute_percentage_error: 11.1897 - val_loss: 3030.3557 - val_mean_absolute_error: 3030.3557 - val_mean_absolute_percentage_error: 13.0376\n",
      "Epoch 82/128\n",
      "\u001b[1m1000/1000\u001b[0m \u001b[32m━━━━━━━━━━━━━━━━━━━━\u001b[0m\u001b[37m\u001b[0m \u001b[1m7s\u001b[0m 7ms/step - loss: 2445.8489 - mean_absolute_error: 2445.8489 - mean_absolute_percentage_error: 11.1988 - val_loss: 2867.3496 - val_mean_absolute_error: 2867.3496 - val_mean_absolute_percentage_error: 12.4150\n",
      "Epoch 83/128\n",
      "\u001b[1m1000/1000\u001b[0m \u001b[32m━━━━━━━━━━━━━━━━━━━━\u001b[0m\u001b[37m\u001b[0m \u001b[1m7s\u001b[0m 7ms/step - loss: 2315.5386 - mean_absolute_error: 2315.5386 - mean_absolute_percentage_error: 11.0873 - val_loss: 2901.2410 - val_mean_absolute_error: 2901.2410 - val_mean_absolute_percentage_error: 12.5819\n",
      "Epoch 84/128\n",
      "\u001b[1m1000/1000\u001b[0m \u001b[32m━━━━━━━━━━━━━━━━━━━━\u001b[0m\u001b[37m\u001b[0m \u001b[1m7s\u001b[0m 7ms/step - loss: 2486.8718 - mean_absolute_error: 2486.8718 - mean_absolute_percentage_error: 11.2162 - val_loss: 2982.1140 - val_mean_absolute_error: 2982.1140 - val_mean_absolute_percentage_error: 12.7893\n",
      "Epoch 85/128\n",
      "\u001b[1m1000/1000\u001b[0m \u001b[32m━━━━━━━━━━━━━━━━━━━━\u001b[0m\u001b[37m\u001b[0m \u001b[1m7s\u001b[0m 7ms/step - loss: 2402.0022 - mean_absolute_error: 2402.0022 - mean_absolute_percentage_error: 11.2538 - val_loss: 2958.0198 - val_mean_absolute_error: 2958.0198 - val_mean_absolute_percentage_error: 12.5919\n",
      "Epoch 86/128\n",
      "\u001b[1m1000/1000\u001b[0m \u001b[32m━━━━━━━━━━━━━━━━━━━━\u001b[0m\u001b[37m\u001b[0m \u001b[1m7s\u001b[0m 7ms/step - loss: 2357.5288 - mean_absolute_error: 2357.5288 - mean_absolute_percentage_error: 11.0004 - val_loss: 2845.4417 - val_mean_absolute_error: 2845.4417 - val_mean_absolute_percentage_error: 12.3669\n",
      "Epoch 87/128\n",
      "\u001b[1m1000/1000\u001b[0m \u001b[32m━━━━━━━━━━━━━━━━━━━━\u001b[0m\u001b[37m\u001b[0m \u001b[1m7s\u001b[0m 7ms/step - loss: 2337.3989 - mean_absolute_error: 2337.3989 - mean_absolute_percentage_error: 10.9716 - val_loss: 2858.8970 - val_mean_absolute_error: 2858.8970 - val_mean_absolute_percentage_error: 12.4204\n",
      "Epoch 88/128\n",
      "\u001b[1m1000/1000\u001b[0m \u001b[32m━━━━━━━━━━━━━━━━━━━━\u001b[0m\u001b[37m\u001b[0m \u001b[1m7s\u001b[0m 7ms/step - loss: 2312.2244 - mean_absolute_error: 2312.2244 - mean_absolute_percentage_error: 11.0352 - val_loss: 3021.1279 - val_mean_absolute_error: 3021.1279 - val_mean_absolute_percentage_error: 14.5041\n",
      "Epoch 89/128\n",
      "\u001b[1m1000/1000\u001b[0m \u001b[32m━━━━━━━━━━━━━━━━━━━━\u001b[0m\u001b[37m\u001b[0m \u001b[1m7s\u001b[0m 7ms/step - loss: 2357.7666 - mean_absolute_error: 2357.7666 - mean_absolute_percentage_error: 11.3829 - val_loss: 2971.0315 - val_mean_absolute_error: 2971.0315 - val_mean_absolute_percentage_error: 14.0952\n",
      "Epoch 90/128\n",
      "\u001b[1m1000/1000\u001b[0m \u001b[32m━━━━━━━━━━━━━━━━━━━━\u001b[0m\u001b[37m\u001b[0m \u001b[1m7s\u001b[0m 7ms/step - loss: 2351.4270 - mean_absolute_error: 2351.4270 - mean_absolute_percentage_error: 11.1683 - val_loss: 2883.8748 - val_mean_absolute_error: 2883.8748 - val_mean_absolute_percentage_error: 12.7004\n",
      "Epoch 91/128\n",
      "\u001b[1m1000/1000\u001b[0m \u001b[32m━━━━━━━━━━━━━━━━━━━━\u001b[0m\u001b[37m\u001b[0m \u001b[1m7s\u001b[0m 7ms/step - loss: 2408.9133 - mean_absolute_error: 2408.9133 - mean_absolute_percentage_error: 11.2605 - val_loss: 2874.5054 - val_mean_absolute_error: 2874.5054 - val_mean_absolute_percentage_error: 12.7705\n",
      "Epoch 92/128\n",
      "\u001b[1m1000/1000\u001b[0m \u001b[32m━━━━━━━━━━━━━━━━━━━━\u001b[0m\u001b[37m\u001b[0m \u001b[1m7s\u001b[0m 7ms/step - loss: 2310.6558 - mean_absolute_error: 2310.6558 - mean_absolute_percentage_error: 10.8303 - val_loss: 2918.3569 - val_mean_absolute_error: 2918.3569 - val_mean_absolute_percentage_error: 13.1610\n",
      "Epoch 93/128\n",
      "\u001b[1m1000/1000\u001b[0m \u001b[32m━━━━━━━━━━━━━━━━━━━━\u001b[0m\u001b[37m\u001b[0m \u001b[1m7s\u001b[0m 7ms/step - loss: 2299.9441 - mean_absolute_error: 2299.9441 - mean_absolute_percentage_error: 10.8322 - val_loss: 3022.2246 - val_mean_absolute_error: 3022.2246 - val_mean_absolute_percentage_error: 13.8366\n",
      "Epoch 94/128\n",
      "\u001b[1m1000/1000\u001b[0m \u001b[32m━━━━━━━━━━━━━━━━━━━━\u001b[0m\u001b[37m\u001b[0m \u001b[1m7s\u001b[0m 7ms/step - loss: 2378.0825 - mean_absolute_error: 2378.0825 - mean_absolute_percentage_error: 10.9805 - val_loss: 2859.2397 - val_mean_absolute_error: 2859.2397 - val_mean_absolute_percentage_error: 12.2673\n",
      "Epoch 95/128\n",
      "\u001b[1m1000/1000\u001b[0m \u001b[32m━━━━━━━━━━━━━━━━━━━━\u001b[0m\u001b[37m\u001b[0m \u001b[1m7s\u001b[0m 7ms/step - loss: 2324.6140 - mean_absolute_error: 2324.6140 - mean_absolute_percentage_error: 10.8193 - val_loss: 2939.4575 - val_mean_absolute_error: 2939.4575 - val_mean_absolute_percentage_error: 12.5938\n",
      "Epoch 96/128\n",
      "\u001b[1m1000/1000\u001b[0m \u001b[32m━━━━━━━━━━━━━━━━━━━━\u001b[0m\u001b[37m\u001b[0m \u001b[1m7s\u001b[0m 7ms/step - loss: 2349.7046 - mean_absolute_error: 2349.7046 - mean_absolute_percentage_error: 10.8396 - val_loss: 2859.1992 - val_mean_absolute_error: 2859.1992 - val_mean_absolute_percentage_error: 13.4439\n",
      "Epoch 97/128\n",
      "\u001b[1m1000/1000\u001b[0m \u001b[32m━━━━━━━━━━━━━━━━━━━━\u001b[0m\u001b[37m\u001b[0m \u001b[1m7s\u001b[0m 7ms/step - loss: 2327.8750 - mean_absolute_error: 2327.8750 - mean_absolute_percentage_error: 10.6475 - val_loss: 2970.1597 - val_mean_absolute_error: 2970.1597 - val_mean_absolute_percentage_error: 12.8025\n",
      "Epoch 98/128\n",
      "\u001b[1m1000/1000\u001b[0m \u001b[32m━━━━━━━━━━━━━━━━━━━━\u001b[0m\u001b[37m\u001b[0m \u001b[1m7s\u001b[0m 7ms/step - loss: 2313.8965 - mean_absolute_error: 2313.8965 - mean_absolute_percentage_error: 10.8239 - val_loss: 2862.6638 - val_mean_absolute_error: 2862.6638 - val_mean_absolute_percentage_error: 12.5596\n",
      "Epoch 99/128\n",
      "\u001b[1m1000/1000\u001b[0m \u001b[32m━━━━━━━━━━━━━━━━━━━━\u001b[0m\u001b[37m\u001b[0m \u001b[1m7s\u001b[0m 7ms/step - loss: 2277.6213 - mean_absolute_error: 2277.6213 - mean_absolute_percentage_error: 10.9888 - val_loss: 2857.5166 - val_mean_absolute_error: 2857.5166 - val_mean_absolute_percentage_error: 12.4071\n",
      "Epoch 100/128\n",
      "\u001b[1m1000/1000\u001b[0m \u001b[32m━━━━━━━━━━━━━━━━━━━━\u001b[0m\u001b[37m\u001b[0m \u001b[1m7s\u001b[0m 7ms/step - loss: 2304.5383 - mean_absolute_error: 2304.5383 - mean_absolute_percentage_error: 10.9599 - val_loss: 2866.7222 - val_mean_absolute_error: 2866.7222 - val_mean_absolute_percentage_error: 12.3141\n",
      "Epoch 101/128\n",
      "\u001b[1m1000/1000\u001b[0m \u001b[32m━━━━━━━━━━━━━━━━━━━━\u001b[0m\u001b[37m\u001b[0m \u001b[1m7s\u001b[0m 7ms/step - loss: 2214.7747 - mean_absolute_error: 2214.7747 - mean_absolute_percentage_error: 10.6509 - val_loss: 2855.2356 - val_mean_absolute_error: 2855.2356 - val_mean_absolute_percentage_error: 13.2392\n",
      "Epoch 102/128\n",
      "\u001b[1m1000/1000\u001b[0m \u001b[32m━━━━━━━━━━━━━━━━━━━━\u001b[0m\u001b[37m\u001b[0m \u001b[1m7s\u001b[0m 7ms/step - loss: 2323.2295 - mean_absolute_error: 2323.2295 - mean_absolute_percentage_error: 10.6923 - val_loss: 2844.3582 - val_mean_absolute_error: 2844.3582 - val_mean_absolute_percentage_error: 12.4571\n",
      "Epoch 103/128\n",
      "\u001b[1m1000/1000\u001b[0m \u001b[32m━━━━━━━━━━━━━━━━━━━━\u001b[0m\u001b[37m\u001b[0m \u001b[1m7s\u001b[0m 7ms/step - loss: 2355.6233 - mean_absolute_error: 2355.6233 - mean_absolute_percentage_error: 10.9460 - val_loss: 2917.6912 - val_mean_absolute_error: 2917.6912 - val_mean_absolute_percentage_error: 12.3808\n",
      "Epoch 104/128\n",
      "\u001b[1m1000/1000\u001b[0m \u001b[32m━━━━━━━━━━━━━━━━━━━━\u001b[0m\u001b[37m\u001b[0m \u001b[1m7s\u001b[0m 7ms/step - loss: 2328.1301 - mean_absolute_error: 2328.1301 - mean_absolute_percentage_error: 10.7672 - val_loss: 2811.5220 - val_mean_absolute_error: 2811.5220 - val_mean_absolute_percentage_error: 12.3635\n",
      "Epoch 105/128\n",
      "\u001b[1m1000/1000\u001b[0m \u001b[32m━━━━━━━━━━━━━━━━━━━━\u001b[0m\u001b[37m\u001b[0m \u001b[1m7s\u001b[0m 7ms/step - loss: 2300.5681 - mean_absolute_error: 2300.5681 - mean_absolute_percentage_error: 10.7464 - val_loss: 2831.9680 - val_mean_absolute_error: 2831.9680 - val_mean_absolute_percentage_error: 12.2094\n",
      "Epoch 106/128\n",
      "\u001b[1m1000/1000\u001b[0m \u001b[32m━━━━━━━━━━━━━━━━━━━━\u001b[0m\u001b[37m\u001b[0m \u001b[1m7s\u001b[0m 7ms/step - loss: 2301.6282 - mean_absolute_error: 2301.6282 - mean_absolute_percentage_error: 10.6969 - val_loss: 2910.7961 - val_mean_absolute_error: 2910.7961 - val_mean_absolute_percentage_error: 12.6946\n",
      "Epoch 107/128\n",
      "\u001b[1m1000/1000\u001b[0m \u001b[32m━━━━━━━━━━━━━━━━━━━━\u001b[0m\u001b[37m\u001b[0m \u001b[1m7s\u001b[0m 7ms/step - loss: 2301.3821 - mean_absolute_error: 2301.3821 - mean_absolute_percentage_error: 11.0959 - val_loss: 2861.3535 - val_mean_absolute_error: 2861.3535 - val_mean_absolute_percentage_error: 12.3309\n",
      "Epoch 108/128\n",
      "\u001b[1m1000/1000\u001b[0m \u001b[32m━━━━━━━━━━━━━━━━━━━━\u001b[0m\u001b[37m\u001b[0m \u001b[1m7s\u001b[0m 7ms/step - loss: 2312.3430 - mean_absolute_error: 2312.3430 - mean_absolute_percentage_error: 10.6113 - val_loss: 2863.4692 - val_mean_absolute_error: 2863.4692 - val_mean_absolute_percentage_error: 12.6800\n",
      "Epoch 109/128\n",
      "\u001b[1m1000/1000\u001b[0m \u001b[32m━━━━━━━━━━━━━━━━━━━━\u001b[0m\u001b[37m\u001b[0m \u001b[1m7s\u001b[0m 7ms/step - loss: 2321.6660 - mean_absolute_error: 2321.6660 - mean_absolute_percentage_error: 10.8173 - val_loss: 2827.7373 - val_mean_absolute_error: 2827.7373 - val_mean_absolute_percentage_error: 12.6788\n",
      "Epoch 110/128\n",
      "\u001b[1m1000/1000\u001b[0m \u001b[32m━━━━━━━━━━━━━━━━━━━━\u001b[0m\u001b[37m\u001b[0m \u001b[1m7s\u001b[0m 7ms/step - loss: 2289.6809 - mean_absolute_error: 2289.6809 - mean_absolute_percentage_error: 10.7346 - val_loss: 2808.1738 - val_mean_absolute_error: 2808.1738 - val_mean_absolute_percentage_error: 13.0072\n",
      "Epoch 111/128\n",
      "\u001b[1m1000/1000\u001b[0m \u001b[32m━━━━━━━━━━━━━━━━━━━━\u001b[0m\u001b[37m\u001b[0m \u001b[1m7s\u001b[0m 7ms/step - loss: 2206.9539 - mean_absolute_error: 2206.9539 - mean_absolute_percentage_error: 10.6155 - val_loss: 2852.3523 - val_mean_absolute_error: 2852.3523 - val_mean_absolute_percentage_error: 13.6725\n",
      "Epoch 112/128\n",
      "\u001b[1m1000/1000\u001b[0m \u001b[32m━━━━━━━━━━━━━━━━━━━━\u001b[0m\u001b[37m\u001b[0m \u001b[1m7s\u001b[0m 7ms/step - loss: 2268.1990 - mean_absolute_error: 2268.1990 - mean_absolute_percentage_error: 10.7761 - val_loss: 2831.8235 - val_mean_absolute_error: 2831.8235 - val_mean_absolute_percentage_error: 13.1161\n",
      "Epoch 113/128\n",
      "\u001b[1m1000/1000\u001b[0m \u001b[32m━━━━━━━━━━━━━━━━━━━━\u001b[0m\u001b[37m\u001b[0m \u001b[1m7s\u001b[0m 7ms/step - loss: 2203.2722 - mean_absolute_error: 2203.2722 - mean_absolute_percentage_error: 10.5886 - val_loss: 2815.9661 - val_mean_absolute_error: 2815.9661 - val_mean_absolute_percentage_error: 12.9466\n",
      "Epoch 114/128\n",
      "\u001b[1m1000/1000\u001b[0m \u001b[32m━━━━━━━━━━━━━━━━━━━━\u001b[0m\u001b[37m\u001b[0m \u001b[1m7s\u001b[0m 7ms/step - loss: 2307.2361 - mean_absolute_error: 2307.2361 - mean_absolute_percentage_error: 10.7052 - val_loss: 2784.4822 - val_mean_absolute_error: 2784.4822 - val_mean_absolute_percentage_error: 12.3404\n",
      "Epoch 115/128\n",
      "\u001b[1m1000/1000\u001b[0m \u001b[32m━━━━━━━━━━━━━━━━━━━━\u001b[0m\u001b[37m\u001b[0m \u001b[1m7s\u001b[0m 7ms/step - loss: 2321.8667 - mean_absolute_error: 2321.8667 - mean_absolute_percentage_error: 10.7060 - val_loss: 2821.5476 - val_mean_absolute_error: 2821.5476 - val_mean_absolute_percentage_error: 12.5247\n",
      "Epoch 116/128\n",
      "\u001b[1m1000/1000\u001b[0m \u001b[32m━━━━━━━━━━━━━━━━━━━━\u001b[0m\u001b[37m\u001b[0m \u001b[1m7s\u001b[0m 7ms/step - loss: 2295.0256 - mean_absolute_error: 2295.0256 - mean_absolute_percentage_error: 10.6935 - val_loss: 2861.0681 - val_mean_absolute_error: 2861.0681 - val_mean_absolute_percentage_error: 12.9353\n",
      "Epoch 117/128\n",
      "\u001b[1m1000/1000\u001b[0m \u001b[32m━━━━━━━━━━━━━━━━━━━━\u001b[0m\u001b[37m\u001b[0m \u001b[1m7s\u001b[0m 7ms/step - loss: 2394.3018 - mean_absolute_error: 2394.3018 - mean_absolute_percentage_error: 11.3370 - val_loss: 2795.7126 - val_mean_absolute_error: 2795.7126 - val_mean_absolute_percentage_error: 12.4539\n",
      "Epoch 118/128\n",
      "\u001b[1m1000/1000\u001b[0m \u001b[32m━━━━━━━━━━━━━━━━━━━━\u001b[0m\u001b[37m\u001b[0m \u001b[1m7s\u001b[0m 7ms/step - loss: 2238.8535 - mean_absolute_error: 2238.8535 - mean_absolute_percentage_error: 10.6385 - val_loss: 2990.3765 - val_mean_absolute_error: 2990.3765 - val_mean_absolute_percentage_error: 15.0984\n",
      "Epoch 119/128\n",
      "\u001b[1m1000/1000\u001b[0m \u001b[32m━━━━━━━━━━━━━━━━━━━━\u001b[0m\u001b[37m\u001b[0m \u001b[1m7s\u001b[0m 7ms/step - loss: 2282.5750 - mean_absolute_error: 2282.5750 - mean_absolute_percentage_error: 10.6576 - val_loss: 2803.9963 - val_mean_absolute_error: 2803.9963 - val_mean_absolute_percentage_error: 12.1276\n",
      "Epoch 120/128\n",
      "\u001b[1m1000/1000\u001b[0m \u001b[32m━━━━━━━━━━━━━━━━━━━━\u001b[0m\u001b[37m\u001b[0m \u001b[1m7s\u001b[0m 7ms/step - loss: 2181.4329 - mean_absolute_error: 2181.4329 - mean_absolute_percentage_error: 10.4340 - val_loss: 2827.9497 - val_mean_absolute_error: 2827.9497 - val_mean_absolute_percentage_error: 12.6407\n",
      "Epoch 121/128\n",
      "\u001b[1m1000/1000\u001b[0m \u001b[32m━━━━━━━━━━━━━━━━━━━━\u001b[0m\u001b[37m\u001b[0m \u001b[1m7s\u001b[0m 7ms/step - loss: 2277.5833 - mean_absolute_error: 2277.5833 - mean_absolute_percentage_error: 10.8771 - val_loss: 2768.8896 - val_mean_absolute_error: 2768.8896 - val_mean_absolute_percentage_error: 12.0943\n",
      "Epoch 122/128\n",
      "\u001b[1m1000/1000\u001b[0m \u001b[32m━━━━━━━━━━━━━━━━━━━━\u001b[0m\u001b[37m\u001b[0m \u001b[1m7s\u001b[0m 7ms/step - loss: 2329.4434 - mean_absolute_error: 2329.4434 - mean_absolute_percentage_error: 10.6868 - val_loss: 2786.6494 - val_mean_absolute_error: 2786.6494 - val_mean_absolute_percentage_error: 12.2717\n",
      "Epoch 123/128\n",
      "\u001b[1m1000/1000\u001b[0m \u001b[32m━━━━━━━━━━━━━━━━━━━━\u001b[0m\u001b[37m\u001b[0m \u001b[1m7s\u001b[0m 7ms/step - loss: 2228.0378 - mean_absolute_error: 2228.0378 - mean_absolute_percentage_error: 10.4223 - val_loss: 2917.9839 - val_mean_absolute_error: 2917.9839 - val_mean_absolute_percentage_error: 14.0072\n",
      "Epoch 124/128\n",
      "\u001b[1m1000/1000\u001b[0m \u001b[32m━━━━━━━━━━━━━━━━━━━━\u001b[0m\u001b[37m\u001b[0m \u001b[1m7s\u001b[0m 7ms/step - loss: 2310.2888 - mean_absolute_error: 2310.2888 - mean_absolute_percentage_error: 10.9152 - val_loss: 2815.6665 - val_mean_absolute_error: 2815.6665 - val_mean_absolute_percentage_error: 12.2737\n",
      "Epoch 125/128\n",
      "\u001b[1m1000/1000\u001b[0m \u001b[32m━━━━━━━━━━━━━━━━━━━━\u001b[0m\u001b[37m\u001b[0m \u001b[1m7s\u001b[0m 7ms/step - loss: 2254.5417 - mean_absolute_error: 2254.5417 - mean_absolute_percentage_error: 10.4128 - val_loss: 2765.0696 - val_mean_absolute_error: 2765.0696 - val_mean_absolute_percentage_error: 12.3568\n",
      "Epoch 126/128\n",
      "\u001b[1m1000/1000\u001b[0m \u001b[32m━━━━━━━━━━━━━━━━━━━━\u001b[0m\u001b[37m\u001b[0m \u001b[1m7s\u001b[0m 7ms/step - loss: 2213.6191 - mean_absolute_error: 2213.6191 - mean_absolute_percentage_error: 10.2170 - val_loss: 2841.3457 - val_mean_absolute_error: 2841.3457 - val_mean_absolute_percentage_error: 12.3840\n",
      "Epoch 127/128\n",
      "\u001b[1m1000/1000\u001b[0m \u001b[32m━━━━━━━━━━━━━━━━━━━━\u001b[0m\u001b[37m\u001b[0m \u001b[1m7s\u001b[0m 7ms/step - loss: 2235.2891 - mean_absolute_error: 2235.2891 - mean_absolute_percentage_error: 10.6054 - val_loss: 2780.3418 - val_mean_absolute_error: 2780.3418 - val_mean_absolute_percentage_error: 12.0723\n",
      "Epoch 128/128\n",
      "\u001b[1m1000/1000\u001b[0m \u001b[32m━━━━━━━━━━━━━━━━━━━━\u001b[0m\u001b[37m\u001b[0m \u001b[1m7s\u001b[0m 7ms/step - loss: 2224.9583 - mean_absolute_error: 2224.9583 - mean_absolute_percentage_error: 10.5219 - val_loss: 2911.3477 - val_mean_absolute_error: 2911.3477 - val_mean_absolute_percentage_error: 12.5694\n",
      "TERMINA EL ENTRENAMIENTO...\n"
     ]
    }
   ],
   "source": [
    "# Train the model\n",
    "print(\"COMIENZA EL ENTRENAMIENTO...\")\n",
    "history = model.fit([train_data, train_embeddings, train_km], train_prices,\n",
    "          validation_data=([test_data, test_embeddings, test_km], test_prices),\n",
    "          epochs=128, batch_size=32)\n",
    "print(\"TERMINA EL ENTRENAMIENTO...\")"
   ]
  },
  {
   "cell_type": "code",
   "execution_count": 24,
   "metadata": {},
   "outputs": [
    {
     "data": {
      "text/plain": [
       "[<matplotlib.lines.Line2D at 0x7b0a7217c620>]"
      ]
     },
     "execution_count": 24,
     "metadata": {},
     "output_type": "execute_result"
    },
    {
     "data": {
      "image/png": "[encoded data removed]",
      "text/plain": [
       "<Figure size 640x480 with 1 Axes>"
      ]
     },
     "metadata": {},
     "output_type": "display_data"
    }
   ],
   "source": [
    "plt.xlabel(\"# Epoca\")\n",
    "plt.ylabel(\"Loss magnitude\")\n",
    "plt.plot(history.history[\"loss\"])"
   ]
  },
  {
   "cell_type": "code",
   "execution_count": 23,
   "metadata": {},
   "outputs": [
    {
     "name": "stdout",
     "output_type": "stream",
     "text": [
      "\u001b[1m 39/250\u001b[0m \u001b[32m━━━\u001b[0m\u001b[37m━━━━━━━━━━━━━━━━━\u001b[0m \u001b[1m0s\u001b[0m 3ms/step "
     ]
    },
    {
     "name": "stderr",
     "output_type": "stream",
     "text": [
      "/home/lingfeng/Desktop/tensorflow/lib/python3.12/site-packages/keras/src/models/functional.py:225: UserWarning: The structure of `inputs` doesn't match the expected structure: ['keras_tensor', 'keras_tensor_3', 'km_input']. Received: the structure of inputs=('*', '*', '*')\n",
      "  warnings.warn(\n"
     ]
    },
    {
     "name": "stdout",
     "output_type": "stream",
     "text": [
      "\u001b[1m250/250\u001b[0m \u001b[32m━━━━━━━━━━━━━━━━━━━━\u001b[0m\u001b[37m\u001b[0m \u001b[1m1s\u001b[0m 3ms/step\n",
      "        Actual Price  Predicted Price        km\n",
      "idx                                            \n",
      "63552        16200.0     19471.648438   99999.0\n",
      "123771       65900.0     55002.832031   63800.0\n",
      "128011       21500.0     22067.583984       0.0\n",
      "119993       12600.0     12880.007812   50191.0\n",
      "65724        10999.0     11191.213867  122279.0\n"
     ]
    }
   ],
   "source": [
    "predicted_prices = model.predict([test_data, test_embeddings, test_km])\n",
    "\n",
    "# Assuming test_prices is a 1D array, we can convert it to a DataFrame\n",
    "results_df = pd.DataFrame({\n",
    "    'Actual Price': test_prices,\n",
    "    'Predicted Price': predicted_prices.flatten(),  # Flatten in case it's a 2D array\n",
    "    'km' : test_km\n",
    "})\n",
    "\n",
    "# Display the first few rows of the DataFrame\n",
    "print(results_df.head())"
   ]
  }
 ],
 "metadata": {
  "kernelspec": {
   "display_name": "tensorflow",
   "language": "python",
   "name": "python3"
  },
  "language_info": {
   "codemirror_mode": {
    "name": "ipython",
    "version": 3
   },
   "file_extension": ".py",
   "mimetype": "text/x-python",
   "name": "python",
   "nbconvert_exporter": "python",
   "pygments_lexer": "ipython3",
   "version": "3.12.3"
  }
 },
 "nbformat": 4,
 "nbformat_minor": 2
}
