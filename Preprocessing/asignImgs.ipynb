{
 "cells": [
  {
   "cell_type": "code",
   "execution_count": 1,
   "metadata": {},
   "outputs": [
    {
     "data": {
      "text/plain": [
       "False"
      ]
     },
     "execution_count": 1,
     "metadata": {},
     "output_type": "execute_result"
    }
   ],
   "source": [
    "import re\n",
    "import os\n",
    "import json\n",
    "import pprint\n",
    "import pandas as pd\n",
    "\n",
    "from dotenv import load_dotenv\n",
    "from pymongo.mongo_client import MongoClient\n",
    "from pymongo import MongoClient, DESCENDING , UpdateOne\n",
    "from pymongo.server_api import ServerApi\n",
    "import hashlib\n",
    "\n",
    "load_dotenv()"
   ]
  },
  {
   "cell_type": "code",
   "execution_count": 2,
   "metadata": {},
   "outputs": [
    {
     "ename": "KeyboardInterrupt",
     "evalue": "",
     "output_type": "error",
     "traceback": [
      "\u001b[1;31m---------------------------------------------------------------------------\u001b[0m",
      "\u001b[1;31mKeyboardInterrupt\u001b[0m                         Traceback (most recent call last)",
      "\u001b[1;32md:\\NoSync\\ProyectoMC\\Cars_Price_Prediction\\Preprocessing\\asignImgs.ipynb Cell 2\u001b[0m line \u001b[0;36m7\n\u001b[0;32m      <a href='vscode-notebook-cell:/d%3A/NoSync/ProyectoMC/Cars_Price_Prediction/Preprocessing/asignImgs.ipynb#W1sZmlsZQ%3D%3D?line=4'>5</a>\u001b[0m \u001b[39m# Send a ping to confirm a successful connection\u001b[39;00m\n\u001b[0;32m      <a href='vscode-notebook-cell:/d%3A/NoSync/ProyectoMC/Cars_Price_Prediction/Preprocessing/asignImgs.ipynb#W1sZmlsZQ%3D%3D?line=5'>6</a>\u001b[0m \u001b[39mtry\u001b[39;00m:\n\u001b[1;32m----> <a href='vscode-notebook-cell:/d%3A/NoSync/ProyectoMC/Cars_Price_Prediction/Preprocessing/asignImgs.ipynb#W1sZmlsZQ%3D%3D?line=6'>7</a>\u001b[0m     client\u001b[39m.\u001b[39;49madmin\u001b[39m.\u001b[39;49mcommand(\u001b[39m'\u001b[39;49m\u001b[39mping\u001b[39;49m\u001b[39m'\u001b[39;49m)\n\u001b[0;32m      <a href='vscode-notebook-cell:/d%3A/NoSync/ProyectoMC/Cars_Price_Prediction/Preprocessing/asignImgs.ipynb#W1sZmlsZQ%3D%3D?line=7'>8</a>\u001b[0m     \u001b[39mprint\u001b[39m(\u001b[39m\"\u001b[39m\u001b[39mPinged your deployment. You successfully connected to MongoDB!\u001b[39m\u001b[39m\"\u001b[39m)\n\u001b[0;32m      <a href='vscode-notebook-cell:/d%3A/NoSync/ProyectoMC/Cars_Price_Prediction/Preprocessing/asignImgs.ipynb#W1sZmlsZQ%3D%3D?line=8'>9</a>\u001b[0m \u001b[39mexcept\u001b[39;00m \u001b[39mException\u001b[39;00m \u001b[39mas\u001b[39;00m e:\n",
      "File \u001b[1;32mc:\\Users\\Barak\\AppData\\Local\\Programs\\Python\\Python312\\Lib\\site-packages\\pymongo\\_csot.py:119\u001b[0m, in \u001b[0;36mapply.<locals>.csot_wrapper\u001b[1;34m(self, *args, **kwargs)\u001b[0m\n\u001b[0;32m    117\u001b[0m         \u001b[39mwith\u001b[39;00m _TimeoutContext(timeout):\n\u001b[0;32m    118\u001b[0m             \u001b[39mreturn\u001b[39;00m func(\u001b[39mself\u001b[39m, \u001b[39m*\u001b[39margs, \u001b[39m*\u001b[39m\u001b[39m*\u001b[39mkwargs)\n\u001b[1;32m--> 119\u001b[0m \u001b[39mreturn\u001b[39;00m func(\u001b[39mself\u001b[39;49m, \u001b[39m*\u001b[39;49margs, \u001b[39m*\u001b[39;49m\u001b[39m*\u001b[39;49mkwargs)\n",
      "File \u001b[1;32mc:\\Users\\Barak\\AppData\\Local\\Programs\\Python\\Python312\\Lib\\site-packages\\pymongo\\synchronous\\database.py:926\u001b[0m, in \u001b[0;36mDatabase.command\u001b[1;34m(self, command, value, check, allowable_errors, read_preference, codec_options, session, comment, **kwargs)\u001b[0m\n\u001b[0;32m    924\u001b[0m \u001b[39mif\u001b[39;00m read_preference \u001b[39mis\u001b[39;00m \u001b[39mNone\u001b[39;00m:\n\u001b[0;32m    925\u001b[0m     read_preference \u001b[39m=\u001b[39m (session \u001b[39mand\u001b[39;00m session\u001b[39m.\u001b[39m_txn_read_preference()) \u001b[39mor\u001b[39;00m ReadPreference\u001b[39m.\u001b[39mPRIMARY\n\u001b[1;32m--> 926\u001b[0m \u001b[39mwith\u001b[39;00m \u001b[39mself\u001b[39;49m\u001b[39m.\u001b[39;49m_client\u001b[39m.\u001b[39;49m_conn_for_reads(read_preference, session, operation\u001b[39m=\u001b[39;49mcommand_name) \u001b[39mas\u001b[39;00m (\n\u001b[0;32m    927\u001b[0m     connection,\n\u001b[0;32m    928\u001b[0m     read_preference,\n\u001b[0;32m    929\u001b[0m ):\n\u001b[0;32m    930\u001b[0m     \u001b[39mreturn\u001b[39;00m \u001b[39mself\u001b[39m\u001b[39m.\u001b[39m_command(\n\u001b[0;32m    931\u001b[0m         connection,\n\u001b[0;32m    932\u001b[0m         command,\n\u001b[1;32m   (...)\u001b[0m\n\u001b[0;32m    939\u001b[0m         \u001b[39m*\u001b[39m\u001b[39m*\u001b[39mkwargs,\n\u001b[0;32m    940\u001b[0m     )\n",
      "File \u001b[1;32mc:\\Users\\Barak\\AppData\\Local\\Programs\\Python\\Python312\\Lib\\site-packages\\pymongo\\synchronous\\mongo_client.py:1701\u001b[0m, in \u001b[0;36mMongoClient._conn_for_reads\u001b[1;34m(self, read_preference, session, operation)\u001b[0m\n\u001b[0;32m   1694\u001b[0m \u001b[39mdef\u001b[39;00m \u001b[39m_conn_for_reads\u001b[39m(\n\u001b[0;32m   1695\u001b[0m     \u001b[39mself\u001b[39m,\n\u001b[0;32m   1696\u001b[0m     read_preference: _ServerMode,\n\u001b[0;32m   1697\u001b[0m     session: Optional[ClientSession],\n\u001b[0;32m   1698\u001b[0m     operation: \u001b[39mstr\u001b[39m,\n\u001b[0;32m   1699\u001b[0m ) \u001b[39m-\u001b[39m\u001b[39m>\u001b[39m ContextManager[\u001b[39mtuple\u001b[39m[Connection, _ServerMode]]:\n\u001b[0;32m   1700\u001b[0m     \u001b[39massert\u001b[39;00m read_preference \u001b[39mis\u001b[39;00m \u001b[39mnot\u001b[39;00m \u001b[39mNone\u001b[39;00m, \u001b[39m\"\u001b[39m\u001b[39mread_preference must not be None\u001b[39m\u001b[39m\"\u001b[39m\n\u001b[1;32m-> 1701\u001b[0m     server \u001b[39m=\u001b[39m \u001b[39mself\u001b[39;49m\u001b[39m.\u001b[39;49m_select_server(read_preference, session, operation)\n\u001b[0;32m   1702\u001b[0m     \u001b[39mreturn\u001b[39;00m \u001b[39mself\u001b[39m\u001b[39m.\u001b[39m_conn_from_server(read_preference, server, session)\n",
      "File \u001b[1;32mc:\\Users\\Barak\\AppData\\Local\\Programs\\Python\\Python312\\Lib\\site-packages\\pymongo\\synchronous\\mongo_client.py:1649\u001b[0m, in \u001b[0;36mMongoClient._select_server\u001b[1;34m(self, server_selector, session, operation, address, deprioritized_servers, operation_id)\u001b[0m\n\u001b[0;32m   1647\u001b[0m             \u001b[39mraise\u001b[39;00m AutoReconnect(\u001b[39m\"\u001b[39m\u001b[39mserver \u001b[39m\u001b[39m%s\u001b[39;00m\u001b[39m:\u001b[39m\u001b[39m%s\u001b[39;00m\u001b[39m no longer available\u001b[39m\u001b[39m\"\u001b[39m \u001b[39m%\u001b[39m address)  \u001b[39m# noqa: UP031\u001b[39;00m\n\u001b[0;32m   1648\u001b[0m     \u001b[39melse\u001b[39;00m:\n\u001b[1;32m-> 1649\u001b[0m         server \u001b[39m=\u001b[39m topology\u001b[39m.\u001b[39;49mselect_server(\n\u001b[0;32m   1650\u001b[0m             server_selector,\n\u001b[0;32m   1651\u001b[0m             operation,\n\u001b[0;32m   1652\u001b[0m             deprioritized_servers\u001b[39m=\u001b[39;49mdeprioritized_servers,\n\u001b[0;32m   1653\u001b[0m             operation_id\u001b[39m=\u001b[39;49moperation_id,\n\u001b[0;32m   1654\u001b[0m         )\n\u001b[0;32m   1655\u001b[0m     \u001b[39mreturn\u001b[39;00m server\n\u001b[0;32m   1656\u001b[0m \u001b[39mexcept\u001b[39;00m PyMongoError \u001b[39mas\u001b[39;00m exc:\n\u001b[0;32m   1657\u001b[0m     \u001b[39m# Server selection errors in a transaction are transient.\u001b[39;00m\n",
      "File \u001b[1;32mc:\\Users\\Barak\\AppData\\Local\\Programs\\Python\\Python312\\Lib\\site-packages\\pymongo\\synchronous\\topology.py:398\u001b[0m, in \u001b[0;36mTopology.select_server\u001b[1;34m(self, selector, operation, server_selection_timeout, address, deprioritized_servers, operation_id)\u001b[0m\n\u001b[0;32m    388\u001b[0m \u001b[39mdef\u001b[39;00m \u001b[39mselect_server\u001b[39m(\n\u001b[0;32m    389\u001b[0m     \u001b[39mself\u001b[39m,\n\u001b[0;32m    390\u001b[0m     selector: Callable[[Selection], Selection],\n\u001b[1;32m   (...)\u001b[0m\n\u001b[0;32m    395\u001b[0m     operation_id: Optional[\u001b[39mint\u001b[39m] \u001b[39m=\u001b[39m \u001b[39mNone\u001b[39;00m,\n\u001b[0;32m    396\u001b[0m ) \u001b[39m-\u001b[39m\u001b[39m>\u001b[39m Server:\n\u001b[0;32m    397\u001b[0m \u001b[39m    \u001b[39m\u001b[39m\"\"\"Like select_servers, but choose a random server if several match.\"\"\"\u001b[39;00m\n\u001b[1;32m--> 398\u001b[0m     server \u001b[39m=\u001b[39m \u001b[39mself\u001b[39;49m\u001b[39m.\u001b[39;49m_select_server(\n\u001b[0;32m    399\u001b[0m         selector,\n\u001b[0;32m    400\u001b[0m         operation,\n\u001b[0;32m    401\u001b[0m         server_selection_timeout,\n\u001b[0;32m    402\u001b[0m         address,\n\u001b[0;32m    403\u001b[0m         deprioritized_servers,\n\u001b[0;32m    404\u001b[0m         operation_id\u001b[39m=\u001b[39;49moperation_id,\n\u001b[0;32m    405\u001b[0m     )\n\u001b[0;32m    406\u001b[0m     \u001b[39mif\u001b[39;00m _csot\u001b[39m.\u001b[39mget_timeout():\n\u001b[0;32m    407\u001b[0m         _csot\u001b[39m.\u001b[39mset_rtt(server\u001b[39m.\u001b[39mdescription\u001b[39m.\u001b[39mmin_round_trip_time)\n",
      "File \u001b[1;32mc:\\Users\\Barak\\AppData\\Local\\Programs\\Python\\Python312\\Lib\\site-packages\\pymongo\\synchronous\\topology.py:376\u001b[0m, in \u001b[0;36mTopology._select_server\u001b[1;34m(self, selector, operation, server_selection_timeout, address, deprioritized_servers, operation_id)\u001b[0m\n\u001b[0;32m    367\u001b[0m \u001b[39mdef\u001b[39;00m \u001b[39m_select_server\u001b[39m(\n\u001b[0;32m    368\u001b[0m     \u001b[39mself\u001b[39m,\n\u001b[0;32m    369\u001b[0m     selector: Callable[[Selection], Selection],\n\u001b[1;32m   (...)\u001b[0m\n\u001b[0;32m    374\u001b[0m     operation_id: Optional[\u001b[39mint\u001b[39m] \u001b[39m=\u001b[39m \u001b[39mNone\u001b[39;00m,\n\u001b[0;32m    375\u001b[0m ) \u001b[39m-\u001b[39m\u001b[39m>\u001b[39m Server:\n\u001b[1;32m--> 376\u001b[0m     servers \u001b[39m=\u001b[39m \u001b[39mself\u001b[39;49m\u001b[39m.\u001b[39;49mselect_servers(\n\u001b[0;32m    377\u001b[0m         selector, operation, server_selection_timeout, address, operation_id\n\u001b[0;32m    378\u001b[0m     )\n\u001b[0;32m    379\u001b[0m     servers \u001b[39m=\u001b[39m _filter_servers(servers, deprioritized_servers)\n\u001b[0;32m    380\u001b[0m     \u001b[39mif\u001b[39;00m \u001b[39mlen\u001b[39m(servers) \u001b[39m==\u001b[39m \u001b[39m1\u001b[39m:\n",
      "File \u001b[1;32mc:\\Users\\Barak\\AppData\\Local\\Programs\\Python\\Python312\\Lib\\site-packages\\pymongo\\synchronous\\topology.py:283\u001b[0m, in \u001b[0;36mTopology.select_servers\u001b[1;34m(self, selector, operation, server_selection_timeout, address, operation_id)\u001b[0m\n\u001b[0;32m    280\u001b[0m     server_timeout \u001b[39m=\u001b[39m server_selection_timeout\n\u001b[0;32m    282\u001b[0m \u001b[39mwith\u001b[39;00m \u001b[39mself\u001b[39m\u001b[39m.\u001b[39m_lock:\n\u001b[1;32m--> 283\u001b[0m     server_descriptions \u001b[39m=\u001b[39m \u001b[39mself\u001b[39;49m\u001b[39m.\u001b[39;49m_select_servers_loop(\n\u001b[0;32m    284\u001b[0m         selector, server_timeout, operation, operation_id, address\n\u001b[0;32m    285\u001b[0m     )\n\u001b[0;32m    287\u001b[0m     \u001b[39mreturn\u001b[39;00m [\n\u001b[0;32m    288\u001b[0m         cast(Server, \u001b[39mself\u001b[39m\u001b[39m.\u001b[39mget_server_by_address(sd\u001b[39m.\u001b[39maddress)) \u001b[39mfor\u001b[39;00m sd \u001b[39min\u001b[39;00m server_descriptions\n\u001b[0;32m    289\u001b[0m     ]\n",
      "File \u001b[1;32mc:\\Users\\Barak\\AppData\\Local\\Programs\\Python\\Python312\\Lib\\site-packages\\pymongo\\synchronous\\topology.py:357\u001b[0m, in \u001b[0;36mTopology._select_servers_loop\u001b[1;34m(self, selector, timeout, operation, operation_id, address)\u001b[0m\n\u001b[0;32m    351\u001b[0m \u001b[39mself\u001b[39m\u001b[39m.\u001b[39m_request_check_all()\n\u001b[0;32m    353\u001b[0m \u001b[39m# Release the lock and wait for the topology description to\u001b[39;00m\n\u001b[0;32m    354\u001b[0m \u001b[39m# change, or for a timeout. We won't miss any changes that\u001b[39;00m\n\u001b[0;32m    355\u001b[0m \u001b[39m# came after our most recent apply_selector call, since we've\u001b[39;00m\n\u001b[0;32m    356\u001b[0m \u001b[39m# held the lock until now.\u001b[39;00m\n\u001b[1;32m--> 357\u001b[0m \u001b[39mself\u001b[39;49m\u001b[39m.\u001b[39;49m_condition\u001b[39m.\u001b[39;49mwait(common\u001b[39m.\u001b[39;49mMIN_HEARTBEAT_INTERVAL)\n\u001b[0;32m    358\u001b[0m \u001b[39mself\u001b[39m\u001b[39m.\u001b[39m_description\u001b[39m.\u001b[39mcheck_compatible()\n\u001b[0;32m    359\u001b[0m now \u001b[39m=\u001b[39m time\u001b[39m.\u001b[39mmonotonic()\n",
      "File \u001b[1;32mc:\\Users\\Barak\\AppData\\Local\\Programs\\Python\\Python312\\Lib\\threading.py:359\u001b[0m, in \u001b[0;36mCondition.wait\u001b[1;34m(self, timeout)\u001b[0m\n\u001b[0;32m    357\u001b[0m \u001b[39melse\u001b[39;00m:\n\u001b[0;32m    358\u001b[0m     \u001b[39mif\u001b[39;00m timeout \u001b[39m>\u001b[39m \u001b[39m0\u001b[39m:\n\u001b[1;32m--> 359\u001b[0m         gotit \u001b[39m=\u001b[39m waiter\u001b[39m.\u001b[39;49macquire(\u001b[39mTrue\u001b[39;49;00m, timeout)\n\u001b[0;32m    360\u001b[0m     \u001b[39melse\u001b[39;00m:\n\u001b[0;32m    361\u001b[0m         gotit \u001b[39m=\u001b[39m waiter\u001b[39m.\u001b[39macquire(\u001b[39mFalse\u001b[39;00m)\n",
      "\u001b[1;31mKeyboardInterrupt\u001b[0m: "
     ]
    }
   ],
   "source": [
    "db_uri = os.getenv('MONGO_DB_URI')\n",
    "\n",
    "# Create a new client and connect to the server\n",
    "client = MongoClient(db_uri, server_api=ServerApi('1'))\n",
    "# Send a ping to confirm a successful connection\n",
    "try:\n",
    "    client.admin.command('ping')\n",
    "    print(\"Pinged your deployment. You successfully connected to MongoDB!\")\n",
    "except Exception as e:\n",
    "    print(e)\n",
    "    \n",
    "\n",
    "\n",
    "db = client.db\n",
    "collection = db.cars"
   ]
  }
 ],
 "metadata": {
  "kernelspec": {
   "display_name": "Python 3",
   "language": "python",
   "name": "python3"
  },
  "language_info": {
   "codemirror_mode": {
    "name": "ipython",
    "version": 3
   },
   "file_extension": ".py",
   "mimetype": "text/x-python",
   "name": "python",
   "nbconvert_exporter": "python",
   "pygments_lexer": "ipython3",
   "version": "3.12.6"
  },
  "orig_nbformat": 4
 },
 "nbformat": 4,
 "nbformat_minor": 2
}
